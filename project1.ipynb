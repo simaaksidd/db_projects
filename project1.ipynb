{
 "cells": [
  {
   "cell_type": "code",
   "execution_count": 5,
   "id": "2b9677fd-a3e1-48cb-862e-c1870a3dd6ee",
   "metadata": {},
   "outputs": [
    {
     "name": "stdout",
     "output_type": "stream",
     "text": [
      "env: INSTANCE=mysql\n"
     ]
    }
   ],
   "source": [
    "%env INSTANCE=mysql"
   ]
  },
  {
   "cell_type": "code",
   "execution_count": 6,
   "id": "49f34b05-3944-478a-aa1d-83d9e11ed998",
   "metadata": {},
   "outputs": [],
   "source": [
    "!mysql < /home/jupyter/sakila/sakila-database.sql"
   ]
  },
  {
   "cell_type": "code",
   "execution_count": 7,
   "id": "049d00ee-a39f-49d8-bac6-bfc7402d2ead",
   "metadata": {},
   "outputs": [],
   "source": [
    "!mysql < /home/jupyter/sakila/sakila-data.sql"
   ]
  },
  {
   "cell_type": "code",
   "execution_count": 8,
   "id": "265127f5-fa30-4c20-9e4d-ec5b8eb8e6b8",
   "metadata": {},
   "outputs": [
    {
     "name": "stdout",
     "output_type": "stream",
     "text": [
      "+----------+\n",
      "| count(*) |\n",
      "+----------+\n",
      "|      200 |\n",
      "+----------+\n"
     ]
    }
   ],
   "source": [
    "!mysql sakila -e \"select count(*) from actor\""
   ]
  },
  {
   "cell_type": "code",
   "execution_count": 9,
   "id": "0e37f9d1-c380-4ed1-9b09-280cccd313b7",
   "metadata": {},
   "outputs": [
    {
     "name": "stdout",
     "output_type": "stream",
     "text": [
      "+----------+\n",
      "| count(*) |\n",
      "+----------+\n",
      "|      603 |\n",
      "+----------+\n"
     ]
    }
   ],
   "source": [
    "!mysql sakila -e \"select count(*) from address\""
   ]
  },
  {
   "cell_type": "code",
   "execution_count": 10,
   "id": "f54201c2-d2b1-4331-ba23-f6be898cfbd3",
   "metadata": {},
   "outputs": [
    {
     "name": "stdout",
     "output_type": "stream",
     "text": [
      "+----------+\n",
      "| count(*) |\n",
      "+----------+\n",
      "|      600 |\n",
      "+----------+\n"
     ]
    }
   ],
   "source": [
    "!mysql sakila -e \"select count(*) from city\""
   ]
  },
  {
   "cell_type": "code",
   "execution_count": 11,
   "id": "423f101f-3509-4562-bf98-6717ff8f1161",
   "metadata": {},
   "outputs": [
    {
     "name": "stdout",
     "output_type": "stream",
     "text": [
      "+----------+\n",
      "| count(*) |\n",
      "+----------+\n",
      "|      109 |\n",
      "+----------+\n"
     ]
    }
   ],
   "source": [
    "!mysql sakila -e \"select count(*) from country\""
   ]
  },
  {
   "cell_type": "code",
   "execution_count": 12,
   "id": "cf2a811b-46f9-401e-a596-1d57f22ec55d",
   "metadata": {},
   "outputs": [
    {
     "name": "stdout",
     "output_type": "stream",
     "text": [
      "+----------+\n",
      "| count(*) |\n",
      "+----------+\n",
      "|      599 |\n",
      "+----------+\n"
     ]
    }
   ],
   "source": [
    "!mysql sakila -e \"select count(*) from customer\""
   ]
  },
  {
   "cell_type": "code",
   "execution_count": 26,
   "id": "1364be78-3acc-48d5-b800-072d55293170",
   "metadata": {},
   "outputs": [
    {
     "name": "stdout",
     "output_type": "stream",
     "text": [
      "+----------+------------+-----------+---------------------+\n",
      "| actor_id | first_name | last_name | last_update         |\n",
      "+----------+------------+-----------+---------------------+\n",
      "|       15 | CUBA       | OLIVIER   | 2006-02-15 04:34:33 |\n",
      "|       16 | FRED       | COSTNER   | 2006-02-15 04:34:33 |\n",
      "|       17 | HELEN      | VOIGHT    | 2006-02-15 04:34:33 |\n",
      "|       18 | DAN        | TORN      | 2006-02-15 04:34:33 |\n",
      "|       19 | BOB        | FAWCETT   | 2006-02-15 04:34:33 |\n",
      "|       20 | LUCILLE    | TRACY     | 2006-02-15 04:34:33 |\n",
      "|       21 | KIRSTEN    | PALTROW   | 2006-02-15 04:34:33 |\n",
      "|       22 | ELVIS      | MARX      | 2006-02-15 04:34:33 |\n",
      "|       23 | SANDRA     | KILMER    | 2006-02-15 04:34:33 |\n",
      "|       24 | CAMERON    | STREEP    | 2006-02-15 04:34:33 |\n",
      "+----------+------------+-----------+---------------------+\n"
     ]
    }
   ],
   "source": [
    "!mysql sakila -e \"select * from actor limit 14, 10\""
   ]
  },
  {
   "cell_type": "code",
   "execution_count": 24,
   "id": "4de50357-fac7-460f-ba48-430147202c58",
   "metadata": {},
   "outputs": [
    {
     "name": "stdout",
     "output_type": "stream",
     "text": [
      "+------------+-----------------------+----------+----------------------+---------+-------------+--------------+---------------------------+---------------------+\n",
      "| address_id | address               | address2 | district             | city_id | postal_code | phone        | location                  | last_update         |\n",
      "+------------+-----------------------+----------+----------------------+---------+-------------+--------------+---------------------------+---------------------+\n",
      "|         15 | 1542 Tarlac Parkway   |          | Kanagawa             |     440 | 1027        | 635297277345 |     \u0001\u0001   ���|ka@k}6\u0017$�A@      | 2014-09-25 22:31:53 |\n",
      "|         16 | 808 Bhopal Manor      |          | Haryana              |     582 | 10672       | 465887807014 |     \u0001\u0001                    | 2014-09-25 22:31:30 |\n",
      "|         17 | 270 Amroha Parkway    |          | Osmaniye             |     384 | 29610       | 695479687538 |     \u0001\u0001   \u001fClU�\u001fB@��~�B@     | 2014-09-25 22:33:27 |\n",
      "|         18 | 770 Bydgoszcz Avenue  |          | California           |     120 | 16266       | 517338314235 |     \u0001\u0001   mc���Q^�L\u0004\u00059�ZC@      | 2014-09-25 22:33:47 |\n",
      "|         19 | 419 Iligan Lane       |          | Madhya Pradesh       |      76 | 72878       | 990911107354 |     \u0001\u0001   ��\u0013\u0003�YS@��\u000f�3A7@       | 2014-09-25 22:31:13 |\n",
      "|         20 | 360 Toulouse Parkway  |          | England              |     495 | 54308       | 949312333307 |     \u0001\u0001   �\u000f�����?�ϫK��I@           | 2014-09-25 22:33:40 |\n",
      "|         21 | 270 Toulon Boulevard  |          | Kalmykia             |     156 | 81766       | 407752414682 |     \u0001\u0001   �\u000b",
      "�G� F@1mIXe'G@    | 2014-09-25 22:32:48 |\n",
      "|         22 | 320 Brest Avenue      |          | Kaduna               |     252 | 43331       | 747791594069 |     \u0001\u0001   m4%���\u001d",
      "@b?�2c\u000b",
      "%@     | 2014-09-25 22:32:25 |\n",
      "|         23 | 1417 Lancaster Avenue |          | Northern Cape        |     267 | 72192       | 272572357893 |     \u0001\u0001   ����'�8@M�V�u�<�          | 2014-09-25 22:33:03 |\n",
      "|         24 | 1688 Okara Way        |          | Nothwest Border Prov |     327 | 21954       | 144453869132 |     \u0001\u0001                    | 2014-09-25 22:32:30 |\n",
      "+------------+-----------------------+----------+----------------------+---------+-------------+--------------+---------------------------+---------------------+\n"
     ]
    }
   ],
   "source": [
    "!mysql sakila -e \"select * from address limit 14, 10\""
   ]
  },
  {
   "cell_type": "code",
   "execution_count": 25,
   "id": "7e35ed66-c54f-4a7c-8ba2-1d3b7d2211f9",
   "metadata": {},
   "outputs": [
    {
     "name": "stdout",
     "output_type": "stream",
     "text": [
      "+---------+-----------------------+------------+---------------------+\n",
      "| city_id | city                  | country_id | last_update         |\n",
      "+---------+-----------------------+------------+---------------------+\n",
      "|      15 | al-Qadarif            |         89 | 2006-02-15 04:45:25 |\n",
      "|      16 | al-Qatif              |         82 | 2006-02-15 04:45:25 |\n",
      "|      17 | Alessandria           |         49 | 2006-02-15 04:45:25 |\n",
      "|      18 | Allappuzha (Alleppey) |         44 | 2006-02-15 04:45:25 |\n",
      "|      19 | Allende               |         60 | 2006-02-15 04:45:25 |\n",
      "|      20 | Almirante Brown       |          6 | 2006-02-15 04:45:25 |\n",
      "|      21 | Alvorada              |         15 | 2006-02-15 04:45:25 |\n",
      "|      22 | Ambattur              |         44 | 2006-02-15 04:45:25 |\n",
      "|      23 | Amersfoort            |         67 | 2006-02-15 04:45:25 |\n",
      "|      24 | Amroha                |         44 | 2006-02-15 04:45:25 |\n",
      "+---------+-----------------------+------------+---------------------+\n"
     ]
    }
   ],
   "source": [
    "!mysql sakila -e \"select * from city limit 14, 10\""
   ]
  },
  {
   "cell_type": "code",
   "execution_count": 27,
   "id": "005cb014-ffa2-4d74-8587-97e96e8e95bc",
   "metadata": {},
   "outputs": [
    {
     "name": "stdout",
     "output_type": "stream",
     "text": [
      "+------------+----------+---------------------+\n",
      "| country_id | country  | last_update         |\n",
      "+------------+----------+---------------------+\n",
      "|         15 | Brazil   | 2006-02-15 04:44:00 |\n",
      "|         16 | Brunei   | 2006-02-15 04:44:00 |\n",
      "|         17 | Bulgaria | 2006-02-15 04:44:00 |\n",
      "|         18 | Cambodia | 2006-02-15 04:44:00 |\n",
      "|         19 | Cameroon | 2006-02-15 04:44:00 |\n",
      "|         20 | Canada   | 2006-02-15 04:44:00 |\n",
      "|         21 | Chad     | 2006-02-15 04:44:00 |\n",
      "|         22 | Chile    | 2006-02-15 04:44:00 |\n",
      "|         23 | China    | 2006-02-15 04:44:00 |\n",
      "|         24 | Colombia | 2006-02-15 04:44:00 |\n",
      "+------------+----------+---------------------+\n"
     ]
    }
   ],
   "source": [
    "!mysql sakila -e \"select * from country limit 14, 10\""
   ]
  },
  {
   "cell_type": "code",
   "execution_count": 28,
   "id": "e7bf74f2-d910-4cc6-bcf4-a1b1564600ea",
   "metadata": {},
   "outputs": [
    {
     "name": "stdout",
     "output_type": "stream",
     "text": [
      "+-------------+----------+------------+-----------+------------------------------------+------------+--------+---------------------+---------------------+\n",
      "| customer_id | store_id | first_name | last_name | email                              | address_id | active | create_date         | last_update         |\n",
      "+-------------+----------+------------+-----------+------------------------------------+------------+--------+---------------------+---------------------+\n",
      "|          15 |        1 | HELEN      | HARRIS    | HELEN.HARRIS@sakilacustomer.org    |         19 |      1 | 2006-02-14 22:04:36 | 2006-02-15 04:57:20 |\n",
      "|          16 |        2 | SANDRA     | MARTIN    | SANDRA.MARTIN@sakilacustomer.org   |         20 |      0 | 2006-02-14 22:04:36 | 2006-02-15 04:57:20 |\n",
      "|          17 |        1 | DONNA      | THOMPSON  | DONNA.THOMPSON@sakilacustomer.org  |         21 |      1 | 2006-02-14 22:04:36 | 2006-02-15 04:57:20 |\n",
      "|          18 |        2 | CAROL      | GARCIA    | CAROL.GARCIA@sakilacustomer.org    |         22 |      1 | 2006-02-14 22:04:36 | 2006-02-15 04:57:20 |\n",
      "|          19 |        1 | RUTH       | MARTINEZ  | RUTH.MARTINEZ@sakilacustomer.org   |         23 |      1 | 2006-02-14 22:04:36 | 2006-02-15 04:57:20 |\n",
      "|          20 |        2 | SHARON     | ROBINSON  | SHARON.ROBINSON@sakilacustomer.org |         24 |      1 | 2006-02-14 22:04:36 | 2006-02-15 04:57:20 |\n",
      "|          21 |        1 | MICHELLE   | CLARK     | MICHELLE.CLARK@sakilacustomer.org  |         25 |      1 | 2006-02-14 22:04:36 | 2006-02-15 04:57:20 |\n",
      "|          22 |        1 | LAURA      | RODRIGUEZ | LAURA.RODRIGUEZ@sakilacustomer.org |         26 |      1 | 2006-02-14 22:04:36 | 2006-02-15 04:57:20 |\n",
      "|          23 |        2 | SARAH      | LEWIS     | SARAH.LEWIS@sakilacustomer.org     |         27 |      1 | 2006-02-14 22:04:36 | 2006-02-15 04:57:20 |\n",
      "|          24 |        2 | KIMBERLY   | LEE       | KIMBERLY.LEE@sakilacustomer.org    |         28 |      1 | 2006-02-14 22:04:36 | 2006-02-15 04:57:20 |\n",
      "+-------------+----------+------------+-----------+------------------------------------+------------+--------+---------------------+---------------------+\n"
     ]
    }
   ],
   "source": [
    "!mysql sakila -e \"select * from customer limit 14, 10\""
   ]
  },
  {
   "cell_type": "markdown",
   "id": "7f926713-98ca-45f0-b559-75d4f0f7c76f",
   "metadata": {},
   "source": [
    "We are going to use a WHERE and ORDER BY clause on the table actor to show the first and last name of the actors where the actor id is less than 20 according to alphabetical order by last name, then by first name\n",
    "\n",
    "in other words we are going to show the first and last names of the actors according where the acotrs are listed alphabetically by last name, but only the first 20 actors"
   ]
  },
  {
   "cell_type": "code",
   "execution_count": 31,
   "id": "2dfa1753-7746-4a04-8576-59022961033f",
   "metadata": {},
   "outputs": [
    {
     "name": "stdout",
     "output_type": "stream",
     "text": [
      "+------------+--------------+\n",
      "| first_name | last_name    |\n",
      "+------------+--------------+\n",
      "| VIVIEN     | BERGEN       |\n",
      "| KARL       | BERRY        |\n",
      "| ZERO       | CAGE         |\n",
      "| ED         | CHASE        |\n",
      "| FRED       | COSTNER      |\n",
      "| JENNIFER   | DAVIS        |\n",
      "| BOB        | FAWCETT      |\n",
      "| CHRISTIAN  | GABLE        |\n",
      "| PENELOPE   | GUINESS      |\n",
      "| MATTHEW    | JOHANSSON    |\n",
      "| JOHNNY     | LOLLOBRIGIDA |\n",
      "| GRACE      | MOSTEL       |\n",
      "| BETTE      | NICHOLSON    |\n",
      "| CUBA       | OLIVIER      |\n",
      "| JOE        | SWANK        |\n",
      "| DAN        | TORN         |\n",
      "| HELEN      | VOIGHT       |\n",
      "| NICK       | WAHLBERG     |\n",
      "| UMA        | WOOD         |\n",
      "+------------+--------------+\n"
     ]
    }
   ],
   "source": [
    "!mysql sakila -e \"select first_name, last_name from actor where actor_id<20 order by last_name, first_name\""
   ]
  },
  {
   "cell_type": "markdown",
   "id": "2a32f866-7735-457c-8548-7e9cc6bcb282",
   "metadata": {},
   "source": [
    "We are going to insert a new actor called Simaak Siddiqi including his actor id and when he was added (last_updated)"
   ]
  },
  {
   "cell_type": "code",
   "execution_count": 32,
   "id": "63070f61-3922-45a8-8eb1-ad3cee38d759",
   "metadata": {},
   "outputs": [],
   "source": [
    "!mysql sakila -e \"insert into actor (actor_id,first_name,last_name,last_update) values (201, 'Simaak', 'Siddiqi', now())\""
   ]
  },
  {
   "cell_type": "code",
   "execution_count": 36,
   "id": "54ba7b62-56f4-4b97-8ba9-cea36724fdfe",
   "metadata": {},
   "outputs": [
    {
     "name": "stdout",
     "output_type": "stream",
     "text": [
      "+----------+------------+-----------+---------------------+\n",
      "| actor_id | first_name | last_name | last_update         |\n",
      "+----------+------------+-----------+---------------------+\n",
      "|      201 | Simaak     | Siddiqi   | 2023-09-06 21:14:51 |\n",
      "+----------+------------+-----------+---------------------+\n"
     ]
    }
   ],
   "source": [
    "!mysql sakila -e \"select actor_id,first_name,last_name,last_update from actor where actor_id>200\""
   ]
  },
  {
   "cell_type": "markdown",
   "id": "82daeadd-b725-486b-930e-70d6aebd68cc",
   "metadata": {},
   "source": [
    "We are going to write an update statement to change the city \"Alessandria\" into \"EdwardLand\""
   ]
  },
  {
   "cell_type": "code",
   "execution_count": 37,
   "id": "9b57e1c0-d5d6-4651-97d0-ad30526bbda3",
   "metadata": {},
   "outputs": [],
   "source": [
    "!mysql sakila -e \"update city set city = 'EdwardLand' where city_id=17\""
   ]
  },
  {
   "cell_type": "code",
   "execution_count": 38,
   "id": "b2dbaa3a-d566-4d9b-af16-188c06425256",
   "metadata": {},
   "outputs": [
    {
     "name": "stdout",
     "output_type": "stream",
     "text": [
      "+------------+\n",
      "| city       |\n",
      "+------------+\n",
      "| EdwardLand |\n",
      "+------------+\n"
     ]
    }
   ],
   "source": [
    "!mysql sakila -e \"select city from city where city_id=17\""
   ]
  },
  {
   "cell_type": "markdown",
   "id": "54771f75-7410-4b41-b9da-7fc305e20fc3",
   "metadata": {},
   "source": [
    "We are going to make a delete statement that deletes German from the language table"
   ]
  },
  {
   "cell_type": "code",
   "execution_count": 54,
   "id": "e0766db0-8060-425f-8737-eea68a9bbf6a",
   "metadata": {},
   "outputs": [],
   "source": [
    "!mysql sakila -e \"delete from language where name='German'\""
   ]
  },
  {
   "cell_type": "code",
   "execution_count": 55,
   "id": "616f747b-2a16-4cac-9fd0-fe2cb0d006cc",
   "metadata": {},
   "outputs": [
    {
     "name": "stdout",
     "output_type": "stream",
     "text": [
      "+-------------+----------+---------------------+\n",
      "| language_id | name     | last_update         |\n",
      "+-------------+----------+---------------------+\n",
      "|           1 | English  | 2006-02-15 05:02:19 |\n",
      "|           2 | Italian  | 2006-02-15 05:02:19 |\n",
      "|           3 | Japanese | 2006-02-15 05:02:19 |\n",
      "|           4 | Mandarin | 2006-02-15 05:02:19 |\n",
      "|           5 | French   | 2006-02-15 05:02:19 |\n",
      "+-------------+----------+---------------------+\n"
     ]
    }
   ],
   "source": [
    "!mysql sakila -e \"select * from language\""
   ]
  },
  {
   "cell_type": "code",
   "execution_count": null,
   "id": "4f25bf51-8599-4d8e-8a57-86640b52b711",
   "metadata": {},
   "outputs": [],
   "source": []
  }
 ],
 "metadata": {
  "environment": {
   "kernel": "python3",
   "name": "common-cpu.m110",
   "type": "gcloud",
   "uri": "gcr.io/deeplearning-platform-release/base-cpu:m110"
  },
  "kernelspec": {
   "display_name": "Python 3",
   "language": "python",
   "name": "python3"
  },
  "language_info": {
   "codemirror_mode": {
    "name": "ipython",
    "version": 3
   },
   "file_extension": ".py",
   "mimetype": "text/x-python",
   "name": "python",
   "nbconvert_exporter": "python",
   "pygments_lexer": "ipython3",
   "version": "3.10.12"
  }
 },
 "nbformat": 4,
 "nbformat_minor": 5
}
