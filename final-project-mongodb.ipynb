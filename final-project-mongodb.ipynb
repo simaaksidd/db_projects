{
 "cells": [
  {
   "cell_type": "code",
   "execution_count": 12,
   "id": "77f0e4d4-3d1e-40ba-b402-3a3cd3877b35",
   "metadata": {},
   "outputs": [],
   "source": [
    "HOST = \"10.128.0.5\"\n",
    "USER = \"SimaakSidd1\"\n",
    "PORT=\"27017\"\n",
    "PW=\"REUZ3VuTRVrSpjlE\"\n",
    "DB=\"final_project\""
   ]
  },
  {
   "cell_type": "code",
   "execution_count": 13,
   "id": "292e07b3-7c6f-4119-9e71-51104f62de52",
   "metadata": {},
   "outputs": [],
   "source": [
    "from pymongo import MongoClient\n",
    "\n",
    "def connect():\n",
    "\n",
    "    url = \"mongodb://{}:{}\".format(HOST, PORT)\n",
    "    connection = MongoClient(url)\n",
    "    return connection[DB]"
   ]
  },
  {
   "cell_type": "code",
   "execution_count": 14,
   "id": "7087e12b-c80b-4f71-95bd-5da8ad09d167",
   "metadata": {},
   "outputs": [
    {
     "name": "stdout",
     "output_type": "stream",
     "text": [
      "Database(MongoClient(host=['10.128.0.5:27017'], document_class=dict, tz_aware=False, connect=True), 'final_project')\n"
     ]
    }
   ],
   "source": [
    "connection = connect()\n",
    "\n",
    "print(connection)"
   ]
  },
  {
   "cell_type": "code",
   "execution_count": 15,
   "id": "5a5cfe55-2133-4077-82fa-036f7007d318",
   "metadata": {},
   "outputs": [
    {
     "name": "stdout",
     "output_type": "stream",
     "text": [
      "Wrote 100 documents into collection\n"
     ]
    }
   ],
   "source": [
    "from pymongo import MongoClient\n",
    "\n",
    "from faker import Faker\n",
    "from faker_airtravel import AirTravelProvider\n",
    "fake = Faker()\n",
    "fake.add_provider(AirTravelProvider)\n",
    "\n",
    "from datetime import datetime\n",
    "Faker.seed(0)\n",
    "import random\n",
    "\n",
    "record=[]\n",
    "\n",
    "for i in range(100):\n",
    "    Faker.seed(i)\n",
    "    arr_date=fake.date_between()\n",
    "    arr_date_string = arr_date.strftime(\"%Y-%m-%d\")\n",
    "    \n",
    "    current_date_time = datetime.now()\n",
    "    current_date = current_date_time.date()\n",
    "\n",
    "    end_date=fake.date_between(arr_date,current_date)\n",
    "    dep_date=fake.date_between(arr_date,end_date)\n",
    "    dep_date_string = dep_date.strftime(\"%Y-%m-%d\")\n",
    "    \n",
    "    random_number = random.randint(1, 50)\n",
    "    flight_number=random.randint(1,500)\n",
    "    ticket_amount=random.uniform(100,500)\n",
    "    ticket_amount=round(ticket_amount,2)\n",
    "    stops=random.randint(0,2)\n",
    "    \n",
    "    rec1 = {\n",
    "      \"tck_id\" : i,\n",
    "      \"cust_id\" : random_number,\n",
    "      \"airline\" : fake.company(),\n",
    "      \"flight_nm\" : flight_number, \n",
    "      \"dep_airport\" : fake.airport_name(), \n",
    "      \"arr_airport\" : fake.airport_name(),#I know that theoretically this should be the same airport \n",
    "      \"dep_date\" : dep_date_string, \n",
    "      \"dep_time\" : fake.time(),\n",
    "      \"arr_date\" : arr_date_string,\n",
    "      \"arr_time\" : fake.time(),\n",
    "      \"stops\"    : stops,\n",
    "      \"tik_amt\" : ticket_amount, \n",
    "      \"curr_code\" : fake.currency_code() \n",
    "        }\n",
    "    record.append(rec1)\n",
    "\n",
    "try:\n",
    "    connection = connect()\n",
    "    collection = connection[\"ticketing\"]\n",
    "    collection.insert_many(record)\n",
    "    print(\"Wrote 100 documents into collection\")\n",
    "except Exception as e:\n",
    "    print(\"Error occurred while writing documents:\", e)"
   ]
  },
  {
   "cell_type": "code",
   "execution_count": null,
   "id": "0e95dea7-e310-46b1-8137-95d3f3d0c87b",
   "metadata": {},
   "outputs": [],
   "source": []
  },
  {
   "cell_type": "code",
   "execution_count": null,
   "id": "b17bbbae-28a2-49e4-96b2-9352dabe88d7",
   "metadata": {},
   "outputs": [],
   "source": []
  }
 ],
 "metadata": {
  "environment": {
   "kernel": "python3",
   "name": "common-cpu.m110",
   "type": "gcloud",
   "uri": "gcr.io/deeplearning-platform-release/base-cpu:m110"
  },
  "kernelspec": {
   "display_name": "Python 3",
   "language": "python",
   "name": "python3"
  },
  "language_info": {
   "codemirror_mode": {
    "name": "ipython",
    "version": 3
   },
   "file_extension": ".py",
   "mimetype": "text/x-python",
   "name": "python",
   "nbconvert_exporter": "python",
   "pygments_lexer": "ipython3",
   "version": "3.10.12"
  }
 },
 "nbformat": 4,
 "nbformat_minor": 5
}
