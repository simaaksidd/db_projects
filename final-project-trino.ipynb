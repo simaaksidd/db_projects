{
 "cells": [
  {
   "cell_type": "code",
   "execution_count": 1,
   "id": "6f250635-1b38-484e-a683-e8e5a96c8850",
   "metadata": {},
   "outputs": [],
   "source": [
    "URL=\"http://10.128.0.5:8080\""
   ]
  },
  {
   "cell_type": "code",
   "execution_count": 2,
   "id": "9bde8ecb-a0c1-4314-a91a-a8d4696d86e2",
   "metadata": {},
   "outputs": [
    {
     "name": "stdout",
     "output_type": "stream",
     "text": [
      "Query 20231206_004711_00000_m2a9b failed: Trino server is still initializing\n",
      "\n"
     ]
    }
   ],
   "source": [
    "!trino $URL --execute \"show catalogs\""
   ]
  },
  {
   "cell_type": "code",
   "execution_count": 5,
   "id": "13ca0064-ca8e-4232-b589-6b69be636cfb",
   "metadata": {},
   "outputs": [
    {
     "name": "stdout",
     "output_type": "stream",
     "text": [
      "\"college\"\n",
      "\"final_project\"\n",
      "\"information_schema\"\n",
      "\"performance_schema\"\n",
      "\"sakila\"\n"
     ]
    }
   ],
   "source": [
    "!trino $URL --execute \"show schemas from mysql\""
   ]
  },
  {
   "cell_type": "code",
   "execution_count": 28,
   "id": "4c6bb662-950d-44dc-a612-48fd839af34a",
   "metadata": {},
   "outputs": [
    {
     "name": "stdout",
     "output_type": "stream",
     "text": [
      "\"class\"\n",
      "\"instructor\"\n",
      "\"student\"\n",
      "\"teaches\"\n"
     ]
    }
   ],
   "source": [
    "!trino $URL --execute \"show tables from mysql.college\""
   ]
  },
  {
   "cell_type": "code",
   "execution_count": 24,
   "id": "399c10ed-a258-490f-bdd3-c2311a089bd8",
   "metadata": {},
   "outputs": [
    {
     "name": "stdout",
     "output_type": "stream",
     "text": [
      "\"aprilz      \",\"CS373 \",\"Software Engineering\",\"3\",\"  \"\n",
      "\"aprilz      \",\"M358K \",\"Applied Statistics\",\"3\",\"  \"\n",
      "\"bzen26      \",\"CS313E\",\"Elements of Software Engineering\",\"3\",\"B+\"\n"
     ]
    }
   ],
   "source": [
    "!trino $URL --execute \"select * from mysql.college.class limit 3\""
   ]
  },
  {
   "cell_type": "code",
   "execution_count": 33,
   "id": "1198557a-7fad-4417-9fd3-da2f06a6c406",
   "metadata": {},
   "outputs": [
    {
     "name": "stdout",
     "output_type": "stream",
     "text": [
      "\"college\"\n",
      "\"final_project\"\n",
      "\"information_schema\"\n",
      "\"pagila\"\n",
      "\"pg_catalog\"\n",
      "\"public\"\n",
      "\"shopify\"\n"
     ]
    }
   ],
   "source": [
    "!trino $URL --execute \"show schemas from postgres\""
   ]
  },
  {
   "cell_type": "code",
   "execution_count": 10,
   "id": "5bb21683-3e42-4667-8674-55653bd721a4",
   "metadata": {},
   "outputs": [
    {
     "name": "stdout",
     "output_type": "stream",
     "text": [
      "\"class\"\n",
      "\"instructor\"\n",
      "\"student\"\n",
      "\"takes\"\n",
      "\"teaches\"\n"
     ]
    }
   ],
   "source": [
    "!trino $URL --execute \"show tables from postgres.college\""
   ]
  },
  {
   "cell_type": "code",
   "execution_count": 11,
   "id": "92f37d21-3e33-4408-ba53-8cd1e5d0b560",
   "metadata": {},
   "outputs": [
    {
     "name": "stdout",
     "output_type": "stream",
     "text": [
      "\"CS327E\",\"Elements of Databases\",\"3\"\n",
      "\"CS347 \",\"Data Management\",\"3\"\n",
      "\"CS330E\",\"Elements of Software Engineering\",\"3\"\n"
     ]
    }
   ],
   "source": [
    "!trino $URL --execute \"select * from postgres.college.class limit 3\""
   ]
  },
  {
   "cell_type": "code",
   "execution_count": 12,
   "id": "e182fc90-550c-4351-af54-0edce5b0df2c",
   "metadata": {},
   "outputs": [
    {
     "name": "stdout",
     "output_type": "stream",
     "text": [
      "\"college\"\n",
      "\"final_project\"\n",
      "\"information_schema\"\n"
     ]
    }
   ],
   "source": [
    "!trino $URL --execute \"show schemas from mongo\""
   ]
  },
  {
   "cell_type": "code",
   "execution_count": 13,
   "id": "a0179e0c-6ab5-43fd-a4cf-f2a094358306",
   "metadata": {},
   "outputs": [
    {
     "name": "stdout",
     "output_type": "stream",
     "text": [
      "\"takes\"\n"
     ]
    }
   ],
   "source": [
    "!trino $URL --execute \"show tables from mongo.college\""
   ]
  },
  {
   "cell_type": "code",
   "execution_count": 14,
   "id": "ba6c86e8-79d6-4b51-8701-a9ee117faa45",
   "metadata": {},
   "outputs": [
    {
     "name": "stdout",
     "output_type": "stream",
     "text": [
      "\"kev18\",\"CS329E\"\n",
      "\"bzen26\",\"CS329E\"\n",
      "\"jc\",\"CS327E\"\n"
     ]
    }
   ],
   "source": [
    "!trino $URL --execute \"select * from mongo.college.takes limit 3\""
   ]
  },
  {
   "cell_type": "code",
   "execution_count": 15,
   "id": "d74b272f-f252-4091-94a6-3ede35456e51",
   "metadata": {},
   "outputs": [
    {
     "name": "stdout",
     "output_type": "stream",
     "text": [
      "\"college\"\n",
      "\"final_project\"\n",
      "\"information_schema\"\n",
      "\"school_enrollments\"\n",
      "\"test2\"\n"
     ]
    }
   ],
   "source": [
    "!trino $URL --execute \"show schemas from bigquery\""
   ]
  },
  {
   "cell_type": "code",
   "execution_count": 16,
   "id": "e8df5a83-957c-46c5-9d22-b71f2ff24236",
   "metadata": {},
   "outputs": [
    {
     "name": "stdout",
     "output_type": "stream",
     "text": [
      "\"class\"\n",
      "\"instructor\"\n",
      "\"instructor2\"\n",
      "\"student\"\n",
      "\"student_copy\"\n",
      "\"takes\"\n",
      "\"teaches\"\n",
      "\"v_enrollments\"\n"
     ]
    }
   ],
   "source": [
    "!trino $URL --execute \"show tables from bigquery.college\""
   ]
  },
  {
   "cell_type": "code",
   "execution_count": 17,
   "id": "df3ee8ff-e064-48b1-85e6-f5b778a1244e",
   "metadata": {},
   "outputs": [
    {
     "name": "stdout",
     "output_type": "stream",
     "text": [
      "\"neeman\",\"Joe Neeman\",\"Mathematics\"\n",
      "\"koch\",\"Hans Koch\",\"Mathematics\"\n",
      "\"mueller\",\"Peter Mueller\",\"Mathematics\"\n"
     ]
    }
   ],
   "source": [
    "!trino $URL --execute \"select * from bigquery.college.instructor limit 3\""
   ]
  },
  {
   "cell_type": "markdown",
   "id": "b1b4df6d-4c80-49e7-9955-45b255f35070",
   "metadata": {},
   "source": [
    "We changed the student table to class becauase we changed the student table a while back and it caused this error now."
   ]
  },
  {
   "cell_type": "code",
   "execution_count": 25,
   "id": "731c784f-9a74-451f-9ff3-11ee46f0c710",
   "metadata": {},
   "outputs": [
    {
     "name": "stdout",
     "output_type": "stream",
     "text": [
      "\"bzen26      \",\"CS313E\",\"Elements of Software Engineering\",\"3\",\"B+\",\"bzen26\",\"CS329E\",\"CS329E\",\"Elements of Web Programming\",\"3\",\"mitra\",\"CS329E\",\"mitra\",\"Shyamal Mitra\",\"Computer Science\"\n",
      "\"bzen26      \",\"CS313E\",\"Elements of Software Engineering\",\"3\",\"B+\",\"bzen26\",\"CS329E\",\"CS329E\",\"Elements of Web Programming\",\"3\",\"mitra\",\"CS329E\",\"mitra\",\"Shyamal Mitra\",\"Computer Science\"\n",
      "\"jc          \",\"CS331E\",\"Elements of Software Engineering\",\"3\",\"  \",\"jc\",\"CS327E\",\"CS327E\",\"Elements of Databases\",\"3\",\"scohen\",\"CS327E\",\"scohen\",\"Shirley Cohen\",\"Computer Science\"\n"
     ]
    }
   ],
   "source": [
    "!trino $URL --execute \"select * from mysql.college.class s \\\n",
    "join mongo.college.takes ta on s.sid = ta.sid \\\n",
    "join postgres.college.class c on ta.cno = c.cno \\\n",
    "join postgres.college.teaches te on c.cno = te.cno \\\n",
    "join bigquery.college.instructor i on te.tid = i.tid \\\n",
    "order by s.sid \\\n",
    "limit 3\""
   ]
  },
  {
   "cell_type": "markdown",
   "id": "2e598816-615d-4569-a989-68f82de974e2",
   "metadata": {},
   "source": [
    "# Part 2"
   ]
  },
  {
   "cell_type": "markdown",
   "id": "1db2508c-66b2-4ec8-a00c-d55388a537d2",
   "metadata": {},
   "source": [
    "## Question 1"
   ]
  },
  {
   "cell_type": "markdown",
   "id": "9cb36cdc-2efe-445a-a3c9-1fe10e815e53",
   "metadata": {},
   "source": [
    "Who are the shoppers who have reservations in a different city from their own city and who paid for their reservations in US dollars? For those shoppers, return their cust_id, email, along with their reservation count. Order the results by cust_id. Limit the results to 5 records."
   ]
  },
  {
   "cell_type": "code",
   "execution_count": 45,
   "id": "8d12b910-0ff5-4ef8-a786-8c4ec31fa188",
   "metadata": {},
   "outputs": [],
   "source": [
    "!trino $URL --execute \"select p.cust_id, p.email, count(*) from mysql.final_project.person p \\\n",
    "join mongo.final_project.ticketing t on p.cust_id = t.cust_id \\\n",
    "join postgres.final_project.reservations r on p.cust_id = r.cust_id \\\n",
    "join bigquery.final_project.currency ct on ct.curr_code = t.curr_code \\\n",
    "join bigquery.final_project.currency cr on cr.cnty_code = r.cnt_code \\\n",
    "where p.city <> r.city and ct.curr_code='USD'\\\n",
    "group by p.cust_id, p.email \\\n",
    "order by p.cust_id \\\n",
    "limit 5\""
   ]
  },
  {
   "cell_type": "code",
   "execution_count": null,
   "id": "e06b7d04-4b68-49b1-90b4-885d22168553",
   "metadata": {},
   "outputs": [],
   "source": [
    "We have no output because none of our data fits this query. "
   ]
  },
  {
   "cell_type": "code",
   "execution_count": 47,
   "id": "c143c27b-3876-44d9-abdb-45e56038ffe4",
   "metadata": {},
   "outputs": [
    {
     "name": "stdout",
     "output_type": "stream",
     "text": [
      "\"4\",\"mejiasamantha@example.net\",\"6\"\n",
      "\"6\",\"kevinanderson@example.net\",\"10\"\n",
      "\"11\",\"johnsonangela@example.org\",\"12\"\n",
      "\"19\",\"spotter@example.com\",\"3\"\n",
      "\"24\",\"angelagonzales@example.com\",\"8\"\n"
     ]
    }
   ],
   "source": [
    "!trino $URL --execute \"select p.cust_id, p.email, count(*) from mysql.final_project.person p \\\n",
    "join mongo.final_project.ticketing t on p.cust_id = t.cust_id \\\n",
    "join postgres.final_project.reservations r on p.cust_id = r.cust_id \\\n",
    "join bigquery.final_project.currency ct on ct.curr_code = t.curr_code \\\n",
    "join bigquery.final_project.currency cr on cr.cnty_code = r.cnt_code \\\n",
    "where p.city <> r.city \\\n",
    "group by p.cust_id, p.email \\\n",
    "order by p.cust_id \\\n",
    "limit 5\""
   ]
  },
  {
   "cell_type": "markdown",
   "id": "f52adf88-a459-4daf-b7b8-351a2d20abc5",
   "metadata": {},
   "source": [
    "## Question 2"
   ]
  },
  {
   "cell_type": "markdown",
   "id": "8b427439-5a64-47c0-a7a1-0666cb90fdbb",
   "metadata": {},
   "source": [
    "Who are the shoppers who have bought non-stop tickets on American Airlines with a\n",
    "departure date between 01/01/2020 and 12/31/2024? Return the shopper’s cust_id, email,\n",
    "dep_airport and dep_date. Order the results by dep_date. Limit the results to 5 records."
   ]
  },
  {
   "cell_type": "code",
   "execution_count": 88,
   "id": "2306fb9d-137d-43fd-af8f-ea7f9f5cc6c4",
   "metadata": {},
   "outputs": [
    {
     "name": "stdout",
     "output_type": "stream",
     "text": [
      "\"2\",\"jstrong@example.org\",\"Shimojishima airport\",\"2020-03-13\"\n",
      "\"35\",\"mjohnson@example.net\",\"Fort Lauderdale Hollywood International airport\",\"2020-03-13\"\n",
      "\"38\",\"thomas00@example.net\",\"Yelovaya airport\",\"2020-06-16\"\n",
      "\"4\",\"mejiasamantha@example.net\",\"Baltimore-Washington International Thurgood Mars\",\"2020-09-12\"\n",
      "\"7\",\"traceystewart@example.org\",\"Gimpo International airport\",\"2020-09-12\"\n"
     ]
    }
   ],
   "source": [
    "!trino $URL --execute \"select p.cust_id, p.email, t.dep_airport, t.dep_date from mysql.final_project.person p \\\n",
    "join mongo.final_project.ticketing t on p.cust_id = t.cust_id \\\n",
    "where t.stops=0 AND t.dep_date BETWEEN '2020-01-01' AND '2024-12-31' \\\n",
    "order by t.dep_date \\\n",
    "limit 5\""
   ]
  },
  {
   "cell_type": "markdown",
   "id": "c8a3ad1e-4e56-4098-923d-2e0c7fde623a",
   "metadata": {},
   "source": [
    "## Question 3"
   ]
  },
  {
   "cell_type": "markdown",
   "id": "8270a350-6677-48eb-b890-ef19ee083529",
   "metadata": {},
   "source": [
    "Which shoppers have reservations and tickets with matching dates such that the arr_date\n",
    "and dep_date are equal between reservations and ticketing? For such shoppers, sum up their\n",
    "pmt_amt and tik_amt and return this sum as trip_amount. Also, return the shoppers’ cust_id,\n",
    "email, pmt_amt, tik_amt. Order the results by trip_amount in descending order. Limit the results\n",
    "to 5 records.\n"
   ]
  },
  {
   "cell_type": "code",
   "execution_count": 79,
   "id": "5cefc112-4641-442c-bcf3-826c487d4551",
   "metadata": {},
   "outputs": [
    {
     "name": "stdout",
     "output_type": "stream",
     "text": [
      "\"44\",\"costachristopher@example.com\",\"2262\",\"15620\",\"17882\"\n",
      "\"26\",\"kelly33@example.com\",\"1472\",\"6336\",\"7808\"\n",
      "\"5\",\"ljames@example.com\",\"178\",\"758\",\"936\"\n",
      "\"10\",\"michael82@example.com\",\"252\",\"480\",\"732\"\n",
      "\"45\",\"davidsonemily@example.net\",\"225\",\"45\",\"270\"\n"
     ]
    }
   ],
   "source": [
    "!trino $URL --execute \"select p.cust_id, p.email, sum(cast(r.pmt_amt as decimal)) as pmt_amt, sum(cast(t.tik_amt as int)) as tik_amt, sum(cast(r.pmt_amt as decimal)+tik_amt) as trip_amount from mysql.final_project.person p \\\n",
    "join mongo.final_project.ticketing t on p.cust_id = t.cust_id \\\n",
    "join postgres.final_project.reservations r on p.cust_id = r.cust_id \\\n",
    "join bigquery.final_project.currency ct on ct.curr_code = t.curr_code \\\n",
    "join bigquery.final_project.currency cr on cr.cnty_code = r.cnt_code \\\n",
    "where t.dep_date>=r.dep_date and t.arr_date<=r.arr_date \\\n",
    "group by p.cust_id, p.email \\\n",
    "order by trip_amount desc \\\n",
    "limit 5\""
   ]
  },
  {
   "cell_type": "markdown",
   "id": "62982f37-e049-4b3d-81be-007ce3a58594",
   "metadata": {},
   "source": [
    "# PART 3"
   ]
  },
  {
   "cell_type": "markdown",
   "id": "dcf3585a-6919-42a0-b70d-a92b30e69113",
   "metadata": {
    "tags": []
   },
   "source": [
    "### Adding stops as a column in the ticketing table (mongo) (DDL and DML) (create copy of ticketing table with all its data and extra stops column and then deletes old one and renames new one)"
   ]
  },
  {
   "cell_type": "code",
   "execution_count": 82,
   "id": "2c5a6f02-f08e-47db-872c-c2e7b0e5b4d0",
   "metadata": {},
   "outputs": [
    {
     "name": "stdout",
     "output_type": "stream",
     "text": [
      "CREATE TABLE: 401 rows\n"
     ]
    }
   ],
   "source": [
    "!trino $URL --execute \"create table mongo.final_project.ticket as select *, cast(floor(rand()*3) as int) as stops from mongo.final_project.ticketing\""
   ]
  },
  {
   "cell_type": "code",
   "execution_count": 86,
   "id": "b596d064-8d35-4e7a-9805-c71333b26f0f",
   "metadata": {},
   "outputs": [
    {
     "name": "stdout",
     "output_type": "stream",
     "text": [
      "DROP TABLE\n"
     ]
    }
   ],
   "source": [
    "!trino $URL --execute \"drop table mongo.final_project.ticketing;\""
   ]
  },
  {
   "cell_type": "code",
   "execution_count": 87,
   "id": "9bd68147-a63e-4cba-ad34-d916788f2337",
   "metadata": {},
   "outputs": [
    {
     "name": "stdout",
     "output_type": "stream",
     "text": [
      "RENAME TABLE\n"
     ]
    }
   ],
   "source": [
    "!trino $URL --execute \"alter table mongo.final_project.ticket rename to mongo.final_project.ticketing\""
   ]
  },
  {
   "cell_type": "markdown",
   "id": "c04e86ef-7775-4b44-bcf5-9da900dcced6",
   "metadata": {},
   "source": [
    "### Adding fav_food as a column in the ticketing table (mysql) (DDL)"
   ]
  },
  {
   "cell_type": "code",
   "execution_count": 30,
   "id": "93089793-05d6-407a-9f01-1b13b7c5bcc7",
   "metadata": {},
   "outputs": [
    {
     "name": "stdout",
     "output_type": "stream",
     "text": [
      "ADD COLUMN\n"
     ]
    }
   ],
   "source": [
    "!trino $URL --execute \"ALTER TABLE mysql.final_project.person add column fav_food VARCHAR(50);\""
   ]
  },
  {
   "cell_type": "markdown",
   "id": "8b21772b-902c-4a12-9ea6-42df6a6da8fd",
   "metadata": {},
   "source": [
    "### Updating everyone's fav_food to be Spaghetti and Meatballs (DML)"
   ]
  },
  {
   "cell_type": "code",
   "execution_count": 35,
   "id": "44a1ce53-9342-40ca-ab8f-31a45d93679e",
   "metadata": {},
   "outputs": [
    {
     "name": "stdout",
     "output_type": "stream",
     "text": [
      "UPDATE: 50 rows\n"
     ]
    }
   ],
   "source": [
    "!trino $URL --execute \"UPDATE mysql.final_project.person SET fav_food = 'Spaghetti and Meatballs';\""
   ]
  },
  {
   "cell_type": "markdown",
   "id": "822435c8-545e-47fc-9c39-35cb0760e441",
   "metadata": {},
   "source": [
    "### Select everyone from TX who has a favorite food of Spaghetti and Meatballs (Select)"
   ]
  },
  {
   "cell_type": "code",
   "execution_count": 38,
   "id": "cc4683eb-810a-4e94-9423-1f76a90759ff",
   "metadata": {},
   "outputs": [
    {
     "name": "stdout",
     "output_type": "stream",
     "text": [
      "\"Tina\",\"Brown\"\n"
     ]
    }
   ],
   "source": [
    "!trino $URL --execute \"select p.first_name, p.last_name from mysql.final_project.person p \\\n",
    "where p.fav_food = 'Spaghetti and Meatballs' and p.state = 'TX'\""
   ]
  },
  {
   "cell_type": "markdown",
   "id": "9ae8f0f8-c9be-4f28-9145-7af13ae847e0",
   "metadata": {},
   "source": [
    "### Add column stars (postgres) (DDL)"
   ]
  },
  {
   "cell_type": "code",
   "execution_count": 50,
   "id": "166769d6-9246-44a9-8962-d21542ace4be",
   "metadata": {},
   "outputs": [
    {
     "name": "stdout",
     "output_type": "stream",
     "text": [
      "ADD COLUMN\n"
     ]
    }
   ],
   "source": [
    "!trino $URL --execute \"ALTER TABLE postgres.final_project.reservations add column stars INT;\""
   ]
  },
  {
   "cell_type": "markdown",
   "id": "4194ec9f-aaac-4405-a34b-57e82abf5fe3",
   "metadata": {},
   "source": [
    "### update stars to be 4 for all (DML)"
   ]
  },
  {
   "cell_type": "code",
   "execution_count": 53,
   "id": "c4136013-6f47-431e-a71b-5ac74065e202",
   "metadata": {},
   "outputs": [
    {
     "name": "stdout",
     "output_type": "stream",
     "text": [
      "UPDATE: 100 rows\n"
     ]
    }
   ],
   "source": [
    "!trino $URL --execute \"UPDATE postgres.final_project.reservations SET stars = 4;\""
   ]
  },
  {
   "cell_type": "markdown",
   "id": "aef88a13-675a-4e19-bab2-a0eab231a28b",
   "metadata": {},
   "source": [
    "### find all reservations where the stars is greater than 3 and the state is Texas. (select)"
   ]
  },
  {
   "cell_type": "code",
   "execution_count": 56,
   "id": "62122ee5-a4c7-45bc-a682-2934278d4640",
   "metadata": {},
   "outputs": [
    {
     "name": "stdout",
     "output_type": "stream",
     "text": [
      "\"Snyder and Sons\",\"Lane-Romero LLC\"\n",
      "\"Parker-Morales\",\"Leon-Sullivan LLC\"\n"
     ]
    }
   ],
   "source": [
    "!trino $URL --execute \"select r.prp_nm, r.prp_ch from postgres.final_project.reservations r where r.stars > 3 and state = 'TX' \""
   ]
  },
  {
   "cell_type": "markdown",
   "id": "663fd498-16df-4e54-9d44-2882ada40882",
   "metadata": {},
   "source": [
    "### Adding exchange_rate_to_USD as a column in the ticketing table (bigquery) (DDL and DML) (same method as mongo, but for some reason bigquery does not like renaming tables, so had to copy the new table with the old name and drop the new table)"
   ]
  },
  {
   "cell_type": "code",
   "execution_count": 42,
   "id": "e37f6666-c94e-42db-bb62-392d948c41cd",
   "metadata": {},
   "outputs": [
    {
     "name": "stdout",
     "output_type": "stream",
     "text": [
      "CREATE TABLE: 120 rows\n"
     ]
    }
   ],
   "source": [
    "!trino $URL --execute \"create table bigquery.final_project.curr as select *, (rand()*3) as exchange_rate_to_USD from bigquery.final_project.currency\""
   ]
  },
  {
   "cell_type": "code",
   "execution_count": 43,
   "id": "20ae10ec-0c8b-478d-b760-1888f64e4b41",
   "metadata": {},
   "outputs": [
    {
     "name": "stdout",
     "output_type": "stream",
     "text": [
      "DROP TABLE\n"
     ]
    }
   ],
   "source": [
    "!trino $URL --execute \"drop table bigquery.final_project.currency;\""
   ]
  },
  {
   "cell_type": "code",
   "execution_count": 46,
   "id": "2e9ecaab-8b32-42ce-b079-a7d252c9d085",
   "metadata": {},
   "outputs": [
    {
     "name": "stdout",
     "output_type": "stream",
     "text": [
      "CREATE TABLE: 120 rows\n"
     ]
    }
   ],
   "source": [
    "!trino $URL --execute \"create table bigquery.final_project.currency as select * from bigquery.final_project.curr\""
   ]
  },
  {
   "cell_type": "code",
   "execution_count": 47,
   "id": "81bb56f9-d9e8-485b-b792-d5eb336cef31",
   "metadata": {},
   "outputs": [
    {
     "name": "stdout",
     "output_type": "stream",
     "text": [
      "DROP TABLE\n"
     ]
    }
   ],
   "source": [
    "!trino $URL --execute \"drop table bigquery.final_project.curr;\""
   ]
  },
  {
   "cell_type": "markdown",
   "id": "e6eb23b1-4022-4f02-8980-d96c8035f175",
   "metadata": {},
   "source": [
    "### select all currencies that have an exchange rate over 2 (select)"
   ]
  },
  {
   "cell_type": "code",
   "execution_count": 48,
   "id": "ee685cb9-c2b6-461d-bc3e-683f0deecf4b",
   "metadata": {},
   "outputs": [
    {
     "name": "stdout",
     "output_type": "stream",
     "text": [
      "\"Armenian_dram\",\"2.5432259065853313\"\n",
      "\"Azerbaijani_manat\",\"2.687999794141315\"\n",
      "\"Brunei_dollar\",\"2.231766536360813\"\n",
      "\"Bolivian_boliviano\",\"2.2176345817300946\"\n",
      "\"Brazilian_real\",\"2.317745617380419\"\n"
     ]
    }
   ],
   "source": [
    "!trino $URL --execute \"select curr_name, exchange_rate_to_USD from bigquery.final_project.currency where exchange_rate_to_USD >2 limit 5\""
   ]
  },
  {
   "cell_type": "markdown",
   "id": "7c51bca3-4564-4a45-b2cc-d6e276508b9f",
   "metadata": {
    "tags": []
   },
   "source": [
    "### select statement that looks for a person that lives in delaware and made a reservation using JEP, or Jersey Pound and returns cust_id, cust_state, state of reservation, the pmt_amt, the number of stops in flight, and the currency used"
   ]
  },
  {
   "cell_type": "code",
   "execution_count": 114,
   "id": "b6d721ab-479f-49d4-9b6b-15beca579ba2",
   "metadata": {},
   "outputs": [
    {
     "name": "stdout",
     "output_type": "stream",
     "text": [
      "\"28\",\"DE\",\"FM\",\"52.97\",\"2\",\"Jersey_pound\"\n",
      "\"28\",\"DE\",\"FM\",\"52.97\",\"1\",\"Jersey_pound\"\n",
      "\"28\",\"DE\",\"FM\",\"52.97\",\"1\",\"Jersey_pound\"\n",
      "\"28\",\"DE\",\"FM\",\"52.97\",\"1\",\"Jersey_pound\"\n",
      "\"28\",\"DE\",\"FM\",\"52.97\",\"1\",\"Jersey_pound\"\n"
     ]
    }
   ],
   "source": [
    "!trino $URL --execute \"select p.cust_id, p.state, r.state, r.pmt_amt, t.stops, cr.curr_name from mysql.final_project.person p \\\n",
    "join mongo.final_project.ticketing t on p.cust_id = t.cust_id \\\n",
    "join postgres.final_project.reservations r on p.cust_id = r.cust_id \\\n",
    "join bigquery.final_project.currency cr on cr.cnty_code = r.cnt_code \\\n",
    "where p.state='DE' and cr.curr_code='JEP' \\\n",
    "order by p.cust_id \\\n",
    "limit 5\""
   ]
  },
  {
   "cell_type": "markdown",
   "id": "af16b076-9a8a-458c-a2f7-6efa7d842975",
   "metadata": {},
   "source": [
    "### select statement that looks for a person that spent below average in a reservation and above average in the ticket (subquery)"
   ]
  },
  {
   "cell_type": "code",
   "execution_count": 111,
   "id": "93abc433-0e27-42e8-8805-50d706e315d7",
   "metadata": {},
   "outputs": [
    {
     "name": "stdout",
     "output_type": "stream",
     "text": [
      "\"2\",\"Kathryn\",\"Johnson\",\"15.12\",\"427\"\n",
      "\"2\",\"Kathryn\",\"Johnson\",\"19.23\",\"357\"\n",
      "\"2\",\"Kathryn\",\"Johnson\",\"15.12\",\"398\"\n",
      "\"2\",\"Kathryn\",\"Johnson\",\"15.12\",\"474\"\n",
      "\"2\",\"Kathryn\",\"Johnson\",\"19.23\",\"427\"\n",
      "\"2\",\"Kathryn\",\"Johnson\",\"19.23\",\"474\"\n",
      "\"2\",\"Kathryn\",\"Johnson\",\"19.23\",\"398\"\n",
      "\"2\",\"Kathryn\",\"Johnson\",\"19.23\",\"449\"\n",
      "\"2\",\"Kathryn\",\"Johnson\",\"15.12\",\"357\"\n",
      "\"2\",\"Kathryn\",\"Johnson\",\"15.12\",\"449\"\n",
      "\"3\",\"Cheryl\",\"Poole\",\"19.94\",\"223\"\n",
      "\"3\",\"Cheryl\",\"Poole\",\"19.94\",\"346\"\n",
      "\"3\",\"Cheryl\",\"Poole\",\"19.94\",\"405\"\n",
      "\"5\",\"Zachary\",\"Galvan\",\"15.48\",\"235\"\n",
      "\"5\",\"Zachary\",\"Galvan\",\"15.48\",\"340\"\n",
      "\"5\",\"Zachary\",\"Galvan\",\"15.48\",\"264\"\n",
      "\"5\",\"Zachary\",\"Galvan\",\"15.48\",\"328\"\n",
      "\"5\",\"Zachary\",\"Galvan\",\"15.48\",\"379\"\n",
      "\"8\",\"William\",\"Thompson\",\"45.18\",\"412\"\n",
      "\"8\",\"William\",\"Thompson\",\"48.41\",\"412\"\n"
     ]
    }
   ],
   "source": [
    "!trino $URL --execute \"select p.cust_id, p.first_name, p.last_name, r.pmt_amt, t.tik_amt from mysql.final_project.person p \\\n",
    "join postgres.final_project.reservations r on p.cust_id = r.cust_id \\\n",
    "join mongo.final_project.ticketing t on p.cust_id = t.cust_id \\\n",
    "where cast(r.pmt_amt as decimal)<(select avg(cast(pmt_amt as decimal)) from postgres.final_project.reservations)\\\n",
    "and cast(t.tik_amt as decimal)>(select avg(cast(tik_amt as decimal)) from mongo.final_project.ticketing) \\\n",
    "group by p.cust_id, p.first_name, p.last_name, r. pmt_amt, t.tik_amt\\\n",
    "order by p.cust_id \\\n",
    "limit 20\""
   ]
  },
  {
   "cell_type": "markdown",
   "id": "0238aff6-3814-4d82-9067-d85b5c6f788d",
   "metadata": {},
   "source": [
    "Initially we were doing question 2 and realized we had no stops column in ticketing because we forgot to add it. Instead of adding it in mongo, we decided to demonstrate trino's DDL and DML and select ability. We could not use alter table for some reason, so we had to use a different method. We created table ticket which was a copy of ticketing with the stops column added to it. Then we dropped ticketing and renamed ticket to ticketing. \n",
    "First we ran mySQL DDL, DML, and select statements. creating, altering, and modyfying the table against mysql to make a favorite food column. All of the operations were allowed under trinos functionality. Then we selected everyone who was in Texas that had a favorite food of Spaghetti and Meatballs. Then we created against Postgres, and it was also under trino's finctionality, but when we tried to make a stars column have a random number from 1-5, trino did not support such complex operations. We selected reservations at restaurants who were in texas and above 3 stars. \n",
    "For bigquery, we tried to add a column into the currency table called exchange_rate_to_USD. However, we ran into the same problem as mongo, where for some reason we could not simply use the alter command to add a column to the table. We instead had to make a new table called curr with all of the content of the old one plus the column we wanted. Then we had to delete the old table and rename the new one. However, unlike mongo, we couldnt simply rename the table for some reason, so we had to create an exact copy of the new table with the name currency, and then delete table curr. There is a simple select statement that looks at all exchange rates bigger than 2 and returns it limited by 5 outpus.\n",
    "For the next call, we wanted to do a select statement that returned data from the every table. The select statement returns customer id, the state they live in, the state the reservation is in, the payment amount of the reservation, the number of stops in the flight, and the name of the currency they paid with. This not only tested how easy it is to access all the databases at once, it also checked to see if we properly inserted stops into the ticket table. \n",
    "Finally, we did one more select statement that uses nested queries and aggregate functions like average. We returned the persons customer id, first name, last name, the reservation payment amount, and the ticket amount, and filtered using a where statement, where the reservation payment amount had to be lower than the average payment amount, which we found using a nested select statement with the avg function, and the ticket payment had to be higher than the average using the same method. \n",
    "We realized that excpet for mysql, it was hard to alter any tables that inside of trino. We could insert, update, create, and delete pretty easily, but whenever we tried to alter a table, it would output an error. Therefore, while Trino is a good tool to use all of the databases at once, there a few flaws when using it."
   ]
  },
  {
   "cell_type": "code",
   "execution_count": null,
   "id": "b997a652-ee21-41f1-b04a-1df691c47530",
   "metadata": {},
   "outputs": [],
   "source": []
  }
 ],
 "metadata": {
  "environment": {
   "kernel": "python3",
   "name": "common-cpu.m110",
   "type": "gcloud",
   "uri": "gcr.io/deeplearning-platform-release/base-cpu:m110"
  },
  "kernelspec": {
   "display_name": "Python 3",
   "language": "python",
   "name": "python3"
  },
  "language_info": {
   "codemirror_mode": {
    "name": "ipython",
    "version": 3
   },
   "file_extension": ".py",
   "mimetype": "text/x-python",
   "name": "python",
   "nbconvert_exporter": "python",
   "pygments_lexer": "ipython3",
   "version": "3.10.12"
  }
 },
 "nbformat": 4,
 "nbformat_minor": 5
}
