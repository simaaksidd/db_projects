{
 "cells": [
  {
   "cell_type": "code",
   "execution_count": 3,
   "id": "086efeef-03f0-462b-aa7a-326f1bf579ce",
   "metadata": {},
   "outputs": [],
   "source": [
    "PROJECT = \"third-being-397119\"\n",
    "DATASET = \"final_project\"\n",
    "REGION = \"us-central1\""
   ]
  },
  {
   "cell_type": "code",
   "execution_count": 24,
   "id": "8d1c3366-4a12-422d-81c3-a64ea1697007",
   "metadata": {},
   "outputs": [
    {
     "name": "stdout",
     "output_type": "stream",
     "text": [
      "CREATE OR REPLACE TABLE final_project.currency(\n",
      "    curr_code STRING NOT NULL,\n",
      "    curr_name STRING NOT NULL,\n",
      "    cntry_code STRING NOT NULL,\n",
      "    cntry_name STRING NOT NULL, \n",
      "    )\n",
      "\n"
     ]
    }
   ],
   "source": [
    "from google.cloud import bigquery\n",
    "\n",
    "client = bigquery.Client(project=PROJECT, location=REGION)\n",
    "\n",
    "ddl = '''CREATE OR REPLACE TABLE final_project.currency(\n",
    "    curr_code STRING NOT NULL,\n",
    "    curr_name STRING NOT NULL,\n",
    "    cntry_code STRING NOT NULL,\n",
    "    cntry_name STRING NOT NULL, \n",
    "    )\n",
    "'''\n",
    "\n",
    "print(ddl)\n",
    "\n",
    "try:\n",
    "    query_job = client.query(ddl)\n",
    "    query_job.result()\n",
    "except Exception as e:\n",
    "    print(\"Error occurred while creating table:\", e)"
   ]
  },
  {
   "cell_type": "code",
   "execution_count": 25,
   "id": "c0c7d913-fc96-4ea7-8978-8c04d4261704",
   "metadata": {},
   "outputs": [
    {
     "name": "stdout",
     "output_type": "stream",
     "text": [
      "INSERT INTO final_project.currency (curr_code, curr_name, cntry_code, cntry_name) \n",
      "         VALUES \n",
      "         ('MWK', 'Malawian_kwacha', 'NL', 'Senegal'),('CVE', 'Cape_Verdean_escudo', 'BI', 'Montenegro'),('BHD', 'Bahraini_dinar', 'BS', 'Bermuda'),('IDR', 'Indonesian_rupiah', 'ST', 'Nauru'),('IDR', 'Indonesian_rupiah', 'CA', 'Gabon'),('XPF', 'CFP_franc', 'SZ', 'Equatorial Guinea'),('UAH', 'Ukrainian_hryvnia', 'BR', 'Swaziland'),('LBP', 'Lebanese_pound', 'CZ', 'Yemen'),('HTG', 'Haitian_gourde', 'MT', 'Heard Island and McDonald Islands'),('RSD', 'Serbian_dinar', 'MR', 'New Zealand'),('UAH', 'Ukrainian_hryvnia', 'NP', 'Antigua and Barbuda'),('PYG', 'Paraguayan_guarani', 'TJ', 'Tonga'),('SAR', 'Saudi_riyal', 'KM', 'Ethiopia'),('IRR', 'Iranian_rial', 'LA', 'French Guiana'),('CHF', 'Swiss_franc', 'ME', 'Nicaragua'),('GTQ', 'Guatemalan_quetzal', 'SK', 'Algeria'),('MMK', 'Burmese_kyat', 'RO', 'Latvia'),('SVC', 'Salvadoran_colón', 'KI', 'Israel'),('GBP', 'Pound_sterling', 'HR', 'British Virgin Islands'),('BBD', 'Barbadian_dollar', 'SK', 'Slovenia'),('DOP', 'Dominican_peso', 'GQ', 'Eritrea'),('ETB', 'Ethiopian_birr', 'FM', 'Italy'),('CZK', 'Czech_koruna', 'AR', 'Ecuador'),('KHR', 'Cambodian_riel', 'BS', 'Uganda'),('MWK', 'Malawian_kwacha', 'TV', 'Taiwan'),('MUR', 'Mauritian_rupee', 'AL', 'Seychelles'),('GMD', 'Gambian_dalasi', 'GA', 'Palestinian Territory'),('SBD', 'Solomon_Islands_dollar', 'IS', 'Reunion'),('CLP', 'Chilean_peso', 'CO', 'Samoa'),('TOP', 'Tongan_paʻanga', 'LY', 'Belarus')\n",
      "Wrote 30 records into currency table\n"
     ]
    }
   ],
   "source": [
    "from google.cloud import bigquery\n",
    "from faker import Faker\n",
    "from faker_airtravel import AirTravelProvider\n",
    "fake = Faker()\n",
    "fake.add_provider(AirTravelProvider)\n",
    "\n",
    "from datetime import datetime\n",
    "Faker.seed(0)\n",
    "import random\n",
    "\n",
    "client = bigquery.Client(project=PROJECT, location=REGION)\n",
    "\n",
    "\n",
    "sql = '''INSERT INTO final_project.currency (curr_code, curr_name, cntry_code, cntry_name) \n",
    "         VALUES \n",
    "         '''\n",
    "\n",
    "for i in range(30):\n",
    "    Faker.seed(i)\n",
    "    holder=fake.currency()\n",
    "    currencycode=holder[0]\n",
    "    currency=holder[1].replace(\" \",\"_\")\n",
    "    country=fake.country()\n",
    "    sql=sql+f\"('{currencycode}', '{currency}', '{fake.country_code()}', '{country}')\"\n",
    "    if i<29:\n",
    "        sql=sql+','\n",
    "\n",
    "print(sql)\n",
    "\n",
    "try:\n",
    "    query_job = client.query(sql)\n",
    "    query_job.result()\n",
    "    print('Wrote 30 records into currency table')\n",
    "except Exception as e:\n",
    "    print(\"Error occurred while writing to table:\", e)"
   ]
  },
  {
   "cell_type": "code",
   "execution_count": null,
   "id": "4f7403ac-e584-4edd-9895-dbeab997ef9c",
   "metadata": {},
   "outputs": [],
   "source": []
  }
 ],
 "metadata": {
  "environment": {
   "kernel": "python3",
   "name": "common-cpu.m110",
   "type": "gcloud",
   "uri": "gcr.io/deeplearning-platform-release/base-cpu:m110"
  },
  "kernelspec": {
   "display_name": "Python 3",
   "language": "python",
   "name": "python3"
  },
  "language_info": {
   "codemirror_mode": {
    "name": "ipython",
    "version": 3
   },
   "file_extension": ".py",
   "mimetype": "text/x-python",
   "name": "python",
   "nbconvert_exporter": "python",
   "pygments_lexer": "ipython3",
   "version": "3.10.12"
  }
 },
 "nbformat": 4,
 "nbformat_minor": 5
}
