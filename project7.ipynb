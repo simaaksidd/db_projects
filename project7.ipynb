{
 "cells": [
  {
   "cell_type": "code",
   "execution_count": 23,
   "id": "eadd76b9-8b31-4f7c-ae8a-db7ffb228a6c",
   "metadata": {},
   "outputs": [
    {
     "name": "stdout",
     "output_type": "stream",
     "text": [
      "env: CYPHER=/usr/bin/cypher-shell\n",
      "env: HOST=neo4j+s://ae2ec6dc.databases.neo4j.io\n",
      "env: USER=neo4j\n",
      "env: PW=BDgVUKBtF3_6LeDaA1uPJQNcFwfnWm_aTGgCa6Kx4C4\n"
     ]
    }
   ],
   "source": [
    "%env CYPHER=/usr/bin/cypher-shell\n",
    "%env HOST=neo4j+s://ae2ec6dc.databases.neo4j.io\n",
    "%env USER=haha\n",
    "%env PW=hhhhhhhhhhhhhhhhaaaaaaaaaaaaaa"
   ]
  },
  {
   "cell_type": "code",
   "execution_count": 24,
   "id": "1b32e746-ae16-4e36-afc5-12eafea3f4fd",
   "metadata": {},
   "outputs": [],
   "source": [
    "CONNECT=\"$CYPHER -a $HOST -u $USER -p $PW\""
   ]
  },
  {
   "cell_type": "code",
   "execution_count": 25,
   "id": "04c7b6bc-967b-4c06-a307-854cb959c4a3",
   "metadata": {},
   "outputs": [
    {
     "name": "stdout",
     "output_type": "stream",
     "text": [
      "+------------------------------------------------------------------+\n",
      "| user    | roles      | passwordChangeRequired | suspended | home |\n",
      "+------------------------------------------------------------------+\n",
      "| \"neo4j\" | [\"PUBLIC\"] | FALSE                  | FALSE     | NULL |\n",
      "+------------------------------------------------------------------+\n",
      "\n",
      "1 row\n",
      "ready to start consuming query after 4 ms, results consumed after another 77 ms\n"
     ]
    }
   ],
   "source": [
    "!{CONNECT} \"show users\""
   ]
  },
  {
   "cell_type": "markdown",
   "id": "c5a52c73-6b9d-4560-8f19-fbcd941e9902",
   "metadata": {},
   "source": [
    "#### Begin project 7 work"
   ]
  },
  {
   "cell_type": "markdown",
   "id": "0e459285-02e9-4897-8be4-882274be9f06",
   "metadata": {},
   "source": [
    "unique node labels and count"
   ]
  },
  {
   "cell_type": "code",
   "execution_count": 26,
   "id": "257d3ecf-8cd4-469d-b8b7-1fc0405220e0",
   "metadata": {},
   "outputs": [
    {
     "name": "stdout",
     "output_type": "stream",
     "text": [
      "+---------------------------+\n",
      "| labels(n)      | count(n) |\n",
      "+---------------------------+\n",
      "| [\"Recipe\"]     | 11634    |\n",
      "| [\"Author\"]     | 304      |\n",
      "| [\"DietType\"]   | 12       |\n",
      "| [\"Collection\"] | 1049     |\n",
      "| [\"Ingredient\"] | 3077     |\n",
      "+---------------------------+\n",
      "\n",
      "5 rows\n",
      "ready to start consuming query after 4 ms, results consumed after another 17 ms\n"
     ]
    }
   ],
   "source": [
    "!{CONNECT} \"MATCH (n)\\\n",
    "RETURN distinct labels(n), count(n)\""
   ]
  },
  {
   "cell_type": "markdown",
   "id": "2f6e8af8-be70-4521-a126-a50895629093",
   "metadata": {},
   "source": [
    "unique relationship types and count"
   ]
  },
  {
   "cell_type": "code",
   "execution_count": 27,
   "id": "8c25f89e-dd67-4daf-b181-aa9c8516b6c5",
   "metadata": {},
   "outputs": [
    {
     "name": "stdout",
     "output_type": "stream",
     "text": [
      "+----------------------------------+\n",
      "| type(r)               | count(r) |\n",
      "+----------------------------------+\n",
      "| \"DIET_TYPE\"           | 29716    |\n",
      "| \"COLLECTION\"          | 64480    |\n",
      "| \"WROTE\"               | 23268    |\n",
      "| \"CONTAINS_INGREDIENT\" | 212296   |\n",
      "+----------------------------------+\n",
      "\n",
      "4 rows\n",
      "ready to start consuming query after 46 ms, results consumed after another 165 ms\n"
     ]
    }
   ],
   "source": [
    "!{CONNECT} \"MATCH ()-[r]-()\\\n",
    "RETURN distinct type(r), count(r)\""
   ]
  },
  {
   "cell_type": "markdown",
   "id": "dfa6fbd3-16b9-40df-871f-1b3ffbd5dd90",
   "metadata": {},
   "source": [
    "distinct and order by descending"
   ]
  },
  {
   "cell_type": "code",
   "execution_count": 28,
   "id": "2ab5cdc3-c9fb-4cb7-8cab-d1d5aea80e68",
   "metadata": {},
   "outputs": [
    {
     "name": "stdout",
     "output_type": "stream",
     "text": [
      "+--------------------------------------------------------------------------------------+\n",
      "| recipe                                                                   | prep_time |\n",
      "+--------------------------------------------------------------------------------------+\n",
      "| \"Glazed gammon with parsley & cider sauce\"                               | 23400     |\n",
      "| \"Roast goose with potato & stuffing\"                                     | 18000     |\n",
      "| \"Citrus & thyme turkey\"                                                  | 16200     |\n",
      "| \"Golden stuffed goose\"                                                   | 14400     |\n",
      "| \"Fragrant shepherdâ€™s pie with apricots\"                                | 13800     |\n",
      "| \"Cake of kings\"                                                          | 12600     |\n",
      "| \"Roast crispy pork\"                                                      | 11700     |\n",
      "| \"Hot cross muffin buns\"                                                  | 10800     |\n",
      "| \"Shooting star celebration cake\"                                         | 10800     |\n",
      "| \"Scallops with mushrooms & white wine (Coquilles St Jacques Parisienne)\" | 10800     |\n",
      "| \"Easy Christmas pudding\"                                                 | 10800     |\n",
      "| \"Cranberry & white chocolate panettone\"                                  | 10800     |\n",
      "| \"Orange berry wedding cake\"                                              | 10800     |\n",
      "| \"Cherry, apricot, peach & pistachio meringue stack\"                      | 9000      |\n",
      "| \"Celebration cupcakes\"                                                   | 9000      |\n",
      "| \"Roast spring lamb with rosÃ© wine & oranges\"                            | 8700      |\n",
      "| \"Edd Kimberâ€™s Bakewell ombre cake\"                                     | 8100      |\n",
      "| \"Baked mincemeat doughnuts\"                                              | 8100      |\n",
      "| \"Cardamom whirls\"                                                        | 8100      |\n",
      "| \"Easy Easter brioche\"                                                    | 8100      |\n",
      "| \"Rainbow cake\"                                                           | 7200      |\n",
      "| \"Butternut squash in potato cannelloni\"                                  | 7200      |\n",
      "| \"Snowman friends cake decoration\"                                        | 7200      |\n",
      "| \"Battenberg cake\"                                                        | 7200      |\n",
      "| \"Rhubarb & custard pie with butter crumble\"                              | 7200      |\n",
      "+--------------------------------------------------------------------------------------+\n",
      "\n",
      "25 rows\n",
      "ready to start consuming query after 118 ms, results consumed after another 121 ms\n"
     ]
    }
   ],
   "source": [
    "!{CONNECT} \"MATCH (r:Recipe)-[C:COLLECTION]->(c:Collection),(r:Recipe)-[CC:DIET_TYPE]->(d:DietType) RETURN distinct r.name as recipe, r.preparationTime as prep_time ORDER BY prep_time desc LIMIT 25\""
   ]
  },
  {
   "cell_type": "markdown",
   "id": "9cd661b3-50ea-4900-b383-48040d63397c",
   "metadata": {},
   "source": [
    "logical OR and distinct"
   ]
  },
  {
   "cell_type": "code",
   "execution_count": 29,
   "id": "2b749df2-6cc0-45b8-839d-ac7a242156d4",
   "metadata": {},
   "outputs": [
    {
     "name": "stdout",
     "output_type": "stream",
     "text": [
      "+----------------------------------------------------+\n",
      "| r.name                                             |\n",
      "+----------------------------------------------------+\n",
      "| \"Courgetti Bolognese\"                              |\n",
      "| \"Pappardelle with sausage & fennel seed bolognese\" |\n",
      "| \"More veg, less meat summer Bolognese\"             |\n",
      "| \"Veggie Bolognese\"                                 |\n",
      "| \"Classic spaghetti Bolognese\"                      |\n",
      "| \"Gnocchi bolognese with spinach\"                   |\n",
      "| \"Turkey Bolognese pasta bake\"                      |\n",
      "| \"Rich ragu\"                                        |\n",
      "| \"Quick sausage Bolognese\"                          |\n",
      "| \"Multi mince\"                                      |\n",
      "| \"Bolognese bake\"                                   |\n",
      "| \"Easy spaghetti Bolognese \"                        |\n",
      "| \"So-simple spaghetti Bolognese\"                    |\n",
      "| \"Bolognese with a difference\"                      |\n",
      "| \"Speedy beef tacos\"                                |\n",
      "| \"Good-for-you bolognese\"                           |\n",
      "| \"Spaghetti Bolognese with salami & basil\"          |\n",
      "| \"Lamb & fennel spaghetti Bolognese\"                |\n",
      "| \"RÃ¶sti Bolognese pie\"                             |\n",
      "| \"Low-fat turkey Bolognese\"                         |\n",
      "| \"Bacon Bolognese\"                                  |\n",
      "| \"Big-batch Bolognese\"                              |\n",
      "| \"Venetian duck ragu\"                               |\n",
      "| \"Speedy pasta Bolognese\"                           |\n",
      "| \"Bloody Mary Bolognese\"                            |\n",
      "+----------------------------------------------------+\n",
      "\n",
      "25 rows\n",
      "ready to start consuming query after 75 ms, results consumed after another 1 ms\n"
     ]
    }
   ],
   "source": [
    "!{CONNECT} \"MATCH (r:Recipe)-[C:COLLECTION]->(c:Collection) WHERE c.name='Healthy fish' OR c.name='Bolognese' RETURN distinct r.name LIMIT 25\""
   ]
  },
  {
   "cell_type": "markdown",
   "id": "61635e5a-c19a-40ed-9ce6-66bf425cf826",
   "metadata": {},
   "source": [
    "negation and logical AND"
   ]
  },
  {
   "cell_type": "code",
   "execution_count": 30,
   "id": "124e4638-c544-42ce-8f1e-a43ab68fcc1c",
   "metadata": {},
   "outputs": [
    {
     "name": "stdout",
     "output_type": "stream",
     "text": [
      "+-------------------------------------------------+\n",
      "| r.name                                          |\n",
      "+-------------------------------------------------+\n",
      "| \"Mumbai potato wraps with minted yogurt relish\" |\n",
      "| \"Creamy leek & bean soup\"                       |\n",
      "| \"Spiced pepper pilafs\"                          |\n",
      "| \"Carrot, apple & celeriac mash\"                 |\n",
      "| \"Minced beef cobbler\"                           |\n",
      "| \"Rustic vegetable soup\"                         |\n",
      "| \"Beef schnitzel\"                                |\n",
      "| \"Roast cauliflower & squash\"                    |\n",
      "| \"Smoky beef stew\"                               |\n",
      "| \"Spicy peanut pies\"                             |\n",
      "| \"Indian winter soup\"                            |\n",
      "| \"Really easy roasted red pepper sauce\"          |\n",
      "| \"Spicy mini meatloaves\"                         |\n",
      "| \"Chicken biryani bake\"                          |\n",
      "| \"Creamy prawn & spring vegetable pot\"           |\n",
      "| \"Beef & swede casserole\"                        |\n",
      "| \"The ultimate makeover: Burgers\"                |\n",
      "| \"Mexican bean soup with guacamole\"              |\n",
      "| \"Tofu & spinach cannelloni\"                     |\n",
      "| \"Healthy Turkish meatloaf\"                      |\n",
      "| \"Winter vegetable & lentil soup\"                |\n",
      "| \"Double bean & roasted pepper chilli\"           |\n",
      "| \"Butter bean & tomato stew\"                     |\n",
      "| \"Sweet & sour chicken & veg\"                    |\n",
      "| \"Cauliflower, olive & lentil tagine\"            |\n",
      "+-------------------------------------------------+\n",
      "\n",
      "25 rows\n",
      "ready to start consuming query after 95 ms, results consumed after another 2 ms\n"
     ]
    }
   ],
   "source": [
    "!{CONNECT} \"MATCH (r:Recipe)-[C:COLLECTION]->(c:Collection) WHERE NOT c.name='Kid\\'s cooking' AND c.name='Healthy freezable' RETURN distinct r.name LIMIT 25\""
   ]
  },
  {
   "cell_type": "markdown",
   "id": "5c35c5e5-888b-4ed2-a3de-624b50c0e5b2",
   "metadata": {},
   "source": [
    "three relationship types and logical AND"
   ]
  },
  {
   "cell_type": "code",
   "execution_count": 31,
   "id": "f181dce6-438d-4f63-89e8-35adae92d14f",
   "metadata": {},
   "outputs": [
    {
     "name": "stdout",
     "output_type": "stream",
     "text": [
      "+-----------------------------------------------------------------------+\n",
      "| recipe                                                | Author        |\n",
      "+-----------------------------------------------------------------------+\n",
      "| \"Baked nectarines & raspberries with almonds & honey\" | \"Jane Hornby\" |\n",
      "+-----------------------------------------------------------------------+\n",
      "\n",
      "1 row\n",
      "ready to start consuming query after 132 ms, results consumed after another 6 ms\n"
     ]
    }
   ],
   "source": [
    "!{CONNECT} \"MATCH (r:Recipe)-[CI:CONTAINS_INGREDIENT]->(i:Ingredient),(a:Author)-[w:WROTE]->(r:Recipe),(c:Collection)<-[C:COLLECTION]-(r:Recipe) WHERE a.name='Jane Hornby' AND i.name='nectarine' AND c.name='Nectarine' RETURN r.name as recipe, a.name as Author\""
   ]
  },
  {
   "cell_type": "markdown",
   "id": "30814ad2-34f4-474c-89a4-39a3f71ff10e",
   "metadata": {},
   "source": [
    "three relationship types and logical OR and order by ascending and return properties of nodes"
   ]
  },
  {
   "cell_type": "code",
   "execution_count": 32,
   "id": "0388beb4-da81-4722-9054-e488d36cc064",
   "metadata": {},
   "outputs": [
    {
     "name": "stdout",
     "output_type": "stream",
     "text": [
      "+---------------------------------------------------------------------------------------------+\n",
      "| recipe                                                           | prep_time | cooking_time |\n",
      "+---------------------------------------------------------------------------------------------+\n",
      "| \"Smoky beans with basil & bacon\"                                 | 0         | 0            |\n",
      "| \"Chicken wrap with sticky sweet potato, salad leaves & tomatoes\" | 300       | 0            |\n",
      "| \"Green apple salad\"                                              | 0         | 0            |\n",
      "| \"Liver & red pepper stir-fry\"                                    | 0         | 0            |\n",
      "| \"Chilled pea & watercress soup\"                                  | 600       | 0            |\n",
      "| \"Crunchy coleslaw\"                                               | 1200      | 0            |\n",
      "| \"Spicy chicken couscous\"                                         | 0         | 0            |\n",
      "| \"Avocado & strawberry smoothie\"                                  | 300       | 0            |\n",
      "| \"Beetroot, goat's cheese & tarragon salad\"                       | 0         | 0            |\n",
      "| \"Carrot & sugar snap salad\"                                      | 600       | 0            |\n",
      "| \"Dairy-free slaw\"                                                | 900       | 0            |\n",
      "| \"Minted green bean salad\"                                        | 0         | 0            |\n",
      "| \"Peppery kohlrabi slaw\"                                          | 1500      | 0            |\n",
      "| \"Carrot, orange & avocado salad\"                                 | 600       | 0            |\n",
      "| \"Toffee tangerines\"                                              | 0         | 0            |\n",
      "| \"Cheesy fish grills\"                                             | 1500      | 0            |\n",
      "| \"Orange, carrot & mint soup \"                                    | 3600      | 0            |\n",
      "| \"Coleslaw with tahini yogurt dressing\"                           | 900       | 0            |\n",
      "| \"Lemon & coriander hummus\"                                       | 300       | 0            |\n",
      "| \"Orange & coconut salad\"                                         | 600       | 0            |\n",
      "| \"Green cucumber & mint gazpacho\"                                 | 1200      | 0            |\n",
      "| \"Christmas slaw\"                                                 | 900       | 0            |\n",
      "| \"Asian chicken spiralized salad\"                                 | 900       | 0            |\n",
      "| \"Beetroot & lentil tabbouleh\"                                    | 900       | 0            |\n",
      "| \"Kale and avocado smoothie\"                                      | 300       | 0            |\n",
      "+---------------------------------------------------------------------------------------------+\n",
      "\n",
      "25 rows\n",
      "ready to start consuming query after 207 ms, results consumed after another 116 ms\n"
     ]
    }
   ],
   "source": [
    "!{CONNECT} \"MATCH (r:Recipe)-[CI:CONTAINS_INGREDIENT]->(i:Ingredient),(r:Recipe)-[d:DIET_TYPE]->(dd:DietType),(c:Collection)<-[C:COLLECTION]-(r:Recipe) WHERE i.name='chicken' OR dd.name='Healthy' OR c.name='Speedy suppers' RETURN distinct r.name as recipe,r.preparationTime as prep_time, r.cookingTime as cooking_time ORDER BY cooking_time asc Limit 25\""
   ]
  },
  {
   "cell_type": "markdown",
   "id": "ecd1d3c0-3f98-47d3-8752-3d81532d636b",
   "metadata": {},
   "source": [
    "negation"
   ]
  },
  {
   "cell_type": "code",
   "execution_count": 36,
   "id": "de848f5f-d6d6-4870-8447-7d412ece5eb3",
   "metadata": {},
   "outputs": [
    {
     "name": "stdout",
     "output_type": "stream",
     "text": [
      "+--------------------------------------------------------+\n",
      "| recipe                                                 |\n",
      "+--------------------------------------------------------+\n",
      "| \"Moroccan lamb meatballs with harissa & couscous\"      |\n",
      "| \"5-a-day couscous\"                                     |\n",
      "| \"Aubergine couscous salad\"                             |\n",
      "| \"Vegetable tagine with almond & chickpea couscous\"     |\n",
      "| \"Fruity couscous & spiced quail\"                       |\n",
      "| \"Fruity tabbouleh with feta\"                           |\n",
      "| \"Spiced herb & almond couscous\"                        |\n",
      "| \"Moroccan tomato & chickpea soup with couscous \"       |\n",
      "| \"Harissa couscous\"                                     |\n",
      "| \"Guinea fowl tagine with chickpeas, squash & apricots\" |\n",
      "+--------------------------------------------------------+\n",
      "\n",
      "10 rows\n",
      "ready to start consuming query after 15 ms, results consumed after another 1 ms\n"
     ]
    }
   ],
   "source": [
    "!{CONNECT} \"MATCH (r:Recipe)-[ci:CONTAINS_INGREDIENT]->(i:Ingredient) WHERE NOT i.name='nectarine' RETURN r.name as recipe LIMIT 10\""
   ]
  },
  {
   "cell_type": "markdown",
   "id": "5dee542b-4f71-47ac-bc20-daf7d2b3b68a",
   "metadata": {},
   "source": [
    "logical OR"
   ]
  },
  {
   "cell_type": "code",
   "execution_count": 37,
   "id": "6fd156c7-e662-481a-b25a-edc57fa736f1",
   "metadata": {},
   "outputs": [
    {
     "name": "stdout",
     "output_type": "stream",
     "text": [
      "+------------------------------------------+\n",
      "| recipe                                   |\n",
      "+------------------------------------------+\n",
      "| \"Cucumber, apple & spinach juice\"        |\n",
      "| \"Cloud meringues\"                        |\n",
      "| \"Elderflower & herb cooler\"              |\n",
      "| \"Coconut rice & prawn salad \"            |\n",
      "| \"Fragrant chicken curry with chick peas\" |\n",
      "| \"Seafood tagine\"                         |\n",
      "| \"Fruitburst muffins\"                     |\n",
      "| \"Thai carrot slaw\"                       |\n",
      "| \"Yaki udon\"                              |\n",
      "| \"Garlic, basil & olive oil mash\"         |\n",
      "+------------------------------------------+\n",
      "\n",
      "10 rows\n",
      "ready to start consuming query after 19 ms, results consumed after another 1 ms\n"
     ]
    }
   ],
   "source": [
    "!{CONNECT} \"MATCH (d:DietType)<-[D:DIET_TYPE]-(r:Recipe) WHERE d.name='Vegan' OR d.name='Low-fat' RETURN r.name as recipe LIMIT 10\""
   ]
  },
  {
   "cell_type": "markdown",
   "id": "0bda4239-2547-4ac6-b2d2-14e8aa43f1b6",
   "metadata": {},
   "source": [
    "Return properties of relationships"
   ]
  },
  {
   "cell_type": "code",
   "execution_count": 38,
   "id": "7f6bc758-9dea-4121-9a90-1d4ee772c4f7",
   "metadata": {},
   "outputs": [
    {
     "name": "stdout",
     "output_type": "stream",
     "text": [
      "+-------+\n",
      "| ID(D) |\n",
      "+-------+\n",
      "| 0     |\n",
      "| 1     |\n",
      "| 2     |\n",
      "| 3     |\n",
      "| 4     |\n",
      "| 5     |\n",
      "| 6     |\n",
      "| 7     |\n",
      "| 8     |\n",
      "| 9     |\n",
      "| 10    |\n",
      "| 11    |\n",
      "| 12    |\n",
      "| 13    |\n",
      "| 14    |\n",
      "| 15    |\n",
      "| 16    |\n",
      "| 17    |\n",
      "| 18    |\n",
      "| 19    |\n",
      "| 20    |\n",
      "| 21    |\n",
      "| 22    |\n",
      "| 23    |\n",
      "| 24    |\n",
      "+-------+\n",
      "\n",
      "25 rows\n",
      "ready to start consuming query after 14 ms, results consumed after another 2 ms\n"
     ]
    }
   ],
   "source": [
    "!{CONNECT} \"MATCH ()<-[D:DIET_TYPE]-() RETURN ID(D) LIMIT 25\""
   ]
  },
  {
   "cell_type": "markdown",
   "id": "16cf3c5f-cb98-466d-a3ef-135d8fa6ee1e",
   "metadata": {},
   "source": [
    "#### begin extra credit work\n"
   ]
  },
  {
   "cell_type": "markdown",
   "id": "1ab37f27-3c38-4e42-a523-0dfb58b90701",
   "metadata": {},
   "source": [
    "Creating nodes ( For some reason does not work in jupyter notebook but we tested in neo4j and they all work)"
   ]
  },
  {
   "cell_type": "code",
   "execution_count": 50,
   "id": "dae0bf9d-bf67-48d0-8183-989bf68d67e6",
   "metadata": {},
   "outputs": [
    {
     "name": "stdout",
     "output_type": "stream",
     "text": [
      "/bin/bash: line 1: {CONNECT}: command not found\n"
     ]
    }
   ],
   "source": [
    "!{CONNECT} \"CREATE (:Author {name:'Simaak'})\\\n",
    "CREATE (:Collection {name:'Taco'})\\\n",
    "CREATE (:DietType {name:'Keto})\\\n",
    "CREATE (:Ingredient {name:'Barbacoa})\\\n",
    "CREATE (:Recipe {cookingTime: 10,description:'very yum yum taco',name:'Barbacoa Taco'})\""
   ]
  },
  {
   "cell_type": "markdown",
   "id": "4eac0a56-2592-4c3a-a4fe-6e0027f04af9",
   "metadata": {},
   "source": [
    "Create a relationship for each existing relationship type with at least one property ( For some reason does not work in jupyter notebook but we tested in neo4j and they all work)"
   ]
  },
  {
   "cell_type": "code",
   "execution_count": 42,
   "id": "95c3363e-2039-4438-a93d-0847f8bf315f",
   "metadata": {},
   "outputs": [
    {
     "name": "stdout",
     "output_type": "stream",
     "text": [
      "/bin/bash: line 1: {CONNECT}: command not found\n",
      "/bin/bash: line 1: {CONNECT}: command not found\n",
      "/bin/bash: line 1: {CONNECT}: command not found\n",
      "/bin/bash: line 1: {CONNECT}: command not found\n"
     ]
    }
   ],
   "source": [
    "!{CONNECT} \"MATCH (r:Recipe {name:'Poppyseed & honey cake'}) MATCH (c:Collection {name:'Fish cake'}) CREATE (r)-[:COLLECTION]->(c)\"\n",
    "!{CONNECT} \"MATCH (r2:Recipe {name:'Chocolate & caramel ombre cake'}) MATCH (i1:Ingredient {name:'carrots'}) CREATE (r2)-[:CONTAINS_INGREDIENT]->(i1)\"\n",
    "!{CONNECT} \"MATCH (r3:Recipe {name:'Citrus peach cooler'}) MATCH (d1:DietType {name:'Low-fat'}) CREATE (r3)-[:DIET_TYPE]->(d1)\"\n",
    "!{CONNECT} \"MATCH (a:AUTHOR {name:'Mary Cadogan'}) MATCH (r4:Recipe {name:'Pull-apart chicken with green curry & lime leaf dressing'}) CREATE (a)-[:COLLECTION]->(r4)\""
   ]
  },
  {
   "cell_type": "markdown",
   "id": "f16178e8-3ba4-44df-936d-dbd34f10cda3",
   "metadata": {},
   "source": [
    "Update the properties of one or more nodes ( For some reason does not work in jupyter notebook but we tested in neo4j and they all work)"
   ]
  },
  {
   "cell_type": "code",
   "execution_count": 44,
   "id": "bcccc3da-87e2-47cd-aa22-f3b05a0e8d07",
   "metadata": {},
   "outputs": [
    {
     "name": "stdout",
     "output_type": "stream",
     "text": [
      "/bin/bash: line 1: {CONNECT}: command not found\n"
     ]
    }
   ],
   "source": [
    "!{CONNECT} \"MATCH (a:Author {name:'Mary Cadogan'}) SET a.name='Mary Cadogan Jr.' RETURN a.name\""
   ]
  },
  {
   "cell_type": "markdown",
   "id": "2faa0245-aac1-4d24-b2be-9135788e04c8",
   "metadata": {},
   "source": [
    "Update the properties of one or more relationships ( For some reason does not work in jupyter notebook but we tested in neo4j and they all work)"
   ]
  },
  {
   "cell_type": "code",
   "execution_count": 45,
   "id": "39382ea5-ae5e-4141-8dac-e5bb44383807",
   "metadata": {},
   "outputs": [
    {
     "name": "stdout",
     "output_type": "stream",
     "text": [
      "/bin/bash: line 1: {CONNECT}: command not found\n"
     ]
    }
   ],
   "source": [
    "!{CONNECT} \"MATCH (r:Recipe {name:'Poppyseed & honey cake'}) MATCH (c:Collection {name:'Fish cake'}) MERGE (r)-[cc:COLLECTION]->(c) ON MATCH SET cc.name='hello world' RETURN cc.name\""
   ]
  },
  {
   "cell_type": "markdown",
   "id": "d72f9a44-6a52-4c34-ad74-e2ae8b02d03b",
   "metadata": {},
   "source": [
    "Add a new node label to an existing node ( For some reason does not work in jupyter notebook but we tested in neo4j and they all work)"
   ]
  },
  {
   "cell_type": "code",
   "execution_count": 46,
   "id": "e76b8988-48b5-481e-b7e5-e6dfdb788260",
   "metadata": {},
   "outputs": [
    {
     "name": "stdout",
     "output_type": "stream",
     "text": [
      "/bin/bash: line 1: {CONNECT}: command not found\n"
     ]
    }
   ],
   "source": [
    "!{CONNECT} \"MATCH (r:Recipe {name:'Poppyseed & honey cake'}) SET r:Author RETURN r.name, labels(r)\""
   ]
  },
  {
   "cell_type": "markdown",
   "id": "c3db3ba5-bba2-47fd-a664-32c94c53822a",
   "metadata": {},
   "source": [
    "Update the relationship type of at least one relationship"
   ]
  },
  {
   "cell_type": "code",
   "execution_count": 49,
   "id": "695ad6dd-4edf-4d30-be5b-a7b79c5c71e9",
   "metadata": {},
   "outputs": [
    {
     "name": "stdout",
     "output_type": "stream",
     "text": [
      "0 rows\n",
      "ready to start consuming query after 735 ms, results consumed after another 0 ms\n",
      "Created 32241 relationships, Deleted 32241 relationships\n"
     ]
    }
   ],
   "source": [
    "!{CONNECT} \"MATCH (r:Recipe)-[cc:COLLECTION]->(c:Collection) MERGE (r)-[:COLLECTION2]->(c) DELETE cc\""
   ]
  },
  {
   "cell_type": "markdown",
   "id": "be932600-2932-4ac3-9c3e-47bd0d8671c5",
   "metadata": {},
   "source": [
    "Delete at least one relationship based on some criteria"
   ]
  },
  {
   "cell_type": "code",
   "execution_count": 58,
   "id": "9d43755e-2b98-4fd6-8498-9756aa5bb60d",
   "metadata": {},
   "outputs": [
    {
     "name": "stdout",
     "output_type": "stream",
     "text": [
      "0 rows\n",
      "ready to start consuming query after 38 ms, results consumed after another 0 ms\n",
      "Deleted 92 relationships\n"
     ]
    }
   ],
   "source": [
    "!{CONNECT} \"MATCH (a:Author)-[r]->() WHERE a.name='Lucy Netherton' DELETE r\""
   ]
  },
  {
   "cell_type": "markdown",
   "id": "77c93aa6-924a-4c2c-8fee-7d3302975d76",
   "metadata": {},
   "source": [
    "Delete at least one node based on some criteria"
   ]
  },
  {
   "cell_type": "code",
   "execution_count": 59,
   "id": "28eca4ac-6b54-4901-8947-5a19d7bd38e6",
   "metadata": {},
   "outputs": [
    {
     "name": "stdout",
     "output_type": "stream",
     "text": [
      "0 rows\n",
      "ready to start consuming query after 23 ms, results consumed after another 0 ms\n",
      "Deleted 1 nodes\n"
     ]
    }
   ],
   "source": [
    "!{CONNECT} \"MATCH (a) WHERE a.name='Lucy Netherton' DELETE a\""
   ]
  },
  {
   "cell_type": "markdown",
   "id": "ba2c177d-c870-43dc-8c70-58c414950ec1",
   "metadata": {},
   "source": [
    "Create a unique constraint on a node property"
   ]
  },
  {
   "cell_type": "code",
   "execution_count": 61,
   "id": "bd5c3c41-a035-436a-aa96-73e793bca05e",
   "metadata": {},
   "outputs": [
    {
     "name": "stdout",
     "output_type": "stream",
     "text": [
      "0 rows\n",
      "ready to start consuming query after 54 ms, results consumed after another 0 ms\n",
      "Added 1 constraints\n"
     ]
    }
   ],
   "source": [
    "!{CONNECT} \"CREATE CONSTRAINT recipe_patent FOR (a:Author) REQUIRE a.name IS UNIQUE\""
   ]
  },
  {
   "cell_type": "markdown",
   "id": "e229b710-fe3a-4083-921c-8d7082c09172",
   "metadata": {},
   "source": [
    "Create a unique constraint on a relationship property"
   ]
  },
  {
   "cell_type": "code",
   "execution_count": 62,
   "id": "bed768bf-195c-429b-ae0e-50cb34bfa641",
   "metadata": {},
   "outputs": [
    {
     "name": "stdout",
     "output_type": "stream",
     "text": [
      "0 rows\n",
      "ready to start consuming query after 70 ms, results consumed after another 0 ms\n",
      "Added 1 constraints\n"
     ]
    }
   ],
   "source": [
    "!{CONNECT} \"CREATE CONSTRAINT Writers_patent FOR ()-[w:Wrote]-() REQUIRE (w.name, w.written_date) IS UNIQUE\""
   ]
  },
  {
   "cell_type": "code",
   "execution_count": null,
   "id": "fe9675ab-5e5d-4952-8ece-d58fcde8206e",
   "metadata": {},
   "outputs": [],
   "source": []
  }
 ],
 "metadata": {
  "environment": {
   "kernel": "python3",
   "name": "common-cpu.m110",
   "type": "gcloud",
   "uri": "gcr.io/deeplearning-platform-release/base-cpu:m110"
  },
  "kernelspec": {
   "display_name": "Python 3",
   "language": "python",
   "name": "python3"
  },
  "language_info": {
   "codemirror_mode": {
    "name": "ipython",
    "version": 3
   },
   "file_extension": ".py",
   "mimetype": "text/x-python",
   "name": "python",
   "nbconvert_exporter": "python",
   "pygments_lexer": "ipython3",
   "version": "3.10.12"
  }
 },
 "nbformat": 4,
 "nbformat_minor": 5
}
