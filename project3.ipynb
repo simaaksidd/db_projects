{
 "cells": [
  {
   "cell_type": "markdown",
   "metadata": {},
   "source": [
    "### 1) Set environment variables:"
   ]
  },
  {
   "cell_type": "code",
   "execution_count": 1,
   "metadata": {},
   "outputs": [
    {
     "name": "stdout",
     "output_type": "stream",
     "text": [
      "env: PGDATABASE=postgres\n"
     ]
    }
   ],
   "source": [
    "%env PGDATABASE=postgres"
   ]
  },
  {
   "cell_type": "code",
   "execution_count": 2,
   "metadata": {},
   "outputs": [
    {
     "name": "stdout",
     "output_type": "stream",
     "text": [
      "env: PGHOST=10.87.32.8\n"
     ]
    }
   ],
   "source": [
    "%env PGHOST=10.87.32.8"
   ]
  },
  {
   "cell_type": "code",
   "execution_count": 3,
   "metadata": {},
   "outputs": [
    {
     "name": "stdout",
     "output_type": "stream",
     "text": [
      "env: PGPORT=5432\n"
     ]
    }
   ],
   "source": [
    "%env PGPORT=5432"
   ]
  },
  {
   "cell_type": "code",
   "execution_count": 4,
   "metadata": {},
   "outputs": [
    {
     "name": "stdout",
     "output_type": "stream",
     "text": [
      "env: PGUSER=postgres\n"
     ]
    }
   ],
   "source": [
    "%env PGUSER=postgres"
   ]
  },
  {
   "cell_type": "code",
   "execution_count": 5,
   "metadata": {},
   "outputs": [
    {
     "name": "stdout",
     "output_type": "stream",
     "text": [
      "env: PGPASSWORD=Sim&Ed327E!\n"
     ]
    }
   ],
   "source": [
    "%env PGPASSWORD=Sim&Ed327E!"
   ]
  },
  {
   "cell_type": "code",
   "execution_count": 6,
   "metadata": {},
   "outputs": [
    {
     "name": "stdout",
     "output_type": "stream",
     "text": [
      "env: PGINSTANCE=postgres\n"
     ]
    }
   ],
   "source": [
    "%env PGINSTANCE=postgres"
   ]
  },
  {
   "cell_type": "code",
   "execution_count": 7,
   "metadata": {},
   "outputs": [
    {
     "name": "stdout",
     "output_type": "stream",
     "text": [
      "env: BASE_DIR=/home/jupyter/snippets\n"
     ]
    }
   ],
   "source": [
    "%env BASE_DIR=/home/jupyter/snippets"
   ]
  },
  {
   "cell_type": "markdown",
   "metadata": {},
   "source": [
    "### 2) Download Shopify data and code:"
   ]
  },
  {
   "cell_type": "code",
   "execution_count": 8,
   "metadata": {
    "tags": []
   },
   "outputs": [
    {
     "name": "stdout",
     "output_type": "stream",
     "text": [
      "Copying gs://cs327e-open-access/postgres_shopify.zip...\n",
      "/ [1 files][  3.2 MiB/  3.2 MiB]                                                \n",
      "Operation completed over 1 objects/3.2 MiB.                                      \n"
     ]
    }
   ],
   "source": [
    "!gsutil cp gs://cs327e-open-access/postgres_shopify.zip $BASE_DIR"
   ]
  },
  {
   "cell_type": "code",
   "execution_count": 4,
   "metadata": {
    "collapsed": true,
    "jupyter": {
     "outputs_hidden": true
    },
    "tags": []
   },
   "outputs": [
    {
     "name": "stdout",
     "output_type": "stream",
     "text": [
      "Archive:  /home/jupyter/snippets/postgres_shopify.zip\n",
      "  inflating: postgres_shopify/apps.csv  \n",
      "  inflating: postgres_shopify/apps_categories.csv  \n",
      "  inflating: postgres_shopify/categories.csv  \n",
      "  inflating: postgres_shopify/create_postgres_tables.sql  \n",
      "  inflating: postgres_shopify/delete_tx.sql  \n",
      "  inflating: postgres_shopify/insert_tx.sql  \n",
      "  inflating: postgres_shopify/key_benefits.csv  \n",
      "  inflating: postgres_shopify/pricing_plan_features.csv  \n",
      "  inflating: postgres_shopify/pricing_plans.csv  \n",
      "  inflating: postgres_shopify/reviews.csv  \n",
      "  inflating: postgres_shopify/update_tx.sql  \n"
     ]
    }
   ],
   "source": [
    "!unzip $BASE_DIR/postgres_shopify.zip"
   ]
  },
  {
   "cell_type": "markdown",
   "metadata": {},
   "source": [
    "### 3) Create the shopify tables"
   ]
  },
  {
   "cell_type": "code",
   "execution_count": 9,
   "metadata": {
    "tags": []
   },
   "outputs": [
    {
     "name": "stdout",
     "output_type": "stream",
     "text": [
      "psql:/home/jupyter/snippets/postgres_shopify/create_postgres_tables.sql:1: NOTICE:  drop cascades to 7 other objects\n",
      "DETAIL:  drop cascades to table shopify.apps\n",
      "drop cascades to table shopify.apps_categories\n",
      "drop cascades to table shopify.categories\n",
      "drop cascades to table shopify.key_benefits\n",
      "drop cascades to table shopify.pricing_plans\n",
      "drop cascades to table shopify.pricing_plan_features\n",
      "drop cascades to table shopify.reviews\n",
      "DROP SCHEMA\n",
      "CREATE SCHEMA\n",
      "SET\n",
      "CREATE TABLE\n",
      "CREATE TABLE\n",
      "CREATE TABLE\n",
      "CREATE TABLE\n",
      "CREATE TABLE\n",
      "CREATE TABLE\n",
      "CREATE TABLE\n"
     ]
    }
   ],
   "source": [
    "!psql -c \"\\i $BASE_DIR/postgres_shopify/create_postgres_tables.sql\""
   ]
  },
  {
   "cell_type": "markdown",
   "metadata": {},
   "source": [
    "### 4) Describe the tables"
   ]
  },
  {
   "cell_type": "code",
   "execution_count": 81,
   "metadata": {},
   "outputs": [
    {
     "name": "stdout",
     "output_type": "stream",
     "text": [
      "                           Table \"shopify.apps\"\n",
      "     Column     |          Type           | Collation | Nullable | Default \n",
      "----------------+-------------------------+-----------+----------+---------\n",
      " id             | character(36)           |           | not null | \n",
      " url            | character varying(1000) |           |          | \n",
      " title          | character varying(2000) |           |          | \n",
      " developer      | character varying(100)  |           |          | \n",
      " developer_link | character varying(1000) |           |          | \n",
      " icon           | character varying(1000) |           |          | \n",
      " rating         | double precision        |           |          | \n",
      " reviews_count  | integer                 |           |          | \n",
      "Indexes:\n",
      "    \"apps_pkey\" PRIMARY KEY, btree (id)\n",
      "Referenced by:\n",
      "    TABLE \"shopify.apps_categories\" CONSTRAINT \"apps_categories_app_id_fkey\" FOREIGN KEY (app_id) REFERENCES shopify.apps(id)\n",
      "    TABLE \"shopify.apps_categories\" CONSTRAINT \"apps_categories_app_id_fkey1\" FOREIGN KEY (app_id) REFERENCES shopify.apps(id)\n",
      "    TABLE \"shopify.key_benefits\" CONSTRAINT \"key_benefits_app_id_fkey\" FOREIGN KEY (app_id) REFERENCES shopify.apps(id)\n",
      "    TABLE \"shopify.key_benefits\" CONSTRAINT \"key_benefits_app_id_fkey1\" FOREIGN KEY (app_id) REFERENCES shopify.apps(id)\n",
      "    TABLE \"shopify.pricing_plan_features\" CONSTRAINT \"pricing_plan_features_app_id_fkey\" FOREIGN KEY (app_id) REFERENCES shopify.apps(id)\n",
      "    TABLE \"shopify.pricing_plan_features\" CONSTRAINT \"pricing_plan_features_app_id_fkey1\" FOREIGN KEY (app_id) REFERENCES shopify.apps(id)\n",
      "    TABLE \"shopify.pricing_plans\" CONSTRAINT \"pricing_plans_app_id_fkey\" FOREIGN KEY (app_id) REFERENCES shopify.apps(id)\n",
      "    TABLE \"shopify.pricing_plans\" CONSTRAINT \"pricing_plans_app_id_fkey1\" FOREIGN KEY (app_id) REFERENCES shopify.apps(id)\n",
      "    TABLE \"shopify.reviews\" CONSTRAINT \"reviews_app_id_fkey\" FOREIGN KEY (app_id) REFERENCES shopify.apps(id)\n",
      "    TABLE \"shopify.reviews\" CONSTRAINT \"reviews_app_id_fkey1\" FOREIGN KEY (app_id) REFERENCES shopify.apps(id)\n",
      "\n"
     ]
    }
   ],
   "source": [
    "!psql -c \"\\d shopify.apps\""
   ]
  },
  {
   "cell_type": "code",
   "execution_count": 82,
   "metadata": {},
   "outputs": [
    {
     "name": "stdout",
     "output_type": "stream",
     "text": [
      "               Table \"shopify.apps_categories\"\n",
      "   Column    |     Type      | Collation | Nullable | Default \n",
      "-------------+---------------+-----------+----------+---------\n",
      " app_id      | character(36) |           | not null | \n",
      " category_id | character(36) |           | not null | \n",
      "Indexes:\n",
      "    \"apps_categories_pkey\" PRIMARY KEY, btree (app_id, category_id)\n",
      "Foreign-key constraints:\n",
      "    \"apps_categories_app_id_fkey\" FOREIGN KEY (app_id) REFERENCES shopify.apps(id)\n",
      "    \"apps_categories_app_id_fkey1\" FOREIGN KEY (app_id) REFERENCES shopify.apps(id)\n",
      "    \"apps_categories_category_id_fkey\" FOREIGN KEY (category_id) REFERENCES shopify.categories(id)\n",
      "    \"apps_categories_category_id_fkey1\" FOREIGN KEY (category_id) REFERENCES shopify.categories(id)\n",
      "\n"
     ]
    }
   ],
   "source": [
    "!psql -c \"\\d shopify.apps_categories\""
   ]
  },
  {
   "cell_type": "code",
   "execution_count": 83,
   "metadata": {},
   "outputs": [
    {
     "name": "stdout",
     "output_type": "stream",
     "text": [
      "                    Table \"shopify.categories\"\n",
      " Column |          Type           | Collation | Nullable | Default \n",
      "--------+-------------------------+-----------+----------+---------\n",
      " id     | character(36)           |           | not null | \n",
      " title  | character varying(2000) |           |          | \n",
      "Indexes:\n",
      "    \"categories_pkey\" PRIMARY KEY, btree (id)\n",
      "Referenced by:\n",
      "    TABLE \"shopify.apps_categories\" CONSTRAINT \"apps_categories_category_id_fkey\" FOREIGN KEY (category_id) REFERENCES shopify.categories(id)\n",
      "    TABLE \"shopify.apps_categories\" CONSTRAINT \"apps_categories_category_id_fkey1\" FOREIGN KEY (category_id) REFERENCES shopify.categories(id)\n",
      "\n"
     ]
    }
   ],
   "source": [
    "!psql -c \"\\d shopify.categories\""
   ]
  },
  {
   "cell_type": "code",
   "execution_count": 84,
   "metadata": {},
   "outputs": [
    {
     "name": "stdout",
     "output_type": "stream",
     "text": [
      "                      Table \"shopify.key_benefits\"\n",
      "   Column    |          Type           | Collation | Nullable | Default \n",
      "-------------+-------------------------+-----------+----------+---------\n",
      " app_id      | character(36)           |           | not null | \n",
      " title       | character varying(2000) |           | not null | \n",
      " description | character varying(2000) |           |          | \n",
      "Indexes:\n",
      "    \"key_benefits_pkey\" PRIMARY KEY, btree (app_id, title)\n",
      "Foreign-key constraints:\n",
      "    \"key_benefits_app_id_fkey\" FOREIGN KEY (app_id) REFERENCES shopify.apps(id)\n",
      "    \"key_benefits_app_id_fkey1\" FOREIGN KEY (app_id) REFERENCES shopify.apps(id)\n",
      "\n"
     ]
    }
   ],
   "source": [
    "!psql -c \"\\d shopify.key_benefits\""
   ]
  },
  {
   "cell_type": "code",
   "execution_count": 85,
   "metadata": {},
   "outputs": [
    {
     "name": "stdout",
     "output_type": "stream",
     "text": [
      "                   Table \"shopify.pricing_plan_features\"\n",
      "     Column      |          Type           | Collation | Nullable | Default \n",
      "-----------------+-------------------------+-----------+----------+---------\n",
      " pricing_plan_id | character(36)           |           | not null | \n",
      " app_id          | character(36)           |           | not null | \n",
      " feature         | character varying(2000) |           | not null | \n",
      "Indexes:\n",
      "    \"pricing_plan_features_pkey\" PRIMARY KEY, btree (pricing_plan_id, app_id, feature)\n",
      "Foreign-key constraints:\n",
      "    \"pricing_plan_features_app_id_fkey\" FOREIGN KEY (app_id) REFERENCES shopify.apps(id)\n",
      "    \"pricing_plan_features_app_id_fkey1\" FOREIGN KEY (app_id) REFERENCES shopify.apps(id)\n",
      "    \"pricing_plan_features_pricing_plan_id_fkey\" FOREIGN KEY (pricing_plan_id) REFERENCES shopify.pricing_plans(id)\n",
      "    \"pricing_plan_features_pricing_plan_id_fkey1\" FOREIGN KEY (pricing_plan_id) REFERENCES shopify.pricing_plans(id)\n",
      "\n"
     ]
    }
   ],
   "source": [
    "!psql -c \"\\d shopify.pricing_plan_features\""
   ]
  },
  {
   "cell_type": "code",
   "execution_count": 86,
   "metadata": {},
   "outputs": [
    {
     "name": "stdout",
     "output_type": "stream",
     "text": [
      "                       Table \"shopify.reviews\"\n",
      "  Column   |          Type          | Collation | Nullable | Default \n",
      "-----------+------------------------+-----------+----------+---------\n",
      " app_id    | character(36)          |           | not null | \n",
      " author    | character varying(250) |           | not null | \n",
      " rating    | integer                |           |          | \n",
      " posted_at | date                   |           |          | \n",
      "Indexes:\n",
      "    \"reviews_pkey\" PRIMARY KEY, btree (app_id, author)\n",
      "Foreign-key constraints:\n",
      "    \"reviews_app_id_fkey\" FOREIGN KEY (app_id) REFERENCES shopify.apps(id)\n",
      "    \"reviews_app_id_fkey1\" FOREIGN KEY (app_id) REFERENCES shopify.apps(id)\n",
      "\n"
     ]
    }
   ],
   "source": [
    "!psql -c \"\\d shopify.reviews\""
   ]
  },
  {
   "cell_type": "code",
   "execution_count": 87,
   "metadata": {},
   "outputs": [
    {
     "name": "stdout",
     "output_type": "stream",
     "text": [
      "                  Table \"shopify.pricing_plans\"\n",
      " Column |          Type          | Collation | Nullable | Default \n",
      "--------+------------------------+-----------+----------+---------\n",
      " id     | character(36)          |           | not null | \n",
      " app_id | character(36)          |           |          | \n",
      " title  | character varying(200) |           |          | \n",
      " price  | double precision       |           |          | \n",
      "Indexes:\n",
      "    \"pricing_plans_pkey\" PRIMARY KEY, btree (id)\n",
      "Foreign-key constraints:\n",
      "    \"pricing_plans_app_id_fkey\" FOREIGN KEY (app_id) REFERENCES shopify.apps(id)\n",
      "    \"pricing_plans_app_id_fkey1\" FOREIGN KEY (app_id) REFERENCES shopify.apps(id)\n",
      "Referenced by:\n",
      "    TABLE \"shopify.pricing_plan_features\" CONSTRAINT \"pricing_plan_features_pricing_plan_id_fkey\" FOREIGN KEY (pricing_plan_id) REFERENCES shopify.pricing_plans(id)\n",
      "    TABLE \"shopify.pricing_plan_features\" CONSTRAINT \"pricing_plan_features_pricing_plan_id_fkey1\" FOREIGN KEY (pricing_plan_id) REFERENCES shopify.pricing_plans(id)\n",
      "\n"
     ]
    }
   ],
   "source": [
    "!psql -c \"\\d shopify.pricing_plans\""
   ]
  },
  {
   "cell_type": "markdown",
   "metadata": {},
   "source": [
    "### 5. Populate the tables"
   ]
  },
  {
   "cell_type": "code",
   "execution_count": 16,
   "metadata": {
    "tags": []
   },
   "outputs": [
    {
     "name": "stdout",
     "output_type": "stream",
     "text": [
      "Importing data into Cloud SQL instance...done.                                 \n",
      "Imported data from [gs://cs327e-open-access/postgres_shopify/apps.csv] into [https://sqladmin.googleapis.com/sql/v1beta4/projects/third-being-397119/instances/postgres].\n"
     ]
    }
   ],
   "source": [
    "!gcloud sql import csv $PGINSTANCE gs://cs327e-open-access/postgres_shopify/apps.csv --database=postgres --table=shopify.apps --quiet\n"
   ]
  },
  {
   "cell_type": "code",
   "execution_count": 17,
   "metadata": {
    "tags": []
   },
   "outputs": [
    {
     "name": "stdout",
     "output_type": "stream",
     "text": [
      "Importing data into Cloud SQL instance...done.                                 \n",
      "Imported data from [gs://cs327e-open-access/postgres_shopify/apps_categories.csv] into [https://sqladmin.googleapis.com/sql/v1beta4/projects/third-being-397119/instances/postgres].\n"
     ]
    }
   ],
   "source": [
    "!gcloud sql import csv $PGINSTANCE gs://cs327e-open-access/postgres_shopify/apps_categories.csv --database=postgres --table=shopify.apps_categories --quiet\n"
   ]
  },
  {
   "cell_type": "code",
   "execution_count": 18,
   "metadata": {
    "tags": []
   },
   "outputs": [
    {
     "name": "stdout",
     "output_type": "stream",
     "text": [
      "Importing data into Cloud SQL instance...done.                                 \n",
      "Imported data from [gs://cs327e-open-access/postgres_shopify/categories.csv] into [https://sqladmin.googleapis.com/sql/v1beta4/projects/third-being-397119/instances/postgres].\n"
     ]
    }
   ],
   "source": [
    "!gcloud sql import csv $PGINSTANCE gs://cs327e-open-access/postgres_shopify/categories.csv --database=postgres --table=shopify.categories --quiet\n"
   ]
  },
  {
   "cell_type": "code",
   "execution_count": 19,
   "metadata": {
    "tags": []
   },
   "outputs": [
    {
     "name": "stdout",
     "output_type": "stream",
     "text": [
      "Importing data into Cloud SQL instance...done.                                 \n",
      "Imported data from [gs://cs327e-open-access/postgres_shopify/key_benefits.csv] into [https://sqladmin.googleapis.com/sql/v1beta4/projects/third-being-397119/instances/postgres].\n"
     ]
    }
   ],
   "source": [
    "!gcloud sql import csv $PGINSTANCE gs://cs327e-open-access/postgres_shopify/key_benefits.csv --database=postgres --table=shopify.key_benefits --quiet\n"
   ]
  },
  {
   "cell_type": "code",
   "execution_count": 20,
   "metadata": {
    "tags": []
   },
   "outputs": [
    {
     "name": "stdout",
     "output_type": "stream",
     "text": [
      "Importing data into Cloud SQL instance...done.                                 \n",
      "Imported data from [gs://cs327e-open-access/postgres_shopify/pricing_plans.csv] into [https://sqladmin.googleapis.com/sql/v1beta4/projects/third-being-397119/instances/postgres].\n"
     ]
    }
   ],
   "source": [
    "!gcloud sql import csv $PGINSTANCE gs://cs327e-open-access/postgres_shopify/pricing_plans.csv --database=postgres --table=shopify.pricing_plans --quiet\n"
   ]
  },
  {
   "cell_type": "code",
   "execution_count": 21,
   "metadata": {
    "tags": []
   },
   "outputs": [
    {
     "name": "stdout",
     "output_type": "stream",
     "text": [
      "Importing data into Cloud SQL instance...done.                                 \n",
      "Imported data from [gs://cs327e-open-access/postgres_shopify/pricing_plan_features.csv] into [https://sqladmin.googleapis.com/sql/v1beta4/projects/third-being-397119/instances/postgres].\n"
     ]
    }
   ],
   "source": [
    "!gcloud sql import csv $PGINSTANCE gs://cs327e-open-access/postgres_shopify/pricing_plan_features.csv --database=postgres --table=shopify.pricing_plan_features --quiet\n"
   ]
  },
  {
   "cell_type": "code",
   "execution_count": 22,
   "metadata": {
    "tags": []
   },
   "outputs": [
    {
     "name": "stdout",
     "output_type": "stream",
     "text": [
      "Importing data into Cloud SQL instance...done.                                 \n",
      "Imported data from [gs://cs327e-open-access/postgres_shopify/reviews.csv] into [https://sqladmin.googleapis.com/sql/v1beta4/projects/third-being-397119/instances/postgres].\n"
     ]
    }
   ],
   "source": [
    "!gcloud sql import csv $PGINSTANCE gs://cs327e-open-access/postgres_shopify/reviews.csv --database=postgres --table=shopify.reviews --quiet\n"
   ]
  },
  {
   "cell_type": "markdown",
   "metadata": {},
   "source": [
    "### 5. Get a record count for each table"
   ]
  },
  {
   "cell_type": "code",
   "execution_count": 23,
   "metadata": {
    "tags": []
   },
   "outputs": [
    {
     "name": "stdout",
     "output_type": "stream",
     "text": [
      " count \n",
      "-------\n",
      "  3547\n",
      "(1 row)\n",
      "\n"
     ]
    }
   ],
   "source": [
    "!psql -c \"select count(*) from shopify.apps\""
   ]
  },
  {
   "cell_type": "code",
   "execution_count": 24,
   "metadata": {
    "tags": []
   },
   "outputs": [
    {
     "name": "stdout",
     "output_type": "stream",
     "text": [
      " count \n",
      "-------\n",
      "  5383\n",
      "(1 row)\n",
      "\n"
     ]
    }
   ],
   "source": [
    "!psql -c \"select count(*) from shopify.apps_categories\""
   ]
  },
  {
   "cell_type": "code",
   "execution_count": 25,
   "metadata": {
    "tags": []
   },
   "outputs": [
    {
     "name": "stdout",
     "output_type": "stream",
     "text": [
      " count \n",
      "-------\n",
      "    12\n",
      "(1 row)\n",
      "\n"
     ]
    }
   ],
   "source": [
    "!psql -c \"select count(*) from shopify.categories\""
   ]
  },
  {
   "cell_type": "code",
   "execution_count": 26,
   "metadata": {
    "tags": []
   },
   "outputs": [
    {
     "name": "stdout",
     "output_type": "stream",
     "text": [
      " count \n",
      "-------\n",
      "  9541\n",
      "(1 row)\n",
      "\n"
     ]
    }
   ],
   "source": [
    "!psql -c \"select count(*) from shopify.key_benefits\""
   ]
  },
  {
   "cell_type": "code",
   "execution_count": 27,
   "metadata": {
    "tags": []
   },
   "outputs": [
    {
     "name": "stdout",
     "output_type": "stream",
     "text": [
      " count \n",
      "-------\n",
      " 16270\n",
      "(1 row)\n",
      "\n"
     ]
    }
   ],
   "source": [
    "!psql -c \"select count(*) from shopify.pricing_plan_features\""
   ]
  },
  {
   "cell_type": "code",
   "execution_count": 28,
   "metadata": {
    "tags": []
   },
   "outputs": [
    {
     "name": "stdout",
     "output_type": "stream",
     "text": [
      " count \n",
      "-------\n",
      "  6275\n",
      "(1 row)\n",
      "\n"
     ]
    }
   ],
   "source": [
    "!psql -c \"select count(*) from shopify.pricing_plans\""
   ]
  },
  {
   "cell_type": "code",
   "execution_count": 29,
   "metadata": {
    "tags": []
   },
   "outputs": [
    {
     "name": "stdout",
     "output_type": "stream",
     "text": [
      " count  \n",
      "--------\n",
      " 124601\n",
      "(1 row)\n",
      "\n"
     ]
    }
   ],
   "source": [
    "!psql -c \"select count(*) from shopify.reviews\""
   ]
  },
  {
   "cell_type": "markdown",
   "metadata": {},
   "source": [
    "### 6. Sample the tables"
   ]
  },
  {
   "cell_type": "code",
   "execution_count": 30,
   "metadata": {},
   "outputs": [
    {
     "name": "stdout",
     "output_type": "stream",
     "text": [
      "                  id                  |                         url                         |             title             |         developer          |                        developer_link                        |                                                                   icon                                                                   | rating | reviews_count \n",
      "--------------------------------------+-----------------------------------------------------+-------------------------------+----------------------------+--------------------------------------------------------------+------------------------------------------------------------------------------------------------------------------------------------------+--------+---------------\n",
      " 683d06af-14c7-4733-9bde-ec5b699af886 | https://apps.shopify.com/facebook-store             | Facebook Shop channel         | Shopify                    | https://apps.shopify.com/partners/shopify                    | https://apps.shopifycdn.com/listing_images/d89827eee683b30743dab8a8c3a4c56f/icon/dd3e663d67c894a34a325ea819404950.png?height=84&width=84 |    2.5 |           542\n",
      " 562a0052-f1de-4919-896f-546e453f33cd | https://apps.shopify.com/mailerlite-email-marketing | MailerLite Email Marketing    | MailerLite                 | https://apps.shopify.com/partners/ml-newsletters             | https://apps.shopifycdn.com/listing_images/d2555aedca494035e9b9d9858d099a54/icon/683e7a27f031a872269521e7b111c1f1.png?height=84&width=84 |      3 |            49\n",
      " c35c71f4-eeb3-4ff8-856a-f7e2b89aca32 | https://apps.shopify.com/syncommerce                | SynCommerce                   | Mavericks Technologies Ltd | https://apps.shopify.com/partners/mavericks-technologies-ltd | https://apps.shopifycdn.com/listing_images/3cd18d1611d08c8929f8075714568dae/icon/cd4f6576761844c4ddd5b5c1d030aa36.png?height=84&width=84 |      3 |            81\n",
      " 7a282c82-620e-4b4b-955a-e91a2fbb0d9e | https://apps.shopify.com/wanelo                     | Wanelo                        | Wanelo                     | https://apps.shopify.com/partners/wanelo                     | https://apps.shopifycdn.com/listing_images/dfa55da6d6d34532879d7ac598377529/icon/f4ead108b5fd2b4b469105f4b27c6dae.png?height=84&width=84 |      3 |           190\n",
      " befdf234-4b61-474b-b0b8-bf6dc59db2be | https://apps.shopify.com/adroll-retargeting         | AdRoll Ads & Retargeting      | AdRoll                     | https://apps.shopify.com/partners/adroll                     | https://apps.shopifycdn.com/listing_images/6ebaf39a3592a11d95d4436f522e6bc0/icon/007f106ab4a5209c3560c749e94c6990.png?height=84&width=84 |    3.5 |           132\n",
      " fc4456a8-ed08-4b9a-8fcb-2cb4563fbac2 | https://apps.shopify.com/slider-app-by-hulkapps     | Image Slider & Hero Banner    | HulkApps.com               | https://apps.shopify.com/partners/hulk-code                  | https://apps.shopifycdn.com/listing_images/b615ad79a257362bf563dc990736a75d/icon/f6713fdb379be502586ad25defa52a20.png?height=84&width=84 |    3.5 |            44\n",
      " bb04a615-7645-4ddc-a1fd-ed6fef501a0d | https://apps.shopify.com/affiliate                  | AAA ‑ Affiliate Marketing PRO | AAAeCommerce Inc           | https://apps.shopify.com/partners/aaawebstore                | https://apps.shopifycdn.com/listing_images/b40df7fe45d61bc27de4de04cf83cbae/icon/a9254e3723c0c60e3bc7093d077aa587.png?height=84&width=84 |    3.5 |            34\n",
      "(7 rows)\n",
      "\n"
     ]
    }
   ],
   "source": [
    "!psql -c \"select * from shopify.apps limit 7\""
   ]
  },
  {
   "cell_type": "code",
   "execution_count": 31,
   "metadata": {},
   "outputs": [
    {
     "name": "stdout",
     "output_type": "stream",
     "text": [
      "                app_id                |             category_id              \n",
      "--------------------------------------+--------------------------------------\n",
      " 94e751e2-eb8f-42c1-810d-bddb71ed6cbd | 26a72de0d02e0e4e5f615332d61a878e    \n",
      " 43850ba2-302f-40cc-8140-5835f2fe7a1b | 26a72de0d02e0e4e5f615332d61a878e    \n",
      " 4c0d0351-6764-4332-b1e4-caa746b3eca9 | 26a72de0d02e0e4e5f615332d61a878e    \n",
      " 9b4045ac-dff1-4933-9cb6-6a9cb6a0bf65 | 26a72de0d02e0e4e5f615332d61a878e    \n",
      " dcd5271f-0ccf-4822-84f6-4b38208bf6ef | 26a72de0d02e0e4e5f615332d61a878e    \n",
      " c7a86427-c015-4b1f-92e2-6b0aa2151070 | 26a72de0d02e0e4e5f615332d61a878e    \n",
      " da63498e-5d98-44a6-9f28-f43e53457be7 | 26a72de0d02e0e4e5f615332d61a878e    \n",
      "(7 rows)\n",
      "\n"
     ]
    }
   ],
   "source": [
    "!psql -c \"select * from shopify.apps_categories limit 7\""
   ]
  },
  {
   "cell_type": "code",
   "execution_count": 32,
   "metadata": {},
   "outputs": [
    {
     "name": "stdout",
     "output_type": "stream",
     "text": [
      "                  id                  |               title               \n",
      "--------------------------------------+-----------------------------------\n",
      " 64430ad2835be8ad60c59e7d44e4b0b1     | Customer support\n",
      " 737ad50051083aa051d127a53b3ac0da     | Productivity\n",
      " 30a930262efca129caafcd586bc7e6fe     | Places to sell\n",
      " 30ea2315e910c5e5335de42d5e87dca5     | Orders and shipping\n",
      " c769c2bd15500dd906102d9be97fdceb     | Marketing\n",
      " 26a72de0d02e0e4e5f615332d61a878e     | Finances\n",
      " 5eb4e29e50e3f178acc614236ed107f4     | Sales and conversion optimization\n",
      "(7 rows)\n",
      "\n"
     ]
    }
   ],
   "source": [
    "!psql -c \"select * from shopify.categories limit 7\""
   ]
  },
  {
   "cell_type": "code",
   "execution_count": 33,
   "metadata": {},
   "outputs": [
    {
     "name": "stdout",
     "output_type": "stream",
     "text": [
      "                app_id                |             title              |                                                                 description                                                                  \n",
      "--------------------------------------+--------------------------------+----------------------------------------------------------------------------------------------------------------------------------------------\n",
      " 00289a9f-9f12-45b1-963b-67e78403f7c7 | Improve order size             | Increase your Sales and Order Size\n",
      " 00289a9f-9f12-45b1-963b-67e78403f7c7 | Multiple Upsells and Triggers  | After Add to Cart, Checkout Popup, or Exit Intent\n",
      " 00289a9f-9f12-45b1-963b-67e78403f7c7 | Add more products to cart      | Upsell and Cross-Sell Popups\n",
      " 00312cea-3595-4d65-a60d-6e8e5b7d6897 | Best-in-class website security | Protect your Shopify store with best-in-class security. New Shop Protector Plus available to invisibly block bots in background (read more).\n",
      " 00312cea-3595-4d65-a60d-6e8e5b7d6897 | Guards against account fraud   | Your Shopify store traffic is analyzed in real time to protect against fake account creation and potentially fraudulent activity.\n",
      " 00312cea-3595-4d65-a60d-6e8e5b7d6897 | Eliminates annoying form spam  | Shop Protector prevents bots from filling out forms. Stop those annoying contact form and newsletter sign-up spam submissions.\n",
      " 003b3dbd-1295-48cb-a3e8-8f3a0e8fc6df | Reduce shopping time           | Reduce shopping time, and improve customer experience. Increase your sales.\n",
      "(7 rows)\n",
      "\n"
     ]
    }
   ],
   "source": [
    "!psql -c \"select * from shopify.key_benefits limit 7\""
   ]
  },
  {
   "cell_type": "code",
   "execution_count": 34,
   "metadata": {},
   "outputs": [
    {
     "name": "stdout",
     "output_type": "stream",
     "text": [
      "                  id                  |                app_id                |      title      | price \n",
      "--------------------------------------+--------------------------------------+-----------------+-------\n",
      " 89c9f488-de5e-4eed-b8d6-f928373f39a9 | 6afe1c17-a42c-4efd-ac2e-583eedd27c02 | Partner         |     0\n",
      " c8571997-f0c5-4947-a60e-aeb32357bd19 | 75c8cf82-20c3-40e4-8433-3fd3b3ff6e16 | 1 store (Basic) |     0\n",
      " 52056a87-7c25-4178-ac3a-90f9ef5a880c | b26d38b3-89fb-453b-9b74-253a679d134d | Try-out         |     0\n",
      " 8af97ca6-8943-4622-97e3-e6a9506ade7e | 068d655d-3236-4b6b-acea-0f8847b2e4f8 | ALWAYS FREE     |     0\n",
      " 292a6d03-0e7e-4428-99b1-6d7db43bc984 | b22d2154-90b5-4c67-b79d-95df2d81628f | Startup         |     0\n",
      " 8e56b220-ec67-47e5-a8af-4079822ae8c0 | 492592d8-7bf1-4028-b956-813348cabc5d | Bronze          |     0\n",
      " 3e857e28-b50f-484b-9616-fc10ec70fa4e | bede3965-7dd4-448c-8329-c1bf84c5913d | Demo            |     0\n",
      "(7 rows)\n",
      "\n"
     ]
    }
   ],
   "source": [
    "!psql -c \"select * from shopify.pricing_plans limit 7\""
   ]
  },
  {
   "cell_type": "code",
   "execution_count": 35,
   "metadata": {
    "tags": []
   },
   "outputs": [
    {
     "name": "stdout",
     "output_type": "stream",
     "text": [
      "           pricing_plan_id            |                app_id                |                feature                 \n",
      "--------------------------------------+--------------------------------------+----------------------------------------\n",
      " 746bc28d-5bc5-42cb-9d59-1b19c9a8301d | 00312cea-3595-4d65-a60d-6e8e5b7d6897 | Reduce Bot-Based Fraud\n",
      " 746bc28d-5bc5-42cb-9d59-1b19c9a8301d | 00312cea-3595-4d65-a60d-6e8e5b7d6897 | Bulk Cancel Orders\n",
      " 746bc28d-5bc5-42cb-9d59-1b19c9a8301d | 00312cea-3595-4d65-a60d-6e8e5b7d6897 | Configurable Rules for Auto-mitigation\n",
      " 746bc28d-5bc5-42cb-9d59-1b19c9a8301d | 00312cea-3595-4d65-a60d-6e8e5b7d6897 | Checkout Protection\n",
      " 746bc28d-5bc5-42cb-9d59-1b19c9a8301d | 00312cea-3595-4d65-a60d-6e8e5b7d6897 | (Includes all SP Basic Features...)\n",
      " 8215de67-2fbe-4504-885e-ab1aff7fa31a | 00312cea-3595-4d65-a60d-6e8e5b7d6897 | Fake Account Prevention\n",
      " 8215de67-2fbe-4504-885e-ab1aff7fa31a | 00312cea-3595-4d65-a60d-6e8e5b7d6897 | Form Spam Protection\n",
      "(7 rows)\n",
      "\n"
     ]
    }
   ],
   "source": [
    "!psql -c \"select * from shopify.pricing_plan_features limit 7\""
   ]
  },
  {
   "cell_type": "code",
   "execution_count": 36,
   "metadata": {
    "tags": []
   },
   "outputs": [
    {
     "name": "stdout",
     "output_type": "stream",
     "text": [
      "                app_id                |         author         | rating | posted_at  \n",
      "--------------------------------------+------------------------+--------+------------\n",
      " 00289a9f-9f12-45b1-963b-67e78403f7c7 | Hellobeanies           |      5 | 2017-09-01\n",
      " 00289a9f-9f12-45b1-963b-67e78403f7c7 | Pdmovie                |      1 | 2016-10-09\n",
      " 00289a9f-9f12-45b1-963b-67e78403f7c7 | Mommymakeup            |      1 | 2016-11-17\n",
      " 00289a9f-9f12-45b1-963b-67e78403f7c7 | The King Herb Enhancer |      5 | 2016-12-01\n",
      " 00289a9f-9f12-45b1-963b-67e78403f7c7 | Training Top           |      4 | 2018-05-02\n",
      " 005d6c7a-9eb9-4b35-bdd4-040d383e86cf | Natural Vegan          |      5 | 2019-11-15\n",
      " 005d6c7a-9eb9-4b35-bdd4-040d383e86cf | Munchiecat             |      5 | 2019-08-20\n",
      "(7 rows)\n",
      "\n"
     ]
    }
   ],
   "source": [
    "!psql -c \"select * from shopify.reviews limit 7\""
   ]
  },
  {
   "cell_type": "markdown",
   "metadata": {},
   "source": [
    "### Prompt 1: Create the Foreign Keys\n",
    "#### Hint: `alter table shopify.apps_categories add foreign key (app_id) REFERENCES shopify.apps (id);`"
   ]
  },
  {
   "cell_type": "code",
   "execution_count": 74,
   "metadata": {},
   "outputs": [
    {
     "name": "stdout",
     "output_type": "stream",
     "text": [
      "ALTER TABLE\n"
     ]
    }
   ],
   "source": [
    "!psql -c \"alter table shopify.apps_categories add foreign key (app_id) REFERENCES shopify.apps (id);\""
   ]
  },
  {
   "cell_type": "code",
   "execution_count": 75,
   "metadata": {},
   "outputs": [
    {
     "name": "stdout",
     "output_type": "stream",
     "text": [
      "ALTER TABLE\n"
     ]
    }
   ],
   "source": [
    "!psql -c \"alter table shopify.apps_categories add foreign key (category_id) REFERENCES shopify.categories (id);\""
   ]
  },
  {
   "cell_type": "code",
   "execution_count": 76,
   "metadata": {},
   "outputs": [
    {
     "name": "stdout",
     "output_type": "stream",
     "text": [
      "ALTER TABLE\n"
     ]
    }
   ],
   "source": [
    "!psql -c \"alter table shopify.key_benefits add foreign key (app_id) REFERENCES shopify.apps (id);\""
   ]
  },
  {
   "cell_type": "code",
   "execution_count": 77,
   "metadata": {
    "tags": []
   },
   "outputs": [
    {
     "name": "stdout",
     "output_type": "stream",
     "text": [
      "ALTER TABLE\n"
     ]
    }
   ],
   "source": [
    "!psql -c \"alter table shopify.pricing_plans add foreign key (app_id) REFERENCES shopify.apps (id);\""
   ]
  },
  {
   "cell_type": "code",
   "execution_count": 78,
   "metadata": {},
   "outputs": [
    {
     "name": "stdout",
     "output_type": "stream",
     "text": [
      "ALTER TABLE\n"
     ]
    }
   ],
   "source": [
    "!psql -c \"alter table shopify.pricing_plan_features add foreign key (app_id) REFERENCES shopify.apps (id);\""
   ]
  },
  {
   "cell_type": "code",
   "execution_count": 79,
   "metadata": {},
   "outputs": [
    {
     "name": "stdout",
     "output_type": "stream",
     "text": [
      "ALTER TABLE\n"
     ]
    }
   ],
   "source": [
    "!psql -c \"alter table shopify.reviews add foreign key (app_id) REFERENCES shopify.apps (id);\""
   ]
  },
  {
   "cell_type": "code",
   "execution_count": 80,
   "metadata": {},
   "outputs": [
    {
     "name": "stdout",
     "output_type": "stream",
     "text": [
      "ALTER TABLE\n"
     ]
    }
   ],
   "source": [
    "!psql -c \"alter table shopify.pricing_plan_features add foreign key (pricing_plan_id) REFERENCES shopify.pricing_plans (id);\""
   ]
  },
  {
   "cell_type": "markdown",
   "metadata": {},
   "source": [
    "### 7. Run in a transaction:\n",
    "#### Insert a new Shopify app"
   ]
  },
  {
   "cell_type": "code",
   "execution_count": 44,
   "metadata": {
    "tags": []
   },
   "outputs": [
    {
     "name": "stdout",
     "output_type": "stream",
     "text": [
      "SET\n",
      "BEGIN\n",
      "INSERT 0 1\n",
      "INSERT 0 1\n",
      "INSERT 0 1\n",
      "INSERT 0 1\n",
      "INSERT 0 1\n",
      "COMMIT\n"
     ]
    }
   ],
   "source": [
    "!psql -c \"\\i $BASE_DIR/postgres_shopify/insert_tx.sql\""
   ]
  },
  {
   "cell_type": "markdown",
   "metadata": {},
   "source": [
    "### Prompt 2: Run in a transaction\n",
    "#### 1) Get a record count of the pricing plans whose price > 0. \n",
    "#### 2) In a transaction, perform the following logic:\n",
    "#####    -update pricing plans to half of their price value if their price > 0. \n",
    "#####    -update the title of the pricing plans whose price > 0 by adding the suffix ' Half Price' to the current title. Use the `concat(str1, str2)` function to update the title. "
   ]
  },
  {
   "cell_type": "code",
   "execution_count": 45,
   "metadata": {},
   "outputs": [
    {
     "name": "stdout",
     "output_type": "stream",
     "text": [
      "SET\n",
      "BEGIN\n",
      "UPDATE 4780\n",
      "UPDATE 4780\n",
      "COMMIT\n"
     ]
    }
   ],
   "source": [
    "!psql -c \"\\i $BASE_DIR/postgres_shopify/update_tx_2.sql\""
   ]
  },
  {
   "cell_type": "markdown",
   "metadata": {
    "tags": []
   },
   "source": [
    "### Prompt 3: Run in a transaction\n",
    "#### Delete the Shopify apps record for id = '683d06af-14c7-4733-9bde-ec5b699af996' and all of its related records. Hint: you should be deleting records from 5 tables. "
   ]
  },
  {
   "cell_type": "code",
   "execution_count": 46,
   "metadata": {},
   "outputs": [
    {
     "name": "stdout",
     "output_type": "stream",
     "text": [
      "SET\n",
      "BEGIN\n",
      "DELETE 1\n",
      "DELETE 1\n",
      "DELETE 1\n",
      "DELETE 1\n",
      "DELETE 1\n",
      "COMMIT\n"
     ]
    }
   ],
   "source": [
    "!psql -c \"\\i $BASE_DIR/postgres_shopify/update_tx_3.sql\""
   ]
  },
  {
   "cell_type": "markdown",
   "metadata": {},
   "source": [
    "### begin project 3 work"
   ]
  },
  {
   "cell_type": "markdown",
   "metadata": {
    "tags": []
   },
   "source": [
    "#### Insert a new app called \"S and E Weight Watchers\" in the app table. Add the app to the marketing Category using the apps_categories table.  "
   ]
  },
  {
   "cell_type": "code",
   "execution_count": 48,
   "metadata": {},
   "outputs": [
    {
     "name": "stdout",
     "output_type": "stream",
     "text": [
      "SET\n",
      "BEGIN\n",
      "INSERT 0 1\n",
      "INSERT 0 1\n",
      "COMMIT\n"
     ]
    }
   ],
   "source": [
    "!psql -c \"\\i $BASE_DIR/project3sql/insert_tx.sql\""
   ]
  },
  {
   "cell_type": "markdown",
   "metadata": {
    "tags": []
   },
   "source": [
    "#### Update the minimum price of every single app to be $5, and update the titles of the changed apps to notify that the minimum price is now 5 dollars"
   ]
  },
  {
   "cell_type": "code",
   "execution_count": 50,
   "metadata": {},
   "outputs": [
    {
     "name": "stdout",
     "output_type": "stream",
     "text": [
      "SET\n",
      "BEGIN\n",
      "UPDATE 0\n",
      "UPDATE 3502\n",
      "COMMIT\n"
     ]
    }
   ],
   "source": [
    "!psql -c \"\\i $BASE_DIR/project3sql/update_tx.sql\""
   ]
  },
  {
   "cell_type": "markdown",
   "metadata": {},
   "source": [
    "#### Facebook Shop Channel is a badly rated so the developers decided to delete it. "
   ]
  },
  {
   "cell_type": "code",
   "execution_count": 51,
   "metadata": {},
   "outputs": [
    {
     "name": "stdout",
     "output_type": "stream",
     "text": [
      "SET\n",
      "BEGIN\n",
      "DELETE 1\n",
      "DELETE 3\n",
      "DELETE 0\n",
      "DELETE 1\n",
      "DELETE 1\n",
      "COMMIT\n"
     ]
    }
   ],
   "source": [
    "!psql -c \"\\i $BASE_DIR/project3sql/delete_tx.sql\""
   ]
  },
  {
   "cell_type": "markdown",
   "metadata": {},
   "source": [
    "#### Getting all of the apps that have rating above 4 and review count above 50"
   ]
  },
  {
   "cell_type": "code",
   "execution_count": 56,
   "metadata": {
    "collapsed": true,
    "jupyter": {
     "outputs_hidden": true
    },
    "tags": []
   },
   "outputs": [
    {
     "name": "stdout",
     "output_type": "stream",
     "text": [
      "                  id                  |                    developer                    | rating | reviews_count \n",
      "--------------------------------------+-------------------------------------------------+--------+---------------\n",
      " 394fe19a-f80e-41eb-a0d1-c082bfb65ee3 | PushOwl                                         |      5 |          1959\n",
      " 394fe19a-f80e-41eb-a0d1-c082bfb65ee3 | PushOwl                                         |      5 |          1959\n",
      " 394fe19a-f80e-41eb-a0d1-c082bfb65ee3 | PushOwl                                         |      5 |          1959\n",
      " a39f5976-1896-4123-9e96-7088666191f1 | Growave                                         |      5 |           872\n",
      " a39f5976-1896-4123-9e96-7088666191f1 | Growave                                         |      5 |           872\n",
      " a39f5976-1896-4123-9e96-7088666191f1 | Growave                                         |      5 |           872\n",
      " 5373693a-c29e-49c5-9b59-bea48c88ed7e | StilyoApps                                      |      5 |           603\n",
      " 5373693a-c29e-49c5-9b59-bea48c88ed7e | StilyoApps                                      |      5 |           603\n",
      " 5373693a-c29e-49c5-9b59-bea48c88ed7e | StilyoApps                                      |      5 |           603\n",
      " 5373693a-c29e-49c5-9b59-bea48c88ed7e | StilyoApps                                      |      5 |           603\n",
      " 47d979fb-909a-4390-8533-1355767326fd | Estore Automate                                 |      5 |           594\n",
      " 47d979fb-909a-4390-8533-1355767326fd | Estore Automate                                 |      5 |           594\n",
      " 19ef9b42-6b6a-47e3-b46e-6b977f63576e | Code Black Belt                                 |      5 |           552\n",
      " 7d1c902c-0e69-451c-a4e0-3c860fbe6741 | FORSBERG+two                                    |      5 |           428\n",
      " ac948d09-c507-4b94-8ea9-ae953c610876 | KiwiApps                                        |      5 |           373\n",
      " 68dfc7ae-3b67-4e3c-aa29-f306bf539454 | appsolve                                        |      5 |           351\n",
      " 68dfc7ae-3b67-4e3c-aa29-f306bf539454 | appsolve                                        |      5 |           351\n",
      " 68dfc7ae-3b67-4e3c-aa29-f306bf539454 | appsolve                                        |      5 |           351\n",
      " 8d8f7e9a-5816-4eeb-b913-8cfb28139c52 | Play Ecommerce                                  |      5 |           349\n",
      " 8d8f7e9a-5816-4eeb-b913-8cfb28139c52 | Play Ecommerce                                  |      5 |           349\n",
      " 8d8f7e9a-5816-4eeb-b913-8cfb28139c52 | Play Ecommerce                                  |      5 |           349\n",
      " 73e63b1b-1688-435d-8c2d-e64ed258437c | SuperLemon Apps                                 |      5 |           290\n",
      " 73e63b1b-1688-435d-8c2d-e64ed258437c | SuperLemon Apps                                 |      5 |           290\n",
      " 73e63b1b-1688-435d-8c2d-e64ed258437c | SuperLemon Apps                                 |      5 |           290\n",
      " 73e63b1b-1688-435d-8c2d-e64ed258437c | SuperLemon Apps                                 |      5 |           290\n",
      " fe505529-d91e-4482-84a1-38a34634845a | Personizely                                     |      5 |           261\n",
      " fe505529-d91e-4482-84a1-38a34634845a | Personizely                                     |      5 |           261\n",
      " fe505529-d91e-4482-84a1-38a34634845a | Personizely                                     |      5 |           261\n",
      " ebf9a0da-8ae6-4c61-b12a-a861eb41c7de | Conversion Bear                                 |      5 |           234\n",
      " ebf9a0da-8ae6-4c61-b12a-a861eb41c7de | Conversion Bear                                 |      5 |           234\n",
      " d115cbfc-78de-4911-a2e4-0deed10f8300 | Code Black Belt                                 |      5 |           223\n",
      " f5344e64-9cda-4d97-b198-2aaeb5170518 | Modd Apps Inc.                                  |      5 |           223\n",
      " d115cbfc-78de-4911-a2e4-0deed10f8300 | Code Black Belt                                 |      5 |           223\n",
      " c7578030-19fd-42e1-a5a5-03c7861220aa | Onjection Labs                                  |      5 |           219\n",
      " c7578030-19fd-42e1-a5a5-03c7861220aa | Onjection Labs                                  |      5 |           219\n",
      " 149ff559-713a-49f0-8b34-e85f8359c440 | Push Monkey                                     |      5 |           203\n",
      " a4fd9875-0f6e-4275-b191-0904c1b11ad9 | eCommerce Addons                                |      5 |           184\n",
      " a4fd9875-0f6e-4275-b191-0904c1b11ad9 | eCommerce Addons                                |      5 |           184\n",
      " d0be03ff-f74d-4fb5-8d2c-79541a1aea1b | Excelify.io                                     |      5 |           178\n",
      " d0be03ff-f74d-4fb5-8d2c-79541a1aea1b | Excelify.io                                     |      5 |           178\n",
      " d0be03ff-f74d-4fb5-8d2c-79541a1aea1b | Excelify.io                                     |      5 |           178\n",
      " d0be03ff-f74d-4fb5-8d2c-79541a1aea1b | Excelify.io                                     |      5 |           178\n",
      " bb0ec62d-8a5d-45a5-bd46-48fbcb888077 | Kapusta Technologies Ltd                        |      5 |           170\n",
      " bb0ec62d-8a5d-45a5-bd46-48fbcb888077 | Kapusta Technologies Ltd                        |      5 |           170\n",
      " bb0ec62d-8a5d-45a5-bd46-48fbcb888077 | Kapusta Technologies Ltd                        |      5 |           170\n",
      " 149c7ba7-85ab-42cd-9a0c-ce0c04e361d6 | AdWords Robot                                   |      5 |           161\n",
      " ae85f088-0627-4368-8c2e-16be4cac506d | Zooomy                                          |      5 |           161\n",
      " e589e3a3-b877-44d9-85ce-c8ffbbca6c30 | Wholesale Helper                                |      5 |           159\n",
      " 58f13c4f-8ef1-47fb-a74c-f509ae81e45a | Stodge Inc                                      |      5 |           156\n",
      " 4d6b0f1b-12b1-43d6-af33-c3c006a31da7 | Power Tools                                     |      5 |           150\n",
      " 4d6b0f1b-12b1-43d6-af33-c3c006a31da7 | Power Tools                                     |      5 |           150\n",
      " e2765e7b-f1d7-4c15-b601-00deb7b7ca70 | Appikon                                         |      5 |           143\n",
      " e2765e7b-f1d7-4c15-b601-00deb7b7ca70 | Appikon                                         |      5 |           143\n",
      " e2765e7b-f1d7-4c15-b601-00deb7b7ca70 | Appikon                                         |      5 |           143\n",
      " 278973cb-a140-4506-9a41-8599c83a8781 | SaveMySales, Inc.                               |      5 |           134\n",
      " 278973cb-a140-4506-9a41-8599c83a8781 | SaveMySales, Inc.                               |      5 |           134\n",
      " 278973cb-a140-4506-9a41-8599c83a8781 | SaveMySales, Inc.                               |      5 |           134\n",
      " 57f2b53b-3a61-4245-9aea-f5bd54d03503 | NDNAPPS                                         |      5 |           123\n",
      " 57f2b53b-3a61-4245-9aea-f5bd54d03503 | NDNAPPS                                         |      5 |           123\n",
      " a57f9e68-8d94-4f17-a4ba-b1deca58b095 | CloudSearch                                     |      5 |           121\n",
      " a57f9e68-8d94-4f17-a4ba-b1deca58b095 | CloudSearch                                     |      5 |           121\n",
      " a57f9e68-8d94-4f17-a4ba-b1deca58b095 | CloudSearch                                     |      5 |           121\n",
      " 19528881-7696-407c-9fb9-0ce1dc3295a8 | CedCommerce                                     |      5 |           116\n",
      " 19528881-7696-407c-9fb9-0ce1dc3295a8 | CedCommerce                                     |      5 |           116\n",
      " 19528881-7696-407c-9fb9-0ce1dc3295a8 | CedCommerce                                     |      5 |           116\n",
      " 62cb1e0f-0ee4-4918-9fd1-2c597bf15596 | Burst Commerce                                  |      5 |           115\n",
      " 62cb1e0f-0ee4-4918-9fd1-2c597bf15596 | Burst Commerce                                  |      5 |           115\n",
      " 3acb5877-9b1e-467e-8a46-bcf090dea196 | .Brick                                          |      5 |           113\n",
      " fae18032-743c-4044-811e-699c73ed6d9e | CreativeR                                       |      5 |           106\n",
      " 6f66a758-019f-4a43-80da-a0b70ddf67cc | Sales Squad                                     |      5 |           104\n",
      " 6ca391f3-cd0f-4059-a436-50b4ab238212 | iSenseLabs                                      |      5 |           104\n",
      " 6ca391f3-cd0f-4059-a436-50b4ab238212 | iSenseLabs                                      |      5 |           104\n",
      " 6f66a758-019f-4a43-80da-a0b70ddf67cc | Sales Squad                                     |      5 |           104\n",
      " 78882312-3977-48f3-ab85-c36c980cbd3a | 622 Solutions                                   |      5 |           102\n",
      " 78882312-3977-48f3-ab85-c36c980cbd3a | 622 Solutions                                   |      5 |           102\n",
      " 78882312-3977-48f3-ab85-c36c980cbd3a | 622 Solutions                                   |      5 |           102\n",
      " 06f3dbbe-03e0-46ad-b4b0-044599fa8b50 | Addition                                        |      5 |           101\n",
      " fe5880a1-71ad-4cd2-b9fe-1d05ccfb607c | Union Works Apps                                |      5 |            98\n",
      " fe5880a1-71ad-4cd2-b9fe-1d05ccfb607c | Union Works Apps                                |      5 |            98\n",
      " f62f6cba-33f2-4cef-9416-78cda0af45d0 | Reamaze                                         |      5 |            92\n",
      " 03f8627e-0e2f-41c0-b78a-415ee1becc41 | Omega                                           |      5 |            91\n",
      " 3027c82c-ebe0-4cad-9bcf-64f4eae94103 | NDNAPPS                                         |      5 |            88\n",
      " 264454bb-854b-40e9-b1a3-d52b9cce4fd3 | Conversion Bear                                 |      5 |            87\n",
      " 264454bb-854b-40e9-b1a3-d52b9cce4fd3 | Conversion Bear                                 |      5 |            87\n",
      " 8d206c44-2f97-4360-b0f0-756a60e88d32 | Raptor                                          |      5 |            86\n",
      " bf46e8d9-e07e-49fb-9224-c2fb74a8ed9a | Orbis Labs                                      |      5 |            82\n",
      " bf46e8d9-e07e-49fb-9224-c2fb74a8ed9a | Orbis Labs                                      |      5 |            82\n",
      " d9f2d8e3-9cc2-4ffb-8eeb-f8a9b26e2430 | How Many Steps Inc.                             |      5 |            71\n",
      " 655f5ab0-dc2d-4fb9-b970-2285c6073c17 | Highview Apps LLC                               |      5 |            71\n",
      " d9f2d8e3-9cc2-4ffb-8eeb-f8a9b26e2430 | How Many Steps Inc.                             |      5 |            71\n",
      " dd9374df-1df3-4c09-852e-1c014194b9a5 | Appifiny                                        |      5 |            70\n",
      " f99bb1e3-f326-4f10-8901-491652e9809b | Union Works Apps                                |      5 |            68\n",
      " df96eb19-88bd-4280-af17-b566e850da0b | Zooomy                                          |      5 |            68\n",
      " f99bb1e3-f326-4f10-8901-491652e9809b | Union Works Apps                                |      5 |            68\n",
      " fbee74e1-6841-4cd7-84a8-4e88f8dbfb8c | VerifyPass                                      |      5 |            65\n",
      " 7a25737e-bc9a-4b1a-a656-68474bb8bacb | Website On-Demand                               |      5 |            64\n",
      " 7a25737e-bc9a-4b1a-a656-68474bb8bacb | Website On-Demand                               |      5 |            64\n",
      " 8d9e80f2-8a3f-4e75-8c4b-51022c3af699 | optymyze                                        |      5 |            64\n",
      " 8d9e80f2-8a3f-4e75-8c4b-51022c3af699 | optymyze                                        |      5 |            64\n",
      " 8d9e80f2-8a3f-4e75-8c4b-51022c3af699 | optymyze                                        |      5 |            64\n",
      " 5088b3de-2fd6-4362-b7b3-4940a33eb28b | Fulfillrite                                     |      5 |            63\n",
      " 5088b3de-2fd6-4362-b7b3-4940a33eb28b | Fulfillrite                                     |      5 |            63\n",
      " 1aa9acd7-b3d7-4671-8ae4-c98e1884d5cc | Drobile, LLC                                    |      5 |            62\n",
      " df566095-624b-4ff0-988a-2727cf565df2 | Webplanex Infotech PVT LTD                      |      5 |            61\n",
      " df566095-624b-4ff0-988a-2727cf565df2 | Webplanex Infotech PVT LTD                      |      5 |            61\n",
      " c516d83f-0a7a-4b56-b65f-37db23188c7c | Softify OU                                      |      5 |            58\n",
      " 4ff5c386-3a3f-45bc-abbc-c3c0d031b88a | flomllr                                         |      5 |            57\n",
      " 40a834b0-3fa7-4d3f-8552-92b5bcf41311 | StoreBuilder                                    |      5 |            57\n",
      " 4ff5c386-3a3f-45bc-abbc-c3c0d031b88a | flomllr                                         |      5 |            57\n",
      " c7a53e6a-d8a2-4525-b07b-b7976f38e204 | HelpfulCrowd                                    |      5 |            55\n",
      " c7a53e6a-d8a2-4525-b07b-b7976f38e204 | HelpfulCrowd                                    |      5 |            55\n",
      " 18377c3a-9211-439f-824e-27db9a14ef7a | Pandectes                                       |      5 |            52\n",
      " 18377c3a-9211-439f-824e-27db9a14ef7a | Pandectes                                       |      5 |            52\n",
      " 69cbaf26-51eb-43dc-bed4-847b28848af7 | Nulls.Net                                       |      5 |            51\n",
      " f9319453-468c-492a-b937-8efaf381c4d2 | Okendo                                          |      5 |            51\n",
      " f9319453-468c-492a-b937-8efaf381c4d2 | Okendo                                          |      5 |            51\n",
      " f9319453-468c-492a-b937-8efaf381c4d2 | Okendo                                          |      5 |            51\n",
      " 78ea0810-c008-4a4e-a82f-de0c790e3286 | Hextom                                          |    4.9 |          8737\n",
      " 78ea0810-c008-4a4e-a82f-de0c790e3286 | Hextom                                          |    4.9 |          8737\n",
      " 78ea0810-c008-4a4e-a82f-de0c790e3286 | Hextom                                          |    4.9 |          8737\n",
      " 404183ac-6d52-4960-85d2-8350f37c2f0b | Varinode, Inc.                                  |    4.9 |          4245\n",
      " 0380c5ed-7b91-4d4b-9a4e-f6a1c50269dd | Hextom                                          |    4.9 |          4237\n",
      " 28052b5e-bf90-41ac-8a28-f1a797e5836a | Loox                                            |    4.9 |          3212\n",
      " 28052b5e-bf90-41ac-8a28-f1a797e5836a | Loox                                            |    4.9 |          3212\n",
      " 846e7fac-23f8-4ed9-baf1-86cd02ec1ee5 | ShopPad Inc.                                    |    4.9 |          2688\n",
      " 2e86aaa0-2857-4d00-9445-83eeee0cb386 | Fera Commerce Inc                               |    4.9 |          2611\n",
      " 2e86aaa0-2857-4d00-9445-83eeee0cb386 | Fera Commerce Inc                               |    4.9 |          2611\n",
      " a24a90ea-a1bc-4f73-a8d1-4fe8263aa866 | Stamped.io                                      |    4.9 |          2524\n",
      " a24a90ea-a1bc-4f73-a8d1-4fe8263aa866 | Stamped.io                                      |    4.9 |          2524\n",
      " 2d9abf8c-cb36-42fe-8ea4-8fe4895226a8 | Shogun Labs, Inc.                               |    4.9 |          1789\n",
      " 2d9abf8c-cb36-42fe-8ea4-8fe4895226a8 | Shogun Labs, Inc.                               |    4.9 |          1789\n",
      " 1428828c-96fe-4c0a-bac6-aa0dd6142aba | PageFly                                         |    4.9 |          1682\n",
      " 1428828c-96fe-4c0a-bac6-aa0dd6142aba | PageFly                                         |    4.9 |          1682\n",
      " 8dd19980-7ce2-41d6-9f10-4e8079dba302 | Judge.me                                        |    4.9 |          1578\n",
      " 8dd19980-7ce2-41d6-9f10-4e8079dba302 | Judge.me                                        |    4.9 |          1578\n",
      " 8dd19980-7ce2-41d6-9f10-4e8079dba302 | Judge.me                                        |    4.9 |          1578\n",
      " 1aa2f14d-4784-413b-8f89-7e553607ba0e | LimeSpot Solutions Inc.                         |    4.9 |          1331\n",
      " 75684403-9bc8-4878-b8cc-684e49a8612b | Code Black Belt                                 |    4.9 |          1319\n",
      " 95368b79-2ca2-4eeb-a02d-a2484275d46a | Varinode, Inc.                                  |    4.9 |          1229\n",
      " 003b3dbd-1295-48cb-a3e8-8f3a0e8fc6df | Secomapp                                        |    4.9 |          1119\n",
      " 003b3dbd-1295-48cb-a3e8-8f3a0e8fc6df | Secomapp                                        |    4.9 |          1119\n",
      " 21b30440-4a98-4032-8ef4-d2bf0362d194 | Spin-a-Sale                                     |    4.9 |          1092\n",
      " 1f95242d-d78b-4756-8713-85d327ff2a04 | Simprosys InfoMedia                             |    4.9 |          1070\n",
      " 79454d7d-d51b-42ec-a321-ca739b967844 | GemPages                                        |    4.9 |          1000\n",
      " e479f240-0bcf-4efd-9893-0b8382f0a981 | Secomapp                                        |    4.9 |           998\n",
      " ada387a1-3ff6-499a-a644-b6b8a36de3b6 | Swym Corporation                                |    4.9 |           996\n",
      " d312def8-430c-4946-afdd-3070753b25db | Hektor Commerce                                 |    4.9 |           989\n",
      " 6c972825-ca06-46e2-9263-18c7aefc0e96 | FORSBERG+two                                    |    4.9 |           829\n",
      " a0a73bac-2a58-4dd6-8b9e-72d2bf2c2fad | Cross Sell                                      |    4.9 |           819\n",
      " a0a73bac-2a58-4dd6-8b9e-72d2bf2c2fad | Cross Sell                                      |    4.9 |           819\n",
      " b802e975-cad1-435a-8976-cd80170f8c2f | Searchanise                                     |    4.9 |           803\n",
      " b802e975-cad1-435a-8976-cd80170f8c2f | Searchanise                                     |    4.9 |           803\n",
      " eaae5cb2-f49a-4c05-b4d7-39708885a024 | ReferralCandy                                   |    4.9 |           748\n",
      " eaae5cb2-f49a-4c05-b4d7-39708885a024 | ReferralCandy                                   |    4.9 |           748\n",
      " 9e0a4bdc-3385-4ebf-9143-4f988cc590bc | SMSBump Ltd.                                    |    4.9 |           697\n",
      " 9e0a4bdc-3385-4ebf-9143-4f988cc590bc | SMSBump Ltd.                                    |    4.9 |           697\n",
      " 9e0a4bdc-3385-4ebf-9143-4f988cc590bc | SMSBump Ltd.                                    |    4.9 |           697\n",
      " a340b3ab-4e74-4dab-bd9b-b4a09784e148 | Rewind                                          |    4.9 |           689\n",
      " 3f0f96a7-3131-46a5-9d1c-375bc38cce60 | LoyaltyHarbour                                  |    4.9 |           681\n",
      " e30fee52-198b-466e-bf8a-3a6d1042a3c2 | Code Black Belt                                 |    4.9 |           674\n",
      " af38eca8-1797-4b70-bcfe-445eee9cd1bb | Thimatic                                        |    4.9 |           638\n",
      " af38eca8-1797-4b70-bcfe-445eee9cd1bb | Thimatic                                        |    4.9 |           638\n",
      " a491403e-4884-453a-9500-3b0aae772947 | Fast Simon, Inc.                                |    4.9 |           602\n",
      " a491403e-4884-453a-9500-3b0aae772947 | Fast Simon, Inc.                                |    4.9 |           602\n",
      " 7aaece62-fb02-4e6a-a919-8b67a2f1ca2b | NexusMedia                                      |    4.9 |           589\n",
      " 74aad453-8c43-4b1e-acb4-42ed3d9f2399 | BoostCommerce                                   |    4.9 |           533\n",
      " b3d845eb-a477-4e8d-8cc2-9afe3bb720bc | Skup                                            |    4.9 |           519\n",
      " b7f8cafa-4c87-4eaf-ab5a-959e238ada13 | Cartback                                        |    4.9 |           458\n",
      " b7f8cafa-4c87-4eaf-ab5a-959e238ada13 | Cartback                                        |    4.9 |           458\n",
      " 362742fe-7379-4509-87d5-ee80c0a17682 | Rise.ai                                         |    4.9 |           422\n",
      " 362742fe-7379-4509-87d5-ee80c0a17682 | Rise.ai                                         |    4.9 |           422\n",
      " 362742fe-7379-4509-87d5-ee80c0a17682 | Rise.ai                                         |    4.9 |           422\n",
      " 362742fe-7379-4509-87d5-ee80c0a17682 | Rise.ai                                         |    4.9 |           422\n",
      " 362742fe-7379-4509-87d5-ee80c0a17682 | Rise.ai                                         |    4.9 |           422\n",
      " 8aa4cc86-bb9d-4f9b-8e5c-184b045f3cc5 | Secomapp                                        |    4.9 |           413\n",
      " eecf7ac5-5399-4f9d-8532-0eb10a0ae825 | FORSBERG+two                                    |    4.9 |           396\n",
      " d9a40341-ecda-407a-9d11-25223e6bcc49 | Storeya                                         |    4.9 |           366\n",
      " d9a40341-ecda-407a-9d11-25223e6bcc49 | Storeya                                         |    4.9 |           366\n",
      " 7e49ac3d-0fd7-451a-ae12-98543b14295c | Little Stream Software                          |    4.9 |           364\n",
      " 9a7166d7-d879-4e3a-a092-ca012c845530 | Innonic                                         |    4.9 |           359\n",
      " 2fb8f84e-74d2-4064-aa56-424769197544 | Skup                                            |    4.9 |           352\n",
      " 9c894a2c-dfd4-472c-891a-96827d7d3d77 | Adolab                                          |    4.9 |           351\n",
      " 9c894a2c-dfd4-472c-891a-96827d7d3d77 | Adolab                                          |    4.9 |           351\n",
      " 9fd0f62e-97b1-4668-b8a2-36b46fa0c63a | Sherpas Design                                  |    4.9 |           314\n",
      " 0be128e9-657c-4a6d-ac44-a9c74e75b3db | MakeProSimp                                     |    4.9 |           311\n",
      " 0be128e9-657c-4a6d-ac44-a9c74e75b3db | MakeProSimp                                     |    4.9 |           311\n",
      " 58084a07-e3c1-449f-98a3-0bcc5ea6d1b3 | Code Black Belt                                 |    4.9 |           302\n",
      " ca6f7a67-4a34-4b8d-8f11-73acf44991d1 | MakeProSimp                                     |    4.9 |           298\n",
      " ca6f7a67-4a34-4b8d-8f11-73acf44991d1 | MakeProSimp                                     |    4.9 |           298\n",
      " 8df42f55-f190-4adb-9912-b9ac3522062a | ShopPad Inc.                                    |    4.9 |           294\n",
      " 3874a32c-b331-418b-b835-dafb99a5b7fb | Shop Sheriff                                    |    4.9 |           293\n",
      " 3874a32c-b331-418b-b835-dafb99a5b7fb | Shop Sheriff                                    |    4.9 |           293\n",
      " 4c011b17-7b5c-48e8-90d5-64d10d2baba1 | Omega Commerce                                  |    4.9 |           286\n",
      " e3d1a5f4-fffd-4f9e-9e84-6dfabf983d0c | Secomapp                                        |    4.9 |           275\n",
      " 307f9046-38bc-42d1-9c29-a669548d838a | Better Reports                                  |    4.9 |           264\n",
      " 307f9046-38bc-42d1-9c29-a669548d838a | Better Reports                                  |    4.9 |           264\n",
      " 307f9046-38bc-42d1-9c29-a669548d838a | Better Reports                                  |    4.9 |           264\n",
      " 9c6e5a71-aad7-42b9-9972-8b0be83f5f31 | enormapps                                       |    4.9 |           260\n",
      " 9c6e5a71-aad7-42b9-9972-8b0be83f5f31 | enormapps                                       |    4.9 |           260\n",
      " 5d4f6d25-1b25-4a2c-b300-95f12fb2bd6b | Opinew                                          |    4.9 |           254\n",
      " 5d4f6d25-1b25-4a2c-b300-95f12fb2bd6b | Opinew                                          |    4.9 |           254\n",
      " a244ccce-ca60-4062-8532-cdf74f9130ca | enormapps                                       |    4.9 |           249\n",
      " 890a6e1b-8dc0-4866-b0a4-ea67e3daf07b | Above Market                                    |    4.9 |           249\n",
      " 890a6e1b-8dc0-4866-b0a4-ea67e3daf07b | Above Market                                    |    4.9 |           249\n",
      " 890a6e1b-8dc0-4866-b0a4-ea67e3daf07b | Above Market                                    |    4.9 |           249\n",
      " 6a262b00-9598-4ca2-86e2-0bf92c75ee5b | Growave                                         |    4.9 |           228\n",
      " 6a262b00-9598-4ca2-86e2-0bf92c75ee5b | Growave                                         |    4.9 |           228\n",
      " 6a262b00-9598-4ca2-86e2-0bf92c75ee5b | Growave                                         |    4.9 |           228\n",
      " 66b8060c-8b71-4a5f-948f-4d66c64643d1 | Storeya                                         |    4.9 |           224\n",
      " 2fac2734-274c-4f84-9865-752cc6b737ee | SureSwift Capital                               |    4.9 |           217\n",
      " 740dcdc6-d0d6-4272-8590-5fdddbf0d1b4 | TechSimple                                      |    4.9 |           211\n",
      " 740dcdc6-d0d6-4272-8590-5fdddbf0d1b4 | TechSimple                                      |    4.9 |           211\n",
      " 6fa217a1-eeee-493c-b006-2d4802f95dba | Coolence                                        |    4.9 |           204\n",
      " 3da033d2-b86c-45b0-a599-397e9d39a7b1 | eCommerce Addons                                |    4.9 |           200\n",
      " 134202f5-d5f8-4891-aa32-6f5db41136ec | Gadol Apps                                      |    4.9 |           200\n",
      " aae7c54e-5151-41f9-af67-55e81f820139 | Sufio                                           |    4.9 |           199\n",
      " aae7c54e-5151-41f9-af67-55e81f820139 | Sufio                                           |    4.9 |           199\n",
      " 223ba7b5-805b-4de4-b67b-f202232bfe1d | Helium                                          |    4.9 |           198\n",
      " 223ba7b5-805b-4de4-b67b-f202232bfe1d | Helium                                          |    4.9 |           198\n",
      " 9e934f73-4c33-4cfc-aafa-dbae552433b4 | Secomapp                                        |    4.9 |           195\n",
      " 4c1307fb-9357-484d-ad65-4d60a4e3de14 | Digital Darts                                   |    4.9 |           191\n",
      " 4c1307fb-9357-484d-ad65-4d60a4e3de14 | Digital Darts                                   |    4.9 |           191\n",
      " fc6d7a6c-7fea-47a2-bb8a-4c04730a4287 | Seguno                                          |    4.9 |           191\n",
      " 188df338-264a-42f3-9185-8f596a1516eb | importify                                       |    4.9 |           188\n",
      " 188df338-264a-42f3-9185-8f596a1516eb | importify                                       |    4.9 |           188\n",
      " 973bf77e-db6a-4373-9fc4-dae1e3191744 | Expert Village Media Technologies               |    4.9 |           181\n",
      " 973bf77e-db6a-4373-9fc4-dae1e3191744 | Expert Village Media Technologies               |    4.9 |           181\n",
      " 2183952a-293d-43eb-a4da-af6fbac02da5 | CedCommerce                                     |    4.9 |           176\n",
      " 7091b588-eb77-4129-932c-503d77a8b079 | Elastic Soft                                    |    4.9 |           176\n",
      " 5dab3058-2f3a-4ae9-a4ca-9866ce46e266 | Tech Dignity                                    |    4.9 |           171\n",
      " 5b3c0ad2-0d37-4c4e-88b9-73d5b40f2eb7 | StarApps Studio                                 |    4.9 |           171\n",
      " 5dab3058-2f3a-4ae9-a4ca-9866ce46e266 | Tech Dignity                                    |    4.9 |           171\n",
      " 29cae7b7-3c41-4239-bf3f-5ee0f853647f | Coupo                                           |    4.9 |           167\n",
      " 29cae7b7-3c41-4239-bf3f-5ee0f853647f | Coupo                                           |    4.9 |           167\n",
      " a9afff9c-c3e9-49e7-bc5e-8c787ea1e3d0 | NexusMedia                                      |    4.9 |           166\n",
      " b546c00b-6eb2-43b8-8da9-d9d2bda64c38 | Revy Apps                                       |    4.9 |           157\n",
      " f0df7613-a0f0-4167-ae04-0729e583854e | KingWebmaster                                   |    4.9 |           155\n",
      " 590a7fd9-082d-4903-a77a-af99af0164a7 | Okas Concepts                                   |    4.9 |           150\n",
      " e5e5762c-1d0c-4408-bf71-da739415f350 | Vajro Mobile App                                |    4.9 |           143\n",
      " ee97094b-66a1-45ae-b7ae-0817d5e726da | Appmate                                         |    4.9 |           141\n",
      " b52085d4-fe58-4249-b103-700e3e2e5f40 | Shopify                                         |    4.9 |           134\n",
      " b52085d4-fe58-4249-b103-700e3e2e5f40 | Shopify                                         |    4.9 |           134\n",
      " 3b4b0fb7-b3e9-4c51-885d-01660d677e0d | Wordsense                                       |    4.9 |           131\n",
      " 1b3c3a0d-2637-49aa-a821-838853f72461 | Code Black Belt                                 |    4.9 |           130\n",
      " 49a4a215-5af1-4124-875f-f53c9b159e3b | CedCommerce                                     |    4.9 |           126\n",
      " 49a4a215-5af1-4124-875f-f53c9b159e3b | CedCommerce                                     |    4.9 |           126\n",
      " b48af45b-853a-4dae-84dd-cd838fa723b2 | Code Black Belt                                 |    4.9 |           125\n",
      " 234363be-dc0a-4298-af40-27f70f465b0f | W3trends Inc.                                   |    4.9 |           125\n",
      " 8c013192-023f-4f59-8cc0-109c5615a2bb | Power Tools                                     |    4.9 |           119\n",
      " 3b79d9ea-7b3f-4e5a-8cbb-09bd02d74d4b | Flitzo                                          |    4.9 |           112\n",
      " 8c165d0a-9044-42fa-9240-b462d0b219d4 | Uplinkly                                        |    4.9 |           111\n",
      " a77912f6-c5cc-4437-8804-792bd2ed569a | Webmarked                                       |    4.9 |           109\n",
      " f68343b0-7517-4a07-9820-22e73ce74fc6 | Goldendev | Nice                                |    4.9 |           109\n",
      " 0067a20e-e307-490e-acc5-8442d4bdca4b | Onjection Labs                                  |    4.9 |           108\n",
      " 0067a20e-e307-490e-acc5-8442d4bdca4b | Onjection Labs                                  |    4.9 |           108\n",
      " 8c54d502-51e5-45b4-8d85-2ceb35c1b67f | .Brick                                          |    4.9 |           107\n",
      " c0f71878-8287-42c7-8ffe-def45bb72a0f | Simprosys InfoMedia                             |    4.9 |           107\n",
      " 62aa56f9-cd86-4f41-8729-e749b1e4fc52 | Wholesale Helper                                |    4.9 |           107\n",
      " 62aa56f9-cd86-4f41-8729-e749b1e4fc52 | Wholesale Helper                                |    4.9 |           107\n",
      " 6efc9d4f-f163-48a6-a7aa-34a48a793dc6 | Zooomy                                          |    4.9 |           106\n",
      " 6efc9d4f-f163-48a6-a7aa-34a48a793dc6 | Zooomy                                          |    4.9 |           106\n",
      " af2257ae-b36a-4bc9-acc6-0d75dbb432ff | Conjured                                        |    4.9 |           104\n",
      " 6bbcc4a2-eeb5-4d58-9ce5-f4cf2d4dd0d4 | Ablestar                                        |    4.9 |           103\n",
      " 6bbcc4a2-eeb5-4d58-9ce5-f4cf2d4dd0d4 | Ablestar                                        |    4.9 |           103\n",
      " 86fbb9c1-fb96-4440-8a12-1faa00600ecf | FORSBERG+two                                    |    4.9 |           102\n",
      " 3549d4d4-8880-4292-a2c2-28b5d1c24ee3 | KILATECH                                        |    4.9 |           102\n",
      " 3549d4d4-8880-4292-a2c2-28b5d1c24ee3 | KILATECH                                        |    4.9 |           102\n",
      " 86fbb9c1-fb96-4440-8a12-1faa00600ecf | FORSBERG+two                                    |    4.9 |           102\n",
      " 8feb56cd-831d-4796-b75a-c3c9b53056de | Hypervisual                                     |    4.9 |           100\n",
      " 471311b3-9b8a-477f-b13c-5c1a6ca3b46c | RoboTurk                                        |    4.9 |            99\n",
      " 4b678ac1-8937-4ba5-92f7-c42b11ea1da8 | Zooomy                                          |    4.9 |            98\n",
      " d8aeed3e-8f0e-49c0-a4f5-fdbef4528f73 | Wolfram Müller                                  |    4.9 |            98\n",
      " d70be8c8-2d46-48bb-a3d8-ee1b4ee5aa6e | NexusMedia                                      |    4.9 |            98\n",
      " fe939aea-6e0a-4959-9107-ef53498fcba8 | Seguno                                          |    4.9 |            97\n",
      " d3a6d93c-4463-4533-a712-29addc0b5a8b | Boltics                                         |    4.9 |            95\n",
      " a8171589-48cb-4a3a-83f1-5da7a20f5c03 | enormapps                                       |    4.9 |            95\n",
      " d3a6d93c-4463-4533-a712-29addc0b5a8b | Boltics                                         |    4.9 |            95\n",
      " ef30eded-c11f-4204-a6ce-502c6620c84f | ASoft                                           |    4.9 |            95\n",
      " d3a6d93c-4463-4533-a712-29addc0b5a8b | Boltics                                         |    4.9 |            95\n",
      " ef30eded-c11f-4204-a6ce-502c6620c84f | ASoft                                           |    4.9 |            95\n",
      " a8171589-48cb-4a3a-83f1-5da7a20f5c03 | enormapps                                       |    4.9 |            95\n",
      " 46e324bc-e7cf-4574-8ae9-8c76b8891d63 | Evil Egg Software Limited                       |    4.9 |            90\n",
      " eec5d3a9-085c-4def-820a-7169c6c5153b | Customer First focus                            |    4.9 |            90\n",
      " eec5d3a9-085c-4def-820a-7169c6c5153b | Customer First focus                            |    4.9 |            90\n",
      " f8d3dea5-f5a1-4c21-b504-c39556b19ab3 | Station                                         |    4.9 |            90\n",
      " 46e324bc-e7cf-4574-8ae9-8c76b8891d63 | Evil Egg Software Limited                       |    4.9 |            90\n",
      " 58ef1711-ec8d-47be-afc2-dc8727154066 | HulkApps.com                                    |    4.9 |            89\n",
      " 58ef1711-ec8d-47be-afc2-dc8727154066 | HulkApps.com                                    |    4.9 |            89\n",
      " fc0d7f3a-e095-46e9-a7a2-a0ec0d8a9d72 | Shine Dezign Infonet                            |    4.9 |            85\n",
      " 7856e0ab-1a45-45a6-adb8-f522df1ead24 | Digismoothie                                    |    4.9 |            81\n",
      " 7856e0ab-1a45-45a6-adb8-f522df1ead24 | Digismoothie                                    |    4.9 |            81\n",
      " 46ae0d57-99b8-4e99-b120-c343fe7d690c | Union Works Apps                                |    4.9 |            80\n",
      " d4e59cf3-f66d-4c52-b147-f575b2b044f5 | Intuitive Shipping Inc                          |    4.9 |            80\n",
      " 46ae0d57-99b8-4e99-b120-c343fe7d690c | Union Works Apps                                |    4.9 |            80\n",
      " d4e59cf3-f66d-4c52-b147-f575b2b044f5 | Intuitive Shipping Inc                          |    4.9 |            80\n",
      " 179be9cc-5c1b-4f3b-9c85-a87cda6769ab | Union Works Apps                                |    4.9 |            79\n",
      " 179be9cc-5c1b-4f3b-9c85-a87cda6769ab | Union Works Apps                                |    4.9 |            79\n",
      " 179be9cc-5c1b-4f3b-9c85-a87cda6769ab | Union Works Apps                                |    4.9 |            79\n",
      " 179be9cc-5c1b-4f3b-9c85-a87cda6769ab | Union Works Apps                                |    4.9 |            79\n",
      " 9bcff545-3232-460f-bc7a-82baab5f2cf3 | Zooomy                                          |    4.9 |            77\n",
      " 41271b5a-5909-47d3-add3-53f1a87026f4 | Appsolute                                       |    4.9 |            76\n",
      " c1b1217f-9329-4b33-b1a0-44ad8e15e23f | Conversific Ltd.                                |    4.9 |            75\n",
      " c1b1217f-9329-4b33-b1a0-44ad8e15e23f | Conversific Ltd.                                |    4.9 |            75\n",
      " c1b1217f-9329-4b33-b1a0-44ad8e15e23f | Conversific Ltd.                                |    4.9 |            75\n",
      " c1b1217f-9329-4b33-b1a0-44ad8e15e23f | Conversific Ltd.                                |    4.9 |            75\n",
      " 0ae90981-b8f3-4996-87af-92f2af5c09f6 | Modd Apps Inc.                                  |    4.9 |            74\n",
      " 4f189d2c-8617-4048-9377-93878e6953b6 | GrooveJar                                       |    4.9 |            74\n",
      " ea5e6db0-c3bc-4cad-b4a9-ef07f7de8931 | Revy Apps                                       |    4.9 |            74\n",
      " 0ae90981-b8f3-4996-87af-92f2af5c09f6 | Modd Apps Inc.                                  |    4.9 |            74\n",
      " ea5e6db0-c3bc-4cad-b4a9-ef07f7de8931 | Revy Apps                                       |    4.9 |            74\n",
      " 7c8f5100-c5f1-411e-9088-6d8a55d6ccae | Addition                                        |    4.9 |            74\n",
      " 4f189d2c-8617-4048-9377-93878e6953b6 | GrooveJar                                       |    4.9 |            74\n",
      " 45a1f4d9-5e3f-4870-aa42-4a2cc486f6b2 | NoFraud Fraud Prevention                        |    4.9 |            72\n",
      " 44b59683-96a9-42e5-90ee-fb3de58e79b8 | Apps On Demand                                  |    4.9 |            71\n",
      " 0c6c8327-5b9c-4fff-a663-3aca5d95c291 | Pix Commerce                                    |    4.9 |            71\n",
      " 0c6c8327-5b9c-4fff-a663-3aca5d95c291 | Pix Commerce                                    |    4.9 |            71\n",
      " 0c6c8327-5b9c-4fff-a663-3aca5d95c291 | Pix Commerce                                    |    4.9 |            71\n",
      " e8a37cbe-79da-4062-b4af-f84e749ce125 | Syncio                                          |    4.9 |            68\n",
      " e8a37cbe-79da-4062-b4af-f84e749ce125 | Syncio                                          |    4.9 |            68\n",
      " c76be2bf-bc7b-480b-b0d3-bc9f584c9cab | Vishal Garg                                     |    4.9 |            67\n",
      " c76be2bf-bc7b-480b-b0d3-bc9f584c9cab | Vishal Garg                                     |    4.9 |            67\n",
      " 2c8dce75-7acf-4a8e-8ff6-06258425b5f1 | Gravity Software                                |    4.9 |            65\n",
      " 6e210881-e9f5-4bc6-9a9b-14da62f47f8a | appsolve                                        |    4.9 |            65\n",
      " 2c8dce75-7acf-4a8e-8ff6-06258425b5f1 | Gravity Software                                |    4.9 |            65\n",
      " 63a0a1a6-72f4-4061-9661-242d569a983a | OnltrApp                                        |    4.9 |            64\n",
      " 0fed87c2-d675-4a81-965c-f7008c9857eb | Koala Apps                                      |    4.9 |            64\n",
      " 63a0a1a6-72f4-4061-9661-242d569a983a | OnltrApp                                        |    4.9 |            64\n",
      " 0fed87c2-d675-4a81-965c-f7008c9857eb | Koala Apps                                      |    4.9 |            64\n",
      " 8a1bb9b4-d6d2-49cd-8edb-242e1ed59fb0 | Dev Cloud                                       |    4.9 |            63\n",
      " 8a1bb9b4-d6d2-49cd-8edb-242e1ed59fb0 | Dev Cloud                                       |    4.9 |            63\n",
      " 6ea4a2d8-c206-4c5f-bf3d-513a0badbd87 | Corknine Development                            |    4.9 |            63\n",
      " f5bd2a0a-ba8b-4806-83d9-337c20350aef | Atom Yard                                       |    4.9 |            62\n",
      " f7ce9ba8-16dc-4278-832f-ae4c0480ce07 | DeepMarkit Corp                                 |    4.9 |            62\n",
      " f7ce9ba8-16dc-4278-832f-ae4c0480ce07 | DeepMarkit Corp                                 |    4.9 |            62\n",
      " f5bd2a0a-ba8b-4806-83d9-337c20350aef | Atom Yard                                       |    4.9 |            62\n",
      " 30966608-e44e-4b13-b900-64a443931c26 | Gazebo                                          |    4.9 |            61\n",
      " 30966608-e44e-4b13-b900-64a443931c26 | Gazebo                                          |    4.9 |            61\n",
      " ec407f0f-23ed-4eb6-9993-966dc69cc705 | Ethercycle                                      |    4.9 |            60\n",
      " ec407f0f-23ed-4eb6-9993-966dc69cc705 | Ethercycle                                      |    4.9 |            60\n",
      " b37ca25b-9694-4708-9646-0174c051386c | Mod Media                                       |    4.9 |            59\n",
      " 785c2ac1-ef3d-4e07-b0ee-f58e9c9afdd3 | Octane AI                                       |    4.9 |            59\n",
      " 785c2ac1-ef3d-4e07-b0ee-f58e9c9afdd3 | Octane AI                                       |    4.9 |            59\n",
      " b37ca25b-9694-4708-9646-0174c051386c | Mod Media                                       |    4.9 |            59\n",
      " 785c2ac1-ef3d-4e07-b0ee-f58e9c9afdd3 | Octane AI                                       |    4.9 |            59\n",
      " c69317fb-0a78-4d9f-9276-ed1ace24d379 | Actual Reports                                  |    4.9 |            58\n",
      " c69317fb-0a78-4d9f-9276-ed1ace24d379 | Actual Reports                                  |    4.9 |            58\n",
      " 8f7edcf4-12a3-41aa-ae6d-f6246bf07a67 | Valence Labs                                    |    4.9 |            57\n",
      " 95cfc2f0-3eb1-47db-8550-65f5678eb5fb | Sovi Apps                                       |    4.9 |            56\n",
      " 7b96b8e8-a5df-4a7d-a1da-71b7710f755c | ShopStorm                                       |    4.9 |            56\n",
      " 7b96b8e8-a5df-4a7d-a1da-71b7710f755c | ShopStorm                                       |    4.9 |            56\n",
      " 95cfc2f0-3eb1-47db-8550-65f5678eb5fb | Sovi Apps                                       |    4.9 |            56\n",
      " 7b96b8e8-a5df-4a7d-a1da-71b7710f755c | ShopStorm                                       |    4.9 |            56\n",
      " 4d02f897-45ce-43eb-8819-5014dda10c56 | eCommerce Addons                                |    4.9 |            55\n",
      " b25056c9-d072-4781-a5e4-81123600be10 | Inventory Planner                               |    4.9 |            54\n",
      " b25056c9-d072-4781-a5e4-81123600be10 | Inventory Planner                               |    4.9 |            54\n",
      " 416ce6e4-f654-4edb-ab55-355d4c358dd9 | NDNAPPS                                         |    4.9 |            53\n",
      " a8216787-b4b6-4864-b300-9c8fb00da4a3 | Coolence                                        |    4.9 |            53\n",
      " a8216787-b4b6-4864-b300-9c8fb00da4a3 | Coolence                                        |    4.9 |            53\n",
      " 416ce6e4-f654-4edb-ab55-355d4c358dd9 | NDNAPPS                                         |    4.9 |            53\n",
      " d5d989a7-7eaf-4de8-9b8a-da06adbd6175 | Zooomy                                          |    4.9 |            52\n",
      " d675f2cc-dc4d-4600-b9db-a7729dd3d13a | Skubana                                         |    4.9 |            52\n",
      " d675f2cc-dc4d-4600-b9db-a7729dd3d13a | Skubana                                         |    4.9 |            52\n",
      " d5d989a7-7eaf-4de8-9b8a-da06adbd6175 | Zooomy                                          |    4.9 |            52\n",
      " da39a011-050c-4f79-830f-861e708a55aa | Zooomy                                          |    4.9 |            51\n",
      " da39a011-050c-4f79-830f-861e708a55aa | Zooomy                                          |    4.9 |            51\n",
      " b88488b0-9912-44d3-b736-224c36f09d95 | CartKit                                         |    4.8 |          6905\n",
      " b88488b0-9912-44d3-b736-224c36f09d95 | CartKit                                         |    4.8 |          6905\n",
      " b88488b0-9912-44d3-b736-224c36f09d95 | CartKit                                         |    4.8 |          6905\n",
      " e528a60e-94f8-4e92-80e2-5bc6013b8283 | Grizzly Apps                                    |    4.8 |          5986\n",
      " be2640c4-01b5-4d52-9f68-cae8c0734d0d | Recart                                          |    4.8 |          5596\n",
      " be2640c4-01b5-4d52-9f68-cae8c0734d0d | Recart                                          |    4.8 |          5596\n",
      " 171816e2-27d4-4552-a65e-ab44a312fe04 | Autoketing                                      |    4.8 |          4931\n",
      " 171816e2-27d4-4552-a65e-ab44a312fe04 | Autoketing                                      |    4.8 |          4931\n",
      " 171816e2-27d4-4552-a65e-ab44a312fe04 | Autoketing                                      |    4.8 |          4931\n",
      " 9025eff0-d714-4df1-930f-43f5582979ad | Hextom                                          |    4.8 |          4847\n",
      " 9025eff0-d714-4df1-930f-43f5582979ad | Hextom                                          |    4.8 |          4847\n",
      " 6549f742-5460-454b-be74-8c2e0dffaa1c | Booster Apps                                    |    4.8 |          4080\n",
      " 6549f742-5460-454b-be74-8c2e0dffaa1c | Booster Apps                                    |    4.8 |          4080\n",
      " 63b73479-c895-4d09-9e05-ab8b179b4576 | MLveda                                          |    4.8 |          3512\n",
      " c62ae7d0-c489-4f8c-b42f-5e726776045a | CartKit                                         |    4.8 |          3387\n",
      " c62ae7d0-c489-4f8c-b42f-5e726776045a | CartKit                                         |    4.8 |          3387\n",
      " 8d1be855-89cf-4786-bde0-8b4e1732bf83 | Smile.io                                        |    4.8 |          3359\n",
      " 8d1be855-89cf-4786-bde0-8b4e1732bf83 | Smile.io                                        |    4.8 |          3359\n",
      " c2da1fa5-4ff3-421e-917d-3de9593fd543 | sixads                                          |    4.8 |          3304\n",
      " c2da1fa5-4ff3-421e-917d-3de9593fd543 | sixads                                          |    4.8 |          3304\n",
      " c2da1fa5-4ff3-421e-917d-3de9593fd543 | sixads                                          |    4.8 |          3304\n",
      " f4795752-ee6f-423b-8858-7e09b77fbc44 | Omnisend                                        |    4.8 |          3250\n",
      " 9114f47f-6fa1-442e-865b-7729876c9ad6 | AfterShip + Automizely                          |    4.8 |          3184\n",
      " 9114f47f-6fa1-442e-865b-7729876c9ad6 | AfterShip + Automizely                          |    4.8 |          3184\n",
      " 9114f47f-6fa1-442e-865b-7729876c9ad6 | AfterShip + Automizely                          |    4.8 |          3184\n",
      " e88e0287-0405-4d76-888a-c280d830fd08 | Booster Apps                                    |    4.8 |          2754\n",
      " e88e0287-0405-4d76-888a-c280d830fd08 | Booster Apps                                    |    4.8 |          2754\n",
      " 30402fc6-2cce-4217-b594-8bb7a84e5208 | Booster Apps                                    |    4.8 |          1843\n",
      " 30402fc6-2cce-4217-b594-8bb7a84e5208 | Booster Apps                                    |    4.8 |          1843\n",
      " 1c5c3295-a9fa-4804-a3a4-6a5c3a3f0368 | Hextom                                          |    4.8 |          1643\n",
      " 1c5c3295-a9fa-4804-a3a4-6a5c3a3f0368 | Hextom                                          |    4.8 |          1643\n",
      " c8e1b1d5-5b75-4323-a1d2-34d8904a6be6 | venntov                                         |    4.8 |          1591\n",
      " bd95e0d3-880a-4d73-98e4-1c156e740437 | Booster Apps                                    |    4.8 |          1588\n",
      " 896c9125-bf1e-41d4-b087-7e709f706830 | ReCharge                                        |    4.8 |          1527\n",
      " 7ed3baf3-75c7-4acd-93a5-960af0db0ef2 | Pixc                                            |    4.8 |          1281\n",
      " 1f2f3563-9a9f-4162-97ef-f0511ecfdd4f | Hextom                                          |    4.8 |          1189\n",
      " 1f2f3563-9a9f-4162-97ef-f0511ecfdd4f | Hextom                                          |    4.8 |          1189\n",
      " 6cd2fcb0-2b98-45d0-8643-932eeb5866d8 | Product Customizer                              |    4.8 |          1088\n",
      " 80a8218e-0cf9-4836-a77b-bff73900e935 | Hextom                                          |    4.8 |          1064\n",
      " 80a8218e-0cf9-4836-a77b-bff73900e935 | Hextom                                          |    4.8 |          1064\n",
      " dbaa7312-be5d-4b17-8aac-ba726864f836 | AAAeCommerce Inc                                |    4.8 |          1040\n",
      " 813296b1-ab03-46a2-aaee-50dd55716d4c | Thalia                                          |    4.8 |          1033\n",
      " 19a0abd8-8bb5-4f3c-bd77-d39fb22fe878 | Secomapp                                        |    4.8 |           984\n",
      " 19a0abd8-8bb5-4f3c-bd77-d39fb22fe878 | Secomapp                                        |    4.8 |           984\n",
      " da5578e8-f7ba-4172-bcfa-bb4879ff6d56 | Campaign Monitor                                |    4.8 |           976\n",
      " da5578e8-f7ba-4172-bcfa-bb4879ff6d56 | Campaign Monitor                                |    4.8 |           976\n",
      " da5578e8-f7ba-4172-bcfa-bb4879ff6d56 | Campaign Monitor                                |    4.8 |           976\n",
      " 48f98be9-214e-430c-aba0-c3bfc77ce26c | outfy                                           |    4.8 |           968\n",
      " 48f98be9-214e-430c-aba0-c3bfc77ce26c | outfy                                           |    4.8 |           968\n",
      " 5eb0e76b-0406-4727-adbe-c018c8d21491 | Codeinero                                       |    4.8 |           962\n",
      " 5eb0e76b-0406-4727-adbe-c018c8d21491 | Codeinero                                       |    4.8 |           962\n",
      " 53a01c10-2c40-4000-afc3-a4147a8f6ed6 | Vertex LV                                       |    4.8 |           923\n",
      " 53a01c10-2c40-4000-afc3-a4147a8f6ed6 | Vertex LV                                       |    4.8 |           923\n",
      " 8f3ec95e-4862-46ff-aa6a-73ab9474e55c | CartKit                                         |    4.8 |           919\n",
      " 8b8ef36c-f895-4630-8608-9ab26eb1521d | Johannes Hodde                                  |    4.8 |           882\n",
      " 119b42e7-5227-4bbf-9312-e0725d0db28f | Zotabox                                         |    4.8 |           856\n",
      " 9cf83014-e08c-4869-8cbc-4608a68487a9 | Tidio Ltd                                       |    4.8 |           833\n",
      " dc62e7ec-f069-4b15-baee-bd62feef4801 | Lifter Apps                                     |    4.8 |           824\n",
      " 30b2c758-5377-4d4c-970c-1bdcf6760e6b | Refersion, Inc.                                 |    4.8 |           748\n",
      " 771c4ca4-6389-46e5-9f64-347e812b680c | Tobi - Clever messenger Bot                     |    4.8 |           713\n",
      " 771c4ca4-6389-46e5-9f64-347e812b680c | Tobi - Clever messenger Bot                     |    4.8 |           713\n",
      " 6a5080e6-6055-4312-ad8e-7d646806c09f | SpurIT                                          |    4.8 |           691\n",
      " 6a5080e6-6055-4312-ad8e-7d646806c09f | SpurIT                                          |    4.8 |           691\n",
      " 6a5080e6-6055-4312-ad8e-7d646806c09f | SpurIT                                          |    4.8 |           691\n",
      " 3aaf2fed-7c5e-4330-9287-db50e5268515 | Firepush                                        |    4.8 |           667\n",
      " 3aaf2fed-7c5e-4330-9287-db50e5268515 | Firepush                                        |    4.8 |           667\n",
      " 3aaf2fed-7c5e-4330-9287-db50e5268515 | Firepush                                        |    4.8 |           667\n",
      " 26cca9f9-0f46-4b8f-aa7d-c76442a8c89b | Booster Apps                                    |    4.8 |           661\n",
      " 5e305fbe-d0dd-4c74-9702-fe41ae443a3c | Jilt                                            |    4.8 |           615\n",
      " 5e305fbe-d0dd-4c74-9702-fe41ae443a3c | Jilt                                            |    4.8 |           615\n",
      " 33abadaf-749d-4b9f-bf54-76047fd42404 | Booster Apps                                    |    4.8 |           614\n",
      " 9d22222d-b054-451f-b441-f190f1e3491e | Space Squirrel Ltd.                             |    4.8 |           614\n",
      " 7e206de7-30b7-4922-8388-d4d2ede426b1 | Zotabox                                         |    4.8 |           599\n",
      " 7e206de7-30b7-4922-8388-d4d2ede426b1 | Zotabox                                         |    4.8 |           599\n",
      " d50f4404-249d-438f-9d22-537e20922b63 | SpurIT                                          |    4.8 |           548\n",
      " d50f4404-249d-438f-9d22-537e20922b63 | SpurIT                                          |    4.8 |           548\n",
      " 90b3d90b-ac64-49ea-9ce7-bce9fcc2893c | SpurIT                                          |    4.8 |           509\n",
      " 90b3d90b-ac64-49ea-9ce7-bce9fcc2893c | SpurIT                                          |    4.8 |           509\n",
      " 4a07e60a-7cc0-4024-b637-24ce6665d4b0 | ShopPad Inc.                                    |    4.8 |           494\n",
      " 4a07e60a-7cc0-4024-b637-24ce6665d4b0 | ShopPad Inc.                                    |    4.8 |           494\n",
      " a9c00aa8-bbef-4a76-8501-26d6fd3bd733 | BOLD                                            |    4.8 |           489\n",
      " 2884601e-c991-4874-9721-05588edb7291 | Hextom                                          |    4.8 |           488\n",
      " 172e0f29-b8be-4bc3-b08d-b6e8af71c151 | Mintt Studio                                    |    4.8 |           470\n",
      " 172e0f29-b8be-4bc3-b08d-b6e8af71c151 | Mintt Studio                                    |    4.8 |           470\n",
      " 14cac553-5588-4b70-8db3-c3a2b7166595 | Autoketing                                      |    4.8 |           465\n",
      " adda3d6c-6e37-41a0-a364-7af3ba5b787d | IT Trading d.o.o.                               |    4.8 |           441\n",
      " adda3d6c-6e37-41a0-a364-7af3ba5b787d | IT Trading d.o.o.                               |    4.8 |           441\n",
      " c4cafd7c-31b7-4d55-9726-c44230f63265 | Zotabox                                         |    4.8 |           435\n",
      " 88ffbc08-22ae-4b7c-9d36-d491143fb9d1 | Spently                                         |    4.8 |           424\n",
      " 88ffbc08-22ae-4b7c-9d36-d491143fb9d1 | Spently                                         |    4.8 |           424\n",
      " 9b79f3a4-e390-468b-b409-d78a0c21973c | Bolt Promotion Software Ltd.                    |    4.8 |           421\n",
      " 9b79f3a4-e390-468b-b409-d78a0c21973c | Bolt Promotion Software Ltd.                    |    4.8 |           421\n",
      " 87cc1cbe-71a6-475f-97f3-e84ef3484c2f | ShopPad Inc.                                    |    4.8 |           413\n",
      " 9c917db1-f0ca-4102-a1e7-53a88099414a | ShopPad Inc.                                    |    4.8 |           409\n",
      " e5f714d2-0537-49df-8c30-6f4a81a48093 | Secomapp                                        |    4.8 |           401\n",
      " 0853a47b-d36a-4cd4-a493-81891f079410 | Ampify Me                                       |    4.8 |           401\n",
      " 0853a47b-d36a-4cd4-a493-81891f079410 | Ampify Me                                       |    4.8 |           401\n",
      " 71394e25-72b0-43ef-854c-9f78b211c875 | Expert Village Media Technologies               |    4.8 |           400\n",
      " 71394e25-72b0-43ef-854c-9f78b211c875 | Expert Village Media Technologies               |    4.8 |           400\n",
      " 928cd22a-750e-41e6-9e4b-8e916134e9f0 | Roger Wilco LLC                                 |    4.8 |           397\n",
      " 928cd22a-750e-41e6-9e4b-8e916134e9f0 | Roger Wilco LLC                                 |    4.8 |           397\n",
      " 75c8cf82-20c3-40e4-8433-3fd3b3ff6e16 | BOLD                                            |    4.8 |           384\n",
      " dbfccd91-1211-46f7-9821-34ad82ca86a2 | Syncee                                          |    4.8 |           383\n",
      " dbfccd91-1211-46f7-9821-34ad82ca86a2 | Syncee                                          |    4.8 |           383\n",
      " 6f3d4d80-1f4a-4928-a5de-54b434b94bd9 | Oxi Apps                                        |    4.8 |           378\n",
      " cd59549d-762b-4125-99dc-bac2258a96ff | Sherpas Design                                  |    4.8 |           358\n",
      " cd59549d-762b-4125-99dc-bac2258a96ff | Sherpas Design                                  |    4.8 |           358\n",
      " cd186267-2856-4d2a-90f4-035992889a7d | Panda Apps                                      |    4.8 |           347\n",
      " 17205c63-681b-45c8-bfec-d93e685eb238 | Plobal Apps                                     |    4.8 |           321\n",
      " 17205c63-681b-45c8-bfec-d93e685eb238 | Plobal Apps                                     |    4.8 |           321\n",
      " 43c1f778-4f6e-43a7-8c0e-709865e5d38c | Shopinet                                        |    4.8 |           319\n",
      " 43c1f778-4f6e-43a7-8c0e-709865e5d38c | Shopinet                                        |    4.8 |           319\n",
      " da7a9bba-fcdc-4ab9-bb13-544d5ceae0dc | microapps                                       |    4.8 |           312\n",
      " 901ba62f-d394-4719-a184-ae788ba257f2 | Swym Corporation                                |    4.8 |           305\n",
      " fb7e92d6-9552-464d-a909-d32883c959b0 | Sweet Ecom                                      |    4.8 |           304\n",
      " fb7e92d6-9552-464d-a909-d32883c959b0 | Sweet Ecom                                      |    4.8 |           304\n",
      " 662721e1-ef9a-4163-8405-2ca3c0ef6d69 | Kuberas Inc.                                    |    4.8 |           289\n",
      " 664adea8-db1d-40ba-81d7-65f078daa1fa | Website On-Demand                               |    4.8 |           285\n",
      " 664adea8-db1d-40ba-81d7-65f078daa1fa | Website On-Demand                               |    4.8 |           285\n",
      " ef1d4c5b-db25-4740-a879-415ea51e216d | Marsello                                        |    4.8 |           278\n",
      " 1dac381b-2ff1-483e-924e-1aa4f1266183 | Dev Cloud                                       |    4.8 |           272\n",
      " 06d357e3-3151-4c51-8cfd-3823d0c579e1 | Space Squirrel Ltd.                             |    4.8 |           271\n",
      " 06d357e3-3151-4c51-8cfd-3823d0c579e1 | Space Squirrel Ltd.                             |    4.8 |           271\n",
      " 1db72124-11ac-4b29-a4c9-682d0d854d61 | GoAffPro                                        |    4.8 |           271\n",
      " 06d357e3-3151-4c51-8cfd-3823d0c579e1 | Space Squirrel Ltd.                             |    4.8 |           271\n",
      " 8a6d9a44-d45b-4a6d-8a5e-946114257fba | Bambri                                          |    4.8 |           268\n",
      " 8a6d9a44-d45b-4a6d-8a5e-946114257fba | Bambri                                          |    4.8 |           268\n",
      " 0a087154-a12f-4346-98f6-f70826b0539b | Pixel Union                                     |    4.8 |           263\n",
      " c7129b05-3acc-4234-9e79-b48ecb7ac7bf | Lightward                                       |    4.8 |           262\n",
      " 028a82e1-b818-475d-ad11-6d3bd2068ec1 | Akohub                                          |    4.8 |           262\n",
      " 9be5fa14-2507-48bc-b785-c3f93577ec33 | Sticky Apps                                     |    4.8 |           257\n",
      " bfb764b5-e564-4a45-aae6-e2b6ef2b1a4f | Gorgias                                         |    4.8 |           253\n",
      " bfb764b5-e564-4a45-aae6-e2b6ef2b1a4f | Gorgias                                         |    4.8 |           253\n",
      " bfb764b5-e564-4a45-aae6-e2b6ef2b1a4f | Gorgias                                         |    4.8 |           253\n",
      " 3541d4d3-2963-49b8-b650-a64825b9c202 | Buymaxx                                         |    4.8 |           250\n",
      " 31965867-f7bf-4ade-ad49-133bba282a3b | Chilliapps                                      |    4.8 |           246\n",
      " 31965867-f7bf-4ade-ad49-133bba282a3b | Chilliapps                                      |    4.8 |           246\n",
      " 31965867-f7bf-4ade-ad49-133bba282a3b | Chilliapps                                      |    4.8 |           246\n",
      " 79e14ce2-07a3-4cfb-aefb-e56dabdce2a7 | Secomapp                                        |    4.8 |           239\n",
      " 79e14ce2-07a3-4cfb-aefb-e56dabdce2a7 | Secomapp                                        |    4.8 |           239\n",
      " c92519e8-8760-4b28-925f-4b2b34aef133 | Codeinero                                       |    4.8 |           234\n",
      " c92519e8-8760-4b28-925f-4b2b34aef133 | Codeinero                                       |    4.8 |           234\n",
      " 67ca94d2-fb0a-41db-a83d-598052169bdc | Hextom                                          |    4.8 |           232\n",
      " 0171fe1a-117e-4f95-866d-772f9d41f69f | OptiMonk                                        |    4.8 |           220\n",
      " 0171fe1a-117e-4f95-866d-772f9d41f69f | OptiMonk                                        |    4.8 |           220\n",
      " 0171fe1a-117e-4f95-866d-772f9d41f69f | OptiMonk                                        |    4.8 |           220\n",
      " d8c8476e-a8ec-4839-afd6-1c6d9c8c46f1 | Easyship                                        |    4.8 |           211\n",
      " f29726b2-7449-45a7-a53b-f30b645e93dd | Reputon                                         |    4.8 |           209\n",
      " f29726b2-7449-45a7-a53b-f30b645e93dd | Reputon                                         |    4.8 |           209\n",
      " 7b687e78-ff86-486f-b04f-748876131fb9 | Globo                                           |    4.8 |           209\n",
      " 763814a9-7dc1-4741-a8b6-702020bfebe4 | Aiva Labs Inc                                   |    4.8 |           201\n",
      " 6f1c83a5-8116-4b01-b07e-6c335465d065 | Magisto Ltd. - Marketing Video Making & Editing |    4.8 |           199\n",
      " 6f1c83a5-8116-4b01-b07e-6c335465d065 | Magisto Ltd. - Marketing Video Making & Editing |    4.8 |           199\n",
      " 3b4d5479-3544-4949-b4b3-c943e9c35168 | Fomo                                            |    4.8 |           195\n",
      " 3b4d5479-3544-4949-b4b3-c943e9c35168 | Fomo                                            |    4.8 |           195\n",
      " 6a7f0fd7-875a-4d5b-bd84-a74177b1583f | Dsers                                           |    4.8 |           191\n",
      " 6eae8ad2-d331-47a2-807f-30a38bac9655 | netParcel                                       |    4.8 |           187\n",
      " 3ff7101a-afb4-4ce0-848f-63e4ac702802 | W3trends Inc.                                   |    4.8 |           186\n",
      " 3b4fd798-3070-4cb0-a04d-6b3889539ddf | qikify                                          |    4.8 |           186\n",
      " 304fe15f-6e4e-4bbf-8329-de5eb3c30181 | Expert Village Media Technologies               |    4.8 |           183\n",
      " 304fe15f-6e4e-4bbf-8329-de5eb3c30181 | Expert Village Media Technologies               |    4.8 |           183\n",
      " 7cf1dd0a-5201-41ce-b636-959242d59ef9 | Judge.me                                        |    4.8 |           180\n",
      " 7cf1dd0a-5201-41ce-b636-959242d59ef9 | Judge.me                                        |    4.8 |           180\n",
      " 9d68bd66-f64c-4372-9b44-3924f6ca5ab6 | KAD Systems                                     |    4.8 |           179\n",
      " 9d68bd66-f64c-4372-9b44-3924f6ca5ab6 | KAD Systems                                     |    4.8 |           179\n",
      " 5190d085-044f-4fd4-b136-0c909fcaaca9 | InfoShore Software Private Limited              |    4.8 |           178\n",
      " 9e2b14be-8287-4763-ada7-a0ae97d59236 | Hextom                                          |    4.8 |           177\n",
      " 395e9e6d-0fc5-471c-8f91-c2e79f6095ee | Expert Village Media Technologies               |    4.8 |           175\n",
      " 395e9e6d-0fc5-471c-8f91-c2e79f6095ee | Expert Village Media Technologies               |    4.8 |           175\n",
      " ca117743-24a8-46e5-bf4f-c2fa1756ffea | Awesome Software                                |    4.8 |           174\n",
      " ca117743-24a8-46e5-bf4f-c2fa1756ffea | Awesome Software                                |    4.8 |           174\n",
      " e9340482-3f86-4ea1-ae27-ba7723793e52 | Helium                                          |    4.8 |           169\n",
      " c46c4786-d893-4b07-a96a-497aa3d98519 | Varinode, Inc.                                  |    4.8 |           164\n",
      " cb014bc2-5296-45a7-9450-fc59a366b638 | Webgility, Inc.                                 |    4.8 |           159\n",
      " cb014bc2-5296-45a7-9450-fc59a366b638 | Webgility, Inc.                                 |    4.8 |           159\n",
      " cb014bc2-5296-45a7-9450-fc59a366b638 | Webgility, Inc.                                 |    4.8 |           159\n",
      " 40132625-d270-4f94-8e6b-b039a75a02db | Exto                                            |    4.8 |           157\n",
      " 40132625-d270-4f94-8e6b-b039a75a02db | Exto                                            |    4.8 |           157\n",
      " 6c6730f9-5474-4dd2-a883-2b23e41c2d00 | Thimatic                                        |    4.8 |           155\n",
      " 47d2f6d3-249b-4fbb-8ad2-7551cf3952bc | Relentless Apps                                 |    4.8 |           155\n",
      " 6c6730f9-5474-4dd2-a883-2b23e41c2d00 | Thimatic                                        |    4.8 |           155\n",
      " d131956a-19f0-4aec-a4c0-8540fbe2231d | Getbutton.io                                    |    4.8 |           153\n",
      " a4c05681-a533-4b5d-89aa-388b8be4bd59 | Simprosys InfoMedia                             |    4.8 |           145\n",
      " 64f79147-e18d-4209-9374-b0dae65ee873 | How Many Steps Inc.                             |    4.8 |           141\n",
      " 64f79147-e18d-4209-9374-b0dae65ee873 | How Many Steps Inc.                             |    4.8 |           141\n",
      " 49fb98d8-4f3b-4f05-aa30-c9d2b58be2d3 | Buddha Apps                                     |    4.8 |           141\n",
      " 1e7366b4-b62e-44b2-aba6-ac0f95aef634 | LoyaltyHarbour                                  |    4.8 |           140\n",
      " 1e7366b4-b62e-44b2-aba6-ac0f95aef634 | LoyaltyHarbour                                  |    4.8 |           140\n",
      " 803ef8d7-146e-4217-b0e1-a9bc7e2d6630 | Magic Toolbox                                   |    4.8 |           138\n",
      " 2bab5603-f489-4e1c-b00e-77509b94d376 | Customer First focus                            |    4.8 |           137\n",
      " b7492f8e-1747-480c-b609-ef48ca3819bf | Seller Panda                                    |    4.8 |           136\n",
      " 25fb1522-c9bd-4baf-9613-398a40d4d7f4 | Secomapp                                        |    4.8 |           133\n",
      " 25fb1522-c9bd-4baf-9613-398a40d4d7f4 | Secomapp                                        |    4.8 |           133\n",
      " fae3fbfb-b140-4820-80c9-949e557e4385 | Simprosys InfoMedia                             |    4.8 |           132\n",
      " d44ca90b-e2d3-4183-a65c-8eeca0b6438f | DevIT                                           |    4.8 |           132\n",
      " cf733da2-6b5e-44af-94df-2d5c3b8e2502 | Hextom                                          |    4.8 |           131\n",
      " cf733da2-6b5e-44af-94df-2d5c3b8e2502 | Hextom                                          |    4.8 |           131\n",
      " aa85b3c7-fbf7-4273-b8ca-4b202dcf6319 | importify                                       |    4.8 |           130\n",
      " 5472e1f9-6af1-4561-ae9f-d352a203af04 | Foursixty                                       |    4.8 |           130\n",
      " 5472e1f9-6af1-4561-ae9f-d352a203af04 | Foursixty                                       |    4.8 |           130\n",
      " 8eadfab9-cebf-4d16-b6d6-37878b7b24c1 | Secomapp                                        |    4.8 |           129\n",
      " b8250ea7-b092-4393-a318-9a8fb53837a1 | MakeProSimp                                     |    4.8 |           129\n",
      " 3fdd2db0-bc46-4269-8d44-86c1d109b31b | InfoShore Software Private Limited              |    4.8 |           128\n",
      " 3fdd2db0-bc46-4269-8d44-86c1d109b31b | InfoShore Software Private Limited              |    4.8 |           128\n",
      " 396be84f-534c-4820-bd38-92e826a9d8a4 | SpurIT                                          |    4.8 |           127\n",
      " 396be84f-534c-4820-bd38-92e826a9d8a4 | SpurIT                                          |    4.8 |           127\n",
      " 14894d2d-0eb5-4b70-ade2-5e2f4eec0f7f | Identix Web                                     |    4.8 |           126\n",
      " 6aedba9b-73b0-4cb8-9dd1-49db39201847 | Johannes Hodde                                  |    4.8 |           122\n",
      " 9d1f8b64-2fb9-4bcc-af2f-42b06ef02fc1 | Website On-Demand                               |    4.8 |           120\n",
      " e627acbd-6e33-4ca3-93b3-716298c5ad39 | Ecomhunt                                        |    4.8 |           119\n",
      " ae752207-4d07-496f-b93e-c27e6aa8ae2b | MZL Solutions                                   |    4.8 |           119\n",
      " e627acbd-6e33-4ca3-93b3-716298c5ad39 | Ecomhunt                                        |    4.8 |           119\n",
      " beacdc32-2f9f-49bc-b038-094b9af11c52 | Zapfor Apps                                     |    4.8 |           118\n",
      " 36704f69-f0f3-45fd-a9d0-5b655c2f48c8 | Easyshop                                        |    4.8 |           115\n",
      " 43c2ea22-288d-4b1a-b207-4ddb00380f08 | SpurIT                                          |    4.8 |           115\n",
      " 35cecff4-6689-4be5-abcc-c06fb8ecc9a8 | AdNabu, Inc                                     |    4.8 |           111\n",
      " 42fae379-187e-4ab2-8aa8-324ddce79858 | KILATECH                                        |    4.8 |           110\n",
      " 0641495b-f77c-401d-97f7-9de7163e41c4 | Pixc                                            |    4.8 |           109\n",
      " f0a9298b-7b8c-4ddb-971b-93a75e8fd677 | SpurIT                                          |    4.8 |           104\n",
      " f0a9298b-7b8c-4ddb-971b-93a75e8fd677 | SpurIT                                          |    4.8 |           104\n",
      " f0a9298b-7b8c-4ddb-971b-93a75e8fd677 | SpurIT                                          |    4.8 |           104\n",
      " 3918da5e-152a-4a00-ad27-4fdfba27c9e5 | Mod Media                                       |    4.8 |           103\n",
      " 4a81aed9-857a-43d4-91c9-bede6236f52c | SpurIT                                          |    4.8 |           102\n",
      " 4a81aed9-857a-43d4-91c9-bede6236f52c | SpurIT                                          |    4.8 |           102\n",
      " d31225f1-de52-4630-9ed8-16305501a924 | Follow Up Email Marketing                       |    4.8 |           101\n",
      " a7587022-d6ca-4518-b69e-514e4992d364 | clicksit app limited                            |    4.8 |            97\n",
      " a7587022-d6ca-4518-b69e-514e4992d364 | clicksit app limited                            |    4.8 |            97\n",
      " 07dee84d-f8d3-4784-8083-47b711003a58 | Elfsight                                        |    4.8 |            97\n",
      " 496dd321-cfaf-41ee-99d7-c4ac829866cd | Codeinero                                       |    4.8 |            93\n",
      " efa84f3d-e5c8-4a3b-9192-a5312cf2ab03 | SpurIT                                          |    4.8 |            91\n",
      " 6b2f4940-fbbc-4a6b-b9dd-5ede6c757ef8 | Globo                                           |    4.8 |            90\n",
      " 80a731d2-e2a2-4922-92a6-c07ea2b964e1 | Power Tools                                     |    4.8 |            88\n",
      " 715fa3d7-3ec4-45dc-96e7-70027bf56618 | SpurIT                                          |    4.8 |            88\n",
      " 715fa3d7-3ec4-45dc-96e7-70027bf56618 | SpurIT                                          |    4.8 |            88\n",
      " 80a731d2-e2a2-4922-92a6-c07ea2b964e1 | Power Tools                                     |    4.8 |            88\n",
      " 68843fff-eefa-484a-9199-8458fa141184 | ShopPad Inc.                                    |    4.8 |            87\n",
      " a82f38ef-8348-48e0-b67e-97c4d6fc74f3 | JivoChat                                        |    4.8 |            86\n",
      " 4b89dc7f-905f-4869-bd66-dde15e8ec10b | Gobot                                           |    4.8 |            84\n",
      " 91c5fe1b-7260-41bb-ab2a-314745c7233f | Starshipit                                      |    4.8 |            83\n",
      " cc7f1068-6601-451a-ae3d-9e2dd8015352 | NexusMedia                                      |    4.8 |            78\n",
      " aa365bca-f494-48d4-b109-5614dc3d4ef4 | KILATECH                                        |    4.8 |            74\n",
      " 8f356467-27d8-48ed-9afe-abf86663478e | Shine Dezign Infonet                            |    4.8 |            74\n",
      " aa365bca-f494-48d4-b109-5614dc3d4ef4 | KILATECH                                        |    4.8 |            74\n",
      " e86512af-af7e-42de-9c49-befe41740e31 | SpurIT                                          |    4.8 |            73\n",
      " e86512af-af7e-42de-9c49-befe41740e31 | SpurIT                                          |    4.8 |            73\n",
      " 254a95d8-9237-417f-abf7-1c5522f27c24 | ShopPad Inc.                                    |    4.8 |            65\n",
      " 9c0d1b27-1963-44e5-ad17-09e4c1b47021 | Omega                                           |    4.8 |            65\n",
      " 254a95d8-9237-417f-abf7-1c5522f27c24 | ShopPad Inc.                                    |    4.8 |            65\n",
      " db03e388-cffa-4d58-a71f-4a0508f18f6f | Treedify                                        |    4.8 |            64\n",
      " db03e388-cffa-4d58-a71f-4a0508f18f6f | Treedify                                        |    4.8 |            64\n",
      " 31ac58c2-f68b-43b1-b8eb-72329debac7c | Hektor Commerce                                 |    4.8 |            64\n",
      " a5f0f745-e7aa-4921-bad3-25bee59e0b1f | Nextsale                                        |    4.8 |            63\n",
      " 3e6b42a0-de41-4156-b438-640198d37673 | Mechfeed Ltd                                    |    4.8 |            63\n",
      " 91a421b7-898a-46a6-8a13-e261ecc9d952 | Spice Gems                                      |    4.8 |            63\n",
      " a5f0f745-e7aa-4921-bad3-25bee59e0b1f | Nextsale                                        |    4.8 |            63\n",
      " 86c16cac-e7b6-4110-b310-6b1579277670 | Uplinkly                                        |    4.8 |            61\n",
      " 284d7783-495d-4c41-b2db-3a2a52d405db | Adevole                                         |    4.8 |            60\n",
      " 284d7783-495d-4c41-b2db-3a2a52d405db | Adevole                                         |    4.8 |            60\n",
      " 2d658dc3-7c51-4409-beea-d6ee9d0c3bc0 | Able Sense                                      |    4.8 |            60\n",
      " 284d7783-495d-4c41-b2db-3a2a52d405db | Adevole                                         |    4.8 |            60\n",
      " f4ddfdc1-b956-46d4-9248-b84414ed3648 | MLveda                                          |    4.8 |            60\n",
      " 1c608b3c-b5f2-43b1-8370-d626db1ec971 | Kaleido                                         |    4.8 |            59\n",
      " 0c83b02b-7cb2-43a4-b3c1-63de7967894a | Zotabox                                         |    4.8 |            58\n",
      " 0c83b02b-7cb2-43a4-b3c1-63de7967894a | Zotabox                                         |    4.8 |            58\n",
      " 3ef7be51-dac5-471e-bb23-e311fb03fba2 | Database Plus                                   |    4.8 |            58\n",
      " 03011c30-19a0-412c-ae8f-abcd9a96e3d5 | Freightcom                                      |    4.8 |            57\n",
      " 4ee2d319-8b7f-48b2-85a1-acc624a0b25d | Zinrelo                                         |    4.8 |            56\n",
      " 4ee2d319-8b7f-48b2-85a1-acc624a0b25d | Zinrelo                                         |    4.8 |            56\n",
      " 4ee2d319-8b7f-48b2-85a1-acc624a0b25d | Zinrelo                                         |    4.8 |            56\n",
      " 64f3b6a5-871a-4f44-850c-b54e1432084a | Uplinkly                                        |    4.8 |            52\n",
      " 1f436fff-0b87-4ef0-9cea-65a5790fbafe | Coopt                                           |    4.8 |            51\n",
      " 28f79e4d-5f3b-4599-b8da-1e0a8ae19fa3 | menelabs                                        |    4.8 |            51\n",
      " 1a59b93a-7536-4822-90a7-3843b92df0de | Exto                                            |    4.8 |            51\n",
      " d9f142ee-b141-4dc4-9353-173db61d2eb0 | Privy                                           |    4.7 |         23078\n",
      " d9f142ee-b141-4dc4-9353-173db61d2eb0 | Privy                                           |    4.7 |         23078\n",
      " 70bff9e0-4316-4cc6-84ce-92fcd1bc6925 | Booster Apps                                    |    4.7 |          5259\n",
      " 70bff9e0-4316-4cc6-84ce-92fcd1bc6925 | Booster Apps                                    |    4.7 |          5259\n",
      " b7adbdb4-8266-4098-913d-bc196345d412 | Booster Apps                                    |    4.7 |          2492\n",
      " 70accd59-ee04-45cf-8116-1897155d7341 | Justuno                                         |    4.7 |          2235\n",
      " 70accd59-ee04-45cf-8116-1897155d7341 | Justuno                                         |    4.7 |          2235\n",
      " 70accd59-ee04-45cf-8116-1897155d7341 | Justuno                                         |    4.7 |          2235\n",
      " 70accd59-ee04-45cf-8116-1897155d7341 | Justuno                                         |    4.7 |          2235\n",
      " 492592d8-7bf1-4028-b956-813348cabc5d | Swell Rewards                                   |    4.7 |          2135\n",
      " 15b0aebf-d834-4db3-be04-a1cb75b1187d | Plug in Useful                                  |    4.7 |          1959\n",
      " 99fe8c00-2261-448a-ac8a-83a9394a0779 | BOLD                                            |    4.7 |          1910\n",
      " 04410cdd-4a92-409b-802c-a2aa089fb206 | Spocket                                         |    4.7 |          1819\n",
      " b95ccc7f-0699-4bd3-9f77-f88c6b706667 | Varinode, Inc.                                  |    4.7 |          1770\n",
      " b95ccc7f-0699-4bd3-9f77-f88c6b706667 | Varinode, Inc.                                  |    4.7 |          1770\n",
      " b12e072c-5a27-4185-93c2-4189d0073899 | BOLD                                            |    4.7 |          1371\n",
      " 6c6be7ea-0ea9-40f9-a4a6-8b51623110fd | BOLD                                            |    4.7 |          1358\n",
      " b08aafae-a176-425e-9e77-14b62d94c7bd | POWr.io                                         |    4.7 |          1118\n",
      " ea1568d7-23b1-46d3-86b4-7b09a4a50469 | BOLD                                            |    4.7 |           994\n",
      " ea1568d7-23b1-46d3-86b4-7b09a4a50469 | BOLD                                            |    4.7 |           994\n",
      " 5f3279fc-5759-43a5-9abf-60ef82372bee | AfterShip + Automizely                          |    4.7 |           981\n",
      " 5f3279fc-5759-43a5-9abf-60ef82372bee | AfterShip + Automizely                          |    4.7 |           981\n",
      " 5f3279fc-5759-43a5-9abf-60ef82372bee | AfterShip + Automizely                          |    4.7 |           981\n",
      " 5f3279fc-5759-43a5-9abf-60ef82372bee | AfterShip + Automizely                          |    4.7 |           981\n",
      " 4fb1d0a0-835a-49f3-8a1e-372b02a1fc60 | Buddha Apps                                     |    4.7 |           830\n",
      " 1ad772eb-e3d1-4431-b5e9-18ec5040945f | Care Cart                                       |    4.7 |           801\n",
      " 82005694-efd8-40f8-9b5b-8e69d5a9be4a | Snapppt                                         |    4.7 |           745\n",
      " 82005694-efd8-40f8-9b5b-8e69d5a9be4a | Snapppt                                         |    4.7 |           745\n",
      " e077e044-f521-4087-9408-0257dfd2d000 | Pixel Union                                     |    4.7 |           728\n",
      " e077e044-f521-4087-9408-0257dfd2d000 | Pixel Union                                     |    4.7 |           728\n",
      " f68143b2-8247-4f38-9581-c2034ae9de93 | BOLD                                            |    4.7 |           708\n",
      " f592a5c2-ae3d-4b3a-ae20-0302e2b7d5bc | TK Digital Ltd                                  |    4.7 |           688\n",
      " b6b0398d-8417-454f-938d-eb415b400de1 | Weglot                                          |    4.7 |           674\n",
      " 6150be96-d7c2-4141-984f-b587a2d5d9f5 | S Loyalty                                       |    4.7 |           647\n",
      " 7b570802-fd42-49bf-a9f2-19d69838c049 | Hextom                                          |    4.7 |           527\n",
      " 7b570802-fd42-49bf-a9f2-19d69838c049 | Hextom                                          |    4.7 |           527\n",
      " 53eb5ef4-63a0-48a5-a67d-41c9756ac4c6 | ShippingEasy                                    |    4.7 |           502\n",
      " 53eb5ef4-63a0-48a5-a67d-41c9756ac4c6 | ShippingEasy                                    |    4.7 |           502\n",
      " 797060ad-17d6-4e46-a728-8ecafddb6c64 | Stock Sync                                      |    4.7 |           490\n",
      " 797060ad-17d6-4e46-a728-8ecafddb6c64 | Stock Sync                                      |    4.7 |           490\n",
      " 3597083e-b613-4500-9066-c7df85431a39 | Revy Apps                                       |    4.7 |           481\n",
      " 3597083e-b613-4500-9066-c7df85431a39 | Revy Apps                                       |    4.7 |           481\n",
      " 26cf0f5c-8176-4932-814c-873a0e289043 | GTranslate                                      |    4.7 |           476\n",
      " bc9dc4c1-b858-4b94-b408-a63e24929961 | ShipStation                                     |    4.7 |           438\n",
      " d2a97e84-c66d-4440-a7da-41ae40a3e09e | ShopStorm                                       |    4.7 |           395\n",
      " d2a97e84-c66d-4440-a7da-41ae40a3e09e | ShopStorm                                       |    4.7 |           395\n",
      " df13ad74-000a-49b9-a7f7-aee9b8d0c70e | Autoketing                                      |    4.7 |           394\n",
      " df13ad74-000a-49b9-a7f7-aee9b8d0c70e | Autoketing                                      |    4.7 |           394\n",
      " 33af3bbb-fb0f-4308-a25d-556498d17a9b | MailMunch                                       |    4.7 |           374\n",
      " b50fef6c-565e-49f3-8235-0a3ce5e66b9a | Seguno                                          |    4.7 |           363\n",
      " b50fef6c-565e-49f3-8235-0a3ce5e66b9a | Seguno                                          |    4.7 |           363\n",
      " b50fef6c-565e-49f3-8235-0a3ce5e66b9a | Seguno                                          |    4.7 |           363\n",
      " 59ae2de8-3d23-489c-ab36-5111d9394e65 | Zapiet                                          |    4.7 |           357\n",
      " 59ae2de8-3d23-489c-ab36-5111d9394e65 | Zapiet                                          |    4.7 |           357\n",
      " 025e1eb5-d1f8-4e53-a2c9-2ddf7baf08f8 | SmartFox                                        |    4.7 |           346\n",
      " 025e1eb5-d1f8-4e53-a2c9-2ddf7baf08f8 | SmartFox                                        |    4.7 |           346\n",
      " 75630c84-cf3c-4f01-a366-29a50eeeb04d | Appiversal                                      |    4.7 |           343\n",
      " 75630c84-cf3c-4f01-a366-29a50eeeb04d | Appiversal                                      |    4.7 |           343\n",
      " 2f7e017f-1102-4cc3-befb-a28cc406b55f | Pixel Union                                     |    4.7 |           293\n",
      " cb4ab063-209a-487d-ad92-a95695eace91 | Kudobuzz                                        |    4.7 |           292\n",
      " cb4ab063-209a-487d-ad92-a95695eace91 | Kudobuzz                                        |    4.7 |           292\n",
      " 7220ad5a-6d9d-4d24-9027-e66034cfa9d3 | CartKit                                         |    4.7 |           289\n",
      " fc4a5f46-b770-4657-8f68-e6cadeaa4b2c | Metizsoft Solutions Pvt Ltd                     |    4.7 |           281\n",
      " fe627087-9ae4-41da-b7d1-0ae68a7588e9 | Globo                                           |    4.7 |           273\n",
      " 02abbc34-2dfb-42fd-a24d-9cbe7227b924 | Zipify Apps                                     |    4.7 |           267\n",
      " 15a7ed6e-326d-4cf8-aadc-fe445d716f7e | Booster Apps                                    |    4.7 |           254\n",
      " 783c4be7-046a-4ee9-a2ec-6857a59172e8 | ShoppingFeeder                                  |    4.7 |           247\n",
      " 8866da42-bff2-4ec9-a388-6724e8794c06 | Findify                                         |    4.7 |           239\n",
      " 8866da42-bff2-4ec9-a388-6724e8794c06 | Findify                                         |    4.7 |           239\n",
      " 57d102f1-a223-4a4c-8835-b262e5d2a7df | Codisto                                         |    4.7 |           237\n",
      " 57d102f1-a223-4a4c-8835-b262e5d2a7df | Codisto                                         |    4.7 |           237\n",
      " 57d102f1-a223-4a4c-8835-b262e5d2a7df | Codisto                                         |    4.7 |           237\n",
      " 17379934-0682-420a-8daf-2aa5214b6d62 | AfterShip + Automizely                          |    4.7 |           221\n",
      " 17379934-0682-420a-8daf-2aa5214b6d62 | AfterShip + Automizely                          |    4.7 |           221\n",
      " 17379934-0682-420a-8daf-2aa5214b6d62 | AfterShip + Automizely                          |    4.7 |           221\n",
      " 3334cf0f-f0db-4a89-817d-28f8d66420eb | POWr.io                                         |    4.7 |           219\n",
      " 3334cf0f-f0db-4a89-817d-28f8d66420eb | POWr.io                                         |    4.7 |           219\n",
      " 3334cf0f-f0db-4a89-817d-28f8d66420eb | POWr.io                                         |    4.7 |           219\n",
      " 73362933-3fe7-4501-9a28-d66a3bcc7c3b | Big Van Studio                                  |    4.7 |           217\n",
      " 1903bbbf-080e-431a-9cc0-e06cc8351519 | OrangeTwig                                      |    4.7 |           217\n",
      " 1903bbbf-080e-431a-9cc0-e06cc8351519 | OrangeTwig                                      |    4.7 |           217\n",
      " efdba679-74e4-41fd-87f7-6fdf72353e24 | Klaviyo                                         |    4.7 |           215\n",
      " efdba679-74e4-41fd-87f7-6fdf72353e24 | Klaviyo                                         |    4.7 |           215\n",
      " 5ec6c876-862b-4e9f-9d17-5df0d6d00659 | Flits                                           |    4.7 |           211\n",
      " 5ec6c876-862b-4e9f-9d17-5df0d6d00659 | Flits                                           |    4.7 |           211\n",
      " 5ec6c876-862b-4e9f-9d17-5df0d6d00659 | Flits                                           |    4.7 |           211\n",
      " b8ef3f74-521f-44ac-ad7f-e5e005a836f3 | Website On-Demand                               |    4.7 |           208\n",
      " b8ef3f74-521f-44ac-ad7f-e5e005a836f3 | Website On-Demand                               |    4.7 |           208\n",
      " c4da3cad-8781-4b61-9abe-2627af3ea9f9 | Onjection Labs                                  |    4.7 |           206\n",
      " c4da3cad-8781-4b61-9abe-2627af3ea9f9 | Onjection Labs                                  |    4.7 |           206\n",
      " 0e4bb4e8-fb54-4703-a0ea-84ad4fd0c112 | Expert Village Media Technologies               |    4.7 |           202\n",
      " 0e4bb4e8-fb54-4703-a0ea-84ad4fd0c112 | Expert Village Media Technologies               |    4.7 |           202\n",
      " 688e017a-3aad-445b-8e2b-9c9032be0067 | POWr.io                                         |    4.7 |           191\n",
      " 688e017a-3aad-445b-8e2b-9c9032be0067 | POWr.io                                         |    4.7 |           191\n",
      " b7eeff27-0cd9-441b-8453-61d989aac01d | MageWorx                                        |    4.7 |           187\n",
      " e26facc1-fe73-4dad-9504-5b5a9a3b856c | HulkApps.com                                    |    4.7 |           185\n",
      " c6a38c5a-5d32-4aea-9f93-4139d69fe007 | Vela                                            |    4.7 |           171\n",
      " ab8a6b9b-d164-424a-9a8d-fc65743faae6 | Website On-Demand                               |    4.7 |           159\n",
      " ab8a6b9b-d164-424a-9a8d-fc65743faae6 | Website On-Demand                               |    4.7 |           159\n",
      " 2ddc4524-d664-4134-b0f6-2478c3272fcb | Customer.guru                                   |    4.7 |           158\n",
      " effc5c22-83a2-476a-a000-6c34075372d5 | SpurIT                                          |    4.7 |           158\n",
      " effc5c22-83a2-476a-a000-6c34075372d5 | SpurIT                                          |    4.7 |           158\n",
      " 2ddc4524-d664-4134-b0f6-2478c3272fcb | Customer.guru                                   |    4.7 |           158\n",
      " 2ddc4524-d664-4134-b0f6-2478c3272fcb | Customer.guru                                   |    4.7 |           158\n",
      " 4fba3c7b-45dc-4d1d-98b4-86f0d73b65a4 | SmartrMail                                      |    4.7 |           156\n",
      " 631cd77c-78c3-4fc1-bca3-acb87709d0b6 | InsCoder Limited                                |    4.7 |           155\n",
      " 90d556cb-2c06-4fce-95d6-6162eece8293 | Mascot Software Technologies Pvt. Ltd           |    4.7 |           152\n",
      " 51d46c1c-7d5c-4402-87be-dbecccc0023b | SpurIT                                          |    4.7 |           140\n",
      " aabd909a-1e15-44b7-8d8e-642ec38177ec | POWr.io                                         |    4.7 |           140\n",
      " 51d46c1c-7d5c-4402-87be-dbecccc0023b | SpurIT                                          |    4.7 |           140\n",
      " 69284579-9f69-47d9-b505-da31874a4587 | Refersion, Inc.                                 |    4.7 |           137\n",
      " 7d2b76b3-adb4-41a6-aacf-c088a396cab1 | LaraLancer                                      |    4.7 |           134\n",
      " 7d2b76b3-adb4-41a6-aacf-c088a396cab1 | LaraLancer                                      |    4.7 |           134\n",
      " caecdd51-377b-415c-b785-1502251a1a6b | SpurIT                                          |    4.7 |           128\n",
      " 092c7e9c-96f5-4c31-ae59-aa58b3a0818e | Dev Cloud                                       |    4.7 |           125\n",
      " 7f95327a-b89c-497e-b981-0cbf49ad632d | HulkApps.com                                    |    4.7 |           124\n",
      " 5c9594d2-a891-4d97-ab0c-8745b98773b6 | SendOwl                                         |    4.7 |           124\n",
      " 9559f0d8-0461-4d0f-b948-03f7eee5c90b | AAAeCommerce Inc                                |    4.7 |           120\n",
      " e1e15242-b5e4-4680-9679-3d826cf4662d | AppHero                                         |    4.7 |           119\n",
      " b0c50a89-b1e3-487d-96cc-e233332c7846 | TinySpaceHouse, LLC.                            |    4.7 |           119\n",
      " b0c50a89-b1e3-487d-96cc-e233332c7846 | TinySpaceHouse, LLC.                            |    4.7 |           119\n",
      " 926b834a-1f16-49bd-be0a-88fadc4ac7c5 | JetPrint Fulfillment                            |    4.7 |           118\n",
      " 926b834a-1f16-49bd-be0a-88fadc4ac7c5 | JetPrint Fulfillment                            |    4.7 |           118\n",
      " 333cd7f0-7886-49af-8e0b-d3a37b8edf66 | Bolt Promotion Software Ltd.                    |    4.7 |           117\n",
      " d61772e6-3ffa-40a2-996d-bfbbfc997e22 | ReloadSEO                                       |    4.7 |           116\n",
      " d61772e6-3ffa-40a2-996d-bfbbfc997e22 | ReloadSEO                                       |    4.7 |           116\n",
      " ae6220e4-55d4-404c-922c-bafb3bd2d078 | ShipHero                                        |    4.7 |           115\n",
      " 124b2c39-038f-4ad8-833c-1b9843fb3860 | LaraLancer                                      |    4.7 |           115\n",
      " 124b2c39-038f-4ad8-833c-1b9843fb3860 | LaraLancer                                      |    4.7 |           115\n",
      " d0855509-7766-4481-8bf2-29fc733a2d61 | KAD Systems                                     |    4.7 |           114\n",
      " d0855509-7766-4481-8bf2-29fc733a2d61 | KAD Systems                                     |    4.7 |           114\n",
      " f2b57150-f7c3-4802-94a0-f95d1e920a40 | Pixel Union                                     |    4.7 |           112\n",
      " f2b57150-f7c3-4802-94a0-f95d1e920a40 | Pixel Union                                     |    4.7 |           112\n",
      " 7da3c38d-39a2-415f-be98-fa9433e6ef9d | Zotabox                                         |    4.7 |           109\n",
      " 7da3c38d-39a2-415f-be98-fa9433e6ef9d | Zotabox                                         |    4.7 |           109\n",
      " f26de98b-f119-46ff-b767-c02d0ca644f0 | Expert Village Media Technologies               |    4.7 |           108\n",
      " aeadf83f-7f20-41f7-a617-ff289743ff5f | Code Black Belt                                 |    4.7 |           108\n",
      " f26de98b-f119-46ff-b767-c02d0ca644f0 | Expert Village Media Technologies               |    4.7 |           108\n",
      " bd018e34-1faa-4e79-a363-7c6436751df5 | Sovi Apps                                       |    4.7 |           101\n",
      " 43baf077-c638-4ea3-aac6-d0702cd0b319 | Rating-Widget, Inc.                             |    4.7 |           100\n",
      " 43baf077-c638-4ea3-aac6-d0702cd0b319 | Rating-Widget, Inc.                             |    4.7 |           100\n",
      " 2365cbd0-e7a8-4678-9948-f4fb1bb7342f | SpurIT                                          |    4.7 |            98\n",
      " 2365cbd0-e7a8-4678-9948-f4fb1bb7342f | SpurIT                                          |    4.7 |            98\n",
      " 3164c8e3-8622-47f6-b814-c51fd58ceaf0 | SpurIT                                          |    4.7 |            93\n",
      " 0e0c7134-09ec-4322-817d-aa905f82a8ff | importify                                       |    4.7 |            89\n",
      " 8ee4eb56-f09b-415e-98c1-f10beeb00933 | POWr.io                                         |    4.7 |            88\n",
      " 65625324-eaa4-4722-8018-b056eb1725b0 | Oiizes                                          |    4.7 |            85\n",
      " e7b4313e-c61f-405b-9cc9-d6d2b7be6823 | Pasilobus                                       |    4.7 |            82\n",
      " e7b4313e-c61f-405b-9cc9-d6d2b7be6823 | Pasilobus                                       |    4.7 |            82\n",
      " b64093c8-e165-4f61-8783-fea7bae2536e | Softpulse Infotech                              |    4.7 |            77\n",
      " 8513085f-a8f8-499e-b601-f9e054920f32 | Okas Concepts                                   |    4.7 |            74\n",
      " 2b08cb8b-1853-4b4f-ab0a-101f704f178c | EGNITION                                        |    4.7 |            71\n",
      " c3a1605d-9174-43ec-b3d6-2d575cbbd6da | Boomerang Digital LLC                           |    4.7 |            70\n",
      " 3e9b4b2d-0cd1-41e5-9e47-57bb74fb9eb9 | Softpulse Infotech                              |    4.7 |            69\n",
      " f08c1b39-3628-492c-b0b0-6658b4817383 | Rise.ai                                         |    4.7 |            69\n",
      " 3e9b4b2d-0cd1-41e5-9e47-57bb74fb9eb9 | Softpulse Infotech                              |    4.7 |            69\n",
      " f08c1b39-3628-492c-b0b0-6658b4817383 | Rise.ai                                         |    4.7 |            69\n",
      " 58227cea-cfa2-4f32-bc95-e70b4b944f10 | TechiePugs                                      |    4.7 |            64\n",
      " 0925e615-e476-4690-8929-f72de99f8289 | EFOLI, LLC                                      |    4.7 |            62\n",
      " 39cfbe01-2917-46a1-96ae-842655307bfa | Apps Mav                                        |    4.7 |            59\n",
      " b01c71dc-87ce-4bfa-a266-5e145e64b69e | DevIT                                           |    4.7 |            58\n",
      " d019ca26-3876-4723-b69d-ce63faea85dc | Gleam                                           |    4.7 |            58\n",
      " 13775c42-2b75-49fc-9598-a752cb0548ef | Credible - Display Recent Sales                 |    4.7 |            57\n",
      " 13775c42-2b75-49fc-9598-a752cb0548ef | Credible - Display Recent Sales                 |    4.7 |            57\n",
      " 0258abb1-7eac-4e0a-b589-80d3872fb2b9 | POWr.io                                         |    4.7 |            55\n",
      " c9cf20bb-6f58-46c4-b29b-795a4f086362 | RouteApp LLC                                    |    4.7 |            55\n",
      " c9cf20bb-6f58-46c4-b29b-795a4f086362 | RouteApp LLC                                    |    4.7 |            55\n",
      " c9cf20bb-6f58-46c4-b29b-795a4f086362 | RouteApp LLC                                    |    4.7 |            55\n",
      " 2dfb20b0-be10-4c63-bd73-f934586ddbda | Dev Cloud                                       |    4.7 |            52\n",
      " f3a8764b-413e-47e2-82ab-dc6fb32ded1a | Impress                                         |    4.7 |            52\n",
      " 2dfb20b0-be10-4c63-bd73-f934586ddbda | Dev Cloud                                       |    4.7 |            52\n",
      " 6efc2e13-f9e7-4498-bf01-86f9ffc37041 | DLA Group                                       |    4.7 |            52\n",
      " 6efc2e13-f9e7-4498-bf01-86f9ffc37041 | DLA Group                                       |    4.7 |            52\n",
      " 2dfb20b0-be10-4c63-bd73-f934586ddbda | Dev Cloud                                       |    4.7 |            52\n",
      " 6efc2e13-f9e7-4498-bf01-86f9ffc37041 | DLA Group                                       |    4.7 |            52\n",
      " fac88e6a-fa0e-4b2e-bf0a-5a78300d4f9e | FireApps - Premium Apps For Ecommerce.          |    4.6 |          2906\n",
      " fac88e6a-fa0e-4b2e-bf0a-5a78300d4f9e | FireApps - Premium Apps For Ecommerce.          |    4.6 |          2906\n",
      " 29b47e46-f912-44d8-ab4f-1408ea4b4cda | Printful                                        |    4.6 |          2665\n",
      " 2f07545e-45e2-40b0-8a40-ef55570cf4f9 | Shopify                                         |    4.6 |          2382\n",
      " cbfaaaa2-ac4f-4647-98c5-c9d649076746 | Yotpo                                           |    4.6 |          1678\n",
      " cbfaaaa2-ac4f-4647-98c5-c9d649076746 | Yotpo                                           |    4.6 |          1678\n",
      " 4bdf722c-afac-4b7e-952a-fb42f0f35f43 | Printify                                        |    4.6 |          1327\n",
      " 5f11f6ea-e049-412c-92a0-57e3efa9e993 | Eggflow                                         |    4.6 |          1231\n",
      " 5f11f6ea-e049-412c-92a0-57e3efa9e993 | Eggflow                                         |    4.6 |          1231\n",
      " ced247c8-c507-4bb9-ba2a-2e056b2eb737 | Care Cart                                       |    4.6 |          1020\n",
      " ced247c8-c507-4bb9-ba2a-2e056b2eb737 | Care Cart                                       |    4.6 |          1020\n",
      " 31ad5046-fde3-4f38-b646-2997c2b84276 | BOLD                                            |    4.6 |           870\n",
      " 125df21e-a39f-49d9-ab2c-aa8824a54976 | BOLD                                            |    4.6 |           810\n",
      " 378acb3e-0dc5-453c-9cc9-ef1bd89d37f5 | Booster Apps                                    |    4.6 |           744\n",
      " 378acb3e-0dc5-453c-9cc9-ef1bd89d37f5 | Booster Apps                                    |    4.6 |           744\n",
      " bfcc6874-4366-409d-af50-2dfd6df763f7 | POWr.io                                         |    4.6 |           707\n",
      " bfcc6874-4366-409d-af50-2dfd6df763f7 | POWr.io                                         |    4.6 |           707\n",
      " b3e944b3-d35a-423d-bf4d-2c1ab682642b | Expert Village Media Technologies               |    4.6 |           688\n",
      " d0b72fd7-5928-4d31-b965-3c0fde0d05c3 | Vertex LV                                       |    4.6 |           615\n",
      " d0b72fd7-5928-4d31-b965-3c0fde0d05c3 | Vertex LV                                       |    4.6 |           615\n",
      " b0dc70ef-1dce-4186-be46-e3a16ea7e4df | BOLD                                            |    4.6 |           597\n",
      " 50aaa827-1a4f-4ffd-8bd6-8e6aade34853 | TrustedSite                                     |    4.6 |           590\n",
      " 50aaa827-1a4f-4ffd-8bd6-8e6aade34853 | TrustedSite                                     |    4.6 |           590\n",
      " 50aaa827-1a4f-4ffd-8bd6-8e6aade34853 | TrustedSite                                     |    4.6 |           590\n",
      " e625761a-7830-4e2c-a27c-f2233e7da5c4 | teelaunch                                       |    4.6 |           536\n",
      " 1295322d-9202-4c22-b922-ce748a331f5d | Engage Apps                                     |    4.6 |           523\n",
      " 1295322d-9202-4c22-b922-ce748a331f5d | Engage Apps                                     |    4.6 |           523\n",
      " cf8d9620-e84d-4d55-ac76-0f9bb28bde13 | Secomapp                                        |    4.6 |           504\n",
      " cf8d9620-e84d-4d55-ac76-0f9bb28bde13 | Secomapp                                        |    4.6 |           504\n",
      " 25c63e72-5f7c-41a4-a172-03a059f9f4f7 | ROI Hunter                                      |    4.6 |           463\n",
      " 75be194e-a2bd-46ee-aa5f-d0074ce09e0a | Kudobuzz                                        |    4.6 |           442\n",
      " 05a33f94-b93f-46be-b26e-1eed39ba7758 | Shippo                                          |    4.6 |           441\n",
      " 2f76043d-3f7b-4557-bb3b-f50b360de27b | ShopPad Inc.                                    |    4.6 |           433\n",
      " 3ebe85b4-484b-4206-985b-546c64f02d2a | FireApps - Premium Apps For Ecommerce.          |    4.6 |           421\n",
      " 026b5dac-073e-4991-a4ba-32429d6809ee | Marsello                                        |    4.6 |           413\n",
      " 29f7500c-a341-44dd-be41-dcfd5ab56e31 | WC Fulfillment                                  |    4.6 |           379\n",
      " 30a28d19-a039-4c13-988f-dc8a3611e9a7 | Shoelace                                        |    4.6 |           377\n",
      " 4cbc666c-ae75-48c6-9ef2-c3452141635e | Lucky Orange LLC                                |    4.6 |           364\n",
      " 77ab73bc-7e46-4041-9f27-b0297f2d1691 | microapps                                       |    4.6 |           349\n",
      " 1ac8edf6-9886-4d43-999f-04225df37099 | Pixel Union                                     |    4.6 |           318\n",
      " 1ac8edf6-9886-4d43-999f-04225df37099 | Pixel Union                                     |    4.6 |           318\n",
      " b506d3bb-8fd2-4663-b1a2-4609883a7d77 | LoyaltyLion                                     |    4.6 |           269\n",
      " b506d3bb-8fd2-4663-b1a2-4609883a7d77 | LoyaltyLion                                     |    4.6 |           269\n",
      " b506d3bb-8fd2-4663-b1a2-4609883a7d77 | LoyaltyLion                                     |    4.6 |           269\n",
      " d8b382e5-6dab-491a-a6fc-b54aa2e67d64 | Buymaxx                                         |    4.6 |           234\n",
      " d8b382e5-6dab-491a-a6fc-b54aa2e67d64 | Buymaxx                                         |    4.6 |           234\n",
      " 74e7cbaa-c4b2-4c22-b4fe-17426a240225 | importify                                       |    4.6 |           225\n",
      " 66c4a06a-2eb2-457d-b2e3-45628e05a554 | Clever Few Corp                                 |    4.6 |           215\n",
      " 66c4a06a-2eb2-457d-b2e3-45628e05a554 | Clever Few Corp                                 |    4.6 |           215\n",
      " fee3967d-9cd7-4156-ba0b-065726568730 | MLveda                                          |    4.6 |           205\n",
      " 244a88b5-a7fc-45d2-bb69-158355b5d997 | Engage Apps                                     |    4.6 |           190\n",
      " ac1c5ee4-fad0-4df8-8f79-b4a23b9bb17c | Sellify                                         |    4.6 |           180\n",
      " ac1c5ee4-fad0-4df8-8f79-b4a23b9bb17c | Sellify                                         |    4.6 |           180\n",
      " fda994d1-23ba-4780-b086-ceee9fc538ff | Areviews App                                    |    4.6 |           173\n",
      " fda994d1-23ba-4780-b086-ceee9fc538ff | Areviews App                                    |    4.6 |           173\n",
      " f903c685-f4ee-4e93-8581-7e03bf989f85 | Customify                                       |    4.6 |           168\n",
      " 8fb919b8-7a66-466a-b16d-0c8e75ef9593 | Eggflow                                         |    4.6 |           159\n",
      " 8fb919b8-7a66-466a-b16d-0c8e75ef9593 | Eggflow                                         |    4.6 |           159\n",
      " 3e446968-5cad-4d94-bef8-696af88a8fe4 | Coherent Path Inc.                              |    4.6 |           148\n",
      " 65391c77-8c98-4d4d-a924-2bc99b083c72 | Impress                                         |    4.6 |           145\n",
      " 65391c77-8c98-4d4d-a924-2bc99b083c72 | Impress                                         |    4.6 |           145\n",
      " 7d9b80c6-83f7-4a32-b46b-e7564dd6d716 | makeanoffer                                     |    4.6 |           138\n",
      " 011a72b9-598e-4e13-a47e-72f1ffe65b3c | POWr.io                                         |    4.6 |           134\n",
      " 35e449e0-7f4a-4831-bb36-ce8951794f5a | Webify Technology                               |    4.6 |           132\n",
      " af8f04d7-a764-4bfd-a7ef-481418cc5bcd | Zepto Apps                                      |    4.6 |           131\n",
      " bdb52afc-acae-4ad6-aedb-14c16f3d8f21 | MLveda                                          |    4.6 |           127\n",
      " bdb52afc-acae-4ad6-aedb-14c16f3d8f21 | MLveda                                          |    4.6 |           127\n",
      " f2a5602f-0f91-4f33-9425-4b995db0b675 | POWr.io                                         |    4.6 |           123\n",
      " f2a5602f-0f91-4f33-9425-4b995db0b675 | POWr.io                                         |    4.6 |           123\n",
      " 3baeb697-066c-495b-90e6-8c0df2ebfb0a | Simplify Apps                                   |    4.6 |           117\n",
      " 3baeb697-066c-495b-90e6-8c0df2ebfb0a | Simplify Apps                                   |    4.6 |           117\n",
      " 0567b5e5-ee37-48e1-befd-9d65637bb0f2 | Vantage                                         |    4.6 |           112\n",
      " 032eeb26-b9af-4565-8cce-d72e5abcbc03 | Autoketing                                      |    4.6 |           103\n",
      " 032eeb26-b9af-4565-8cce-d72e5abcbc03 | Autoketing                                      |    4.6 |           103\n",
      " 93db4292-9218-40a3-a2a1-e1f2904b0bf8 | Eshop Guide                                     |    4.6 |            99\n",
      " e2a7d60b-5d58-4a75-9503-855677465eb3 | Hektor Commerce                                 |    4.6 |            96\n",
      " 8346b691-22bb-473b-abe8-174490a5c3ab | overcode                                        |    4.6 |            92\n",
      " f1a50d22-6c59-4034-889c-53d663125055 | MLveda                                          |    4.6 |            89\n",
      " 5a499526-f955-439e-adb5-06b5660760e2 | SpurIT                                          |    4.6 |            88\n",
      " 5a499526-f955-439e-adb5-06b5660760e2 | SpurIT                                          |    4.6 |            88\n",
      " 01627cd2-1671-40d5-9c0a-2932ef04bb08 | NeatShift                                       |    4.6 |            87\n",
      " 01627cd2-1671-40d5-9c0a-2932ef04bb08 | NeatShift                                       |    4.6 |            87\n",
      " 5298b447-2fe4-49c2-a55a-b2eb33eda5db | Sticky Apps                                     |    4.6 |            77\n",
      " 034f026f-fae9-4da4-8552-fa210281f0c7 | ByteStand                                       |    4.6 |            76\n",
      " bae251b7-8c82-4bef-a401-557b9a42a780 | Limoni Apps                                     |    4.6 |            70\n",
      " bae251b7-8c82-4bef-a401-557b9a42a780 | Limoni Apps                                     |    4.6 |            70\n",
      " bae251b7-8c82-4bef-a401-557b9a42a780 | Limoni Apps                                     |    4.6 |            70\n",
      " fe6ec32d-77ec-404f-8533-52602470ae32 | Zestard Technologies Pvt Ltd                    |    4.6 |            70\n",
      " fe6ec32d-77ec-404f-8533-52602470ae32 | Zestard Technologies Pvt Ltd                    |    4.6 |            70\n",
      " a58ee05a-e71f-4278-80db-8ab4377e724b | Yo                                              |    4.6 |            68\n",
      " 05e582f8-0310-4fb7-acec-76bac3e528dd | Carts Guru                                      |    4.6 |            67\n",
      " 05e582f8-0310-4fb7-acec-76bac3e528dd | Carts Guru                                      |    4.6 |            67\n",
      " 8acd6285-50d1-4ecb-b8f6-e6bd163775a3 | Eastside Co                                     |    4.6 |            65\n",
      " 3cee061e-48ed-4270-9925-3a12c5af3824 | Stock Sync                                      |    4.6 |            61\n",
      " 3cee061e-48ed-4270-9925-3a12c5af3824 | Stock Sync                                      |    4.6 |            61\n",
      " 3742d330-6072-48eb-bbbe-f626de363bbe | Matt Loszak                                     |    4.6 |            59\n",
      " cb8522ae-8d07-4926-8594-7ad0f592006b | Invoicify.me                                    |    4.6 |            59\n",
      " 4ad32579-561e-49e9-a57a-9600e8c72649 | Combidesk                                       |    4.6 |            57\n",
      " de6f4a35-ae78-4d1c-9a5f-0c12671d8f9e | enormapps                                       |    4.6 |            56\n",
      " b2c52062-1a07-4306-b714-a02806be2fdd | Zestard Technologies Pvt Ltd                    |    4.6 |            54\n",
      " bb72bf2e-6f66-4b00-927e-5dce03eac0e7 | POWr.io                                         |    4.6 |            53\n",
      " bb72bf2e-6f66-4b00-927e-5dce03eac0e7 | POWr.io                                         |    4.6 |            53\n",
      " cf940487-16a9-4812-9708-53b6896f0ce5 | Nitro Apps                                      |    4.6 |            52\n",
      " 1c4b6bb0-c92b-4489-9968-1cca08ed03ce | Secomapp                                        |    4.5 |          1271\n",
      " 1c4b6bb0-c92b-4489-9968-1cca08ed03ce | Secomapp                                        |    4.5 |          1271\n",
      " 161b5c30-8c59-4e4e-a53e-160402a35adf | TK Digital Ltd                                  |    4.5 |          1130\n",
      " c88ca705-9633-4f69-bf3d-eb881797fc21 | MailMunch                                       |    4.5 |          1096\n",
      " c88ca705-9633-4f69-bf3d-eb881797fc21 | MailMunch                                       |    4.5 |          1096\n",
      " 6e7b5e0b-655d-4c92-9c1a-1cdb12904e30 | appfreaker                                      |    4.5 |           654\n",
      " f91b8521-7301-46a7-b45b-4b7d583c94b8 | LeadDyno                                        |    4.5 |           559\n",
      " b68ac235-f0be-4022-935f-620ac14b27f7 | POWr.io                                         |    4.5 |           464\n",
      " 08686ab6-cdd5-4b9b-9518-5c82c17c4f7c | HulkApps.com                                    |    4.5 |           452\n",
      " 9748f6f4-b7a4-4ae7-8392-61a1e0d389a1 | Eastside Co                                     |    4.5 |           445\n",
      " 01c37758-727d-4b2b-a2c1-0674116598be | Pillow Profits Fulfillment                      |    4.5 |           439\n",
      " bdc08b15-ab23-4766-bda9-4b64d7dd6377 | Softpulse Infotech                              |    4.5 |           373\n",
      " 43a41bc9-05b9-42f4-a5f2-8e84c601c2d6 | Marsello                                        |    4.5 |           361\n",
      " fc11617b-f301-4bea-bbc8-e455619ccb5b | ShopPad Inc.                                    |    4.5 |           287\n",
      " 2712c7b7-dedf-43ea-9b3c-6c6c7e892086 | Softpulse Infotech                              |    4.5 |           273\n",
      " 46e6c287-5b4b-40ca-a746-3d4767c90885 | Innonic                                         |    4.5 |           250\n",
      " 46e6c287-5b4b-40ca-a746-3d4767c90885 | Innonic                                         |    4.5 |           250\n",
      " 43671040-5a56-4eb3-8435-6068e0a98702 | Awio                                            |    4.5 |           232\n",
      " 2cb71f9c-b2a9-41cd-bf19-e9ac5abc4aaf | POWr.io                                         |    4.5 |           210\n",
      " 56802c8c-35a0-4831-985a-25fb0708d240 | tawk.to                                         |    4.5 |           199\n",
      " 07a31250-1828-45a1-aa30-a69d35ab0801 | ShopPad Inc.                                    |    4.5 |           189\n",
      " 07a31250-1828-45a1-aa30-a69d35ab0801 | ShopPad Inc.                                    |    4.5 |           189\n",
      " d0d4eafb-fcb4-4278-8bb9-5bd10ce76b71 | Zetya                                           |    4.5 |           183\n",
      " d0d4eafb-fcb4-4278-8bb9-5bd10ce76b71 | Zetya                                           |    4.5 |           183\n",
      " e0621cc3-1450-46dd-b417-a9046e652e1c | Eastside Co                                     |    4.5 |           176\n",
      " d566fc36-f227-43dd-af3e-e5c59ed9fc9e | Dropified                                       |    4.5 |           168\n",
      " 2a19e37b-bb5a-4f60-941c-2153e311c2a1 | Rontar Group OU                                 |    4.5 |           161\n",
      " 634eccce-3304-49cd-a80d-f26206f7c142 | Transportr                                      |    4.5 |           152\n",
      " a0ae3833-2c57-4122-a31c-1a687b1b3d1f | Eggflow                                         |    4.5 |           145\n",
      " a0ae3833-2c57-4122-a31c-1a687b1b3d1f | Eggflow                                         |    4.5 |           145\n",
      " a0ae3833-2c57-4122-a31c-1a687b1b3d1f | Eggflow                                         |    4.5 |           145\n",
      " 664e5e70-d0be-486d-a3ed-7346ab2fd4bf | Shopping Feed Inc                               |    4.5 |           128\n",
      " 664e5e70-d0be-486d-a3ed-7346ab2fd4bf | Shopping Feed Inc                               |    4.5 |           128\n",
      " 664e5e70-d0be-486d-a3ed-7346ab2fd4bf | Shopping Feed Inc                               |    4.5 |           128\n",
      " 6b8696dc-de9c-4ec1-a463-96b251ca8351 | SPOD - Spreadshirt Print on Demand              |    4.5 |           124\n",
      " 6b8696dc-de9c-4ec1-a463-96b251ca8351 | SPOD - Spreadshirt Print on Demand              |    4.5 |           124\n",
      " 1242543c-0780-49f8-a3da-102c95ee75e0 | ShopMessage                                     |    4.5 |           119\n",
      " 1242543c-0780-49f8-a3da-102c95ee75e0 | ShopMessage                                     |    4.5 |           119\n",
      " d8188e8f-a249-4c85-a2c3-e86afeed5a13 | NexusMedia                                      |    4.5 |           119\n",
      " 996d0a5b-116c-415f-bf6e-b9af7dab16d4 | Postingly                                       |    4.5 |           117\n",
      " 29a14dfb-cfb8-4080-9c60-fbd645b62e6e | Sweet Ecom                                      |    4.5 |           108\n",
      " 29a14dfb-cfb8-4080-9c60-fbd645b62e6e | Sweet Ecom                                      |    4.5 |           108\n",
      " d0e46c68-9d52-40a8-9fb0-205f92cd6de3 | Booster Apps                                    |    4.5 |           106\n",
      " ee278955-3ace-4e87-acda-891ed491ebcf | Dropship Beauty                                 |    4.5 |           101\n",
      " ee278955-3ace-4e87-acda-891ed491ebcf | Dropship Beauty                                 |    4.5 |           101\n",
      " 062196ec-f51c-4e82-850e-c11f7ed3f792 | DataFeedWatch                                   |    4.5 |            96\n",
      " 67a9d7c7-e449-4a6b-b45e-cc2ed0dec3e2 | ccwholesaleclothing                             |    4.5 |            92\n",
      " 14689d45-f4e7-4563-9ff2-7150652fcf6a | Beans                                           |    4.5 |            87\n",
      " 9355726b-d6d9-4474-ba4b-4cc05645e620 | SendCloud                                       |    4.5 |            84\n",
      " 7af13e22-5b3c-4ebb-8fec-f9b011b71819 | Fastify Apps                                    |    4.5 |            83\n",
      " 9598b415-bd16-477e-a425-85d1e06d94d9 | SpurIT                                          |    4.5 |            81\n",
      " 9598b415-bd16-477e-a425-85d1e06d94d9 | SpurIT                                          |    4.5 |            81\n",
      " f89818f0-7335-482d-a6d7-1b4103f19ff2 | PayWhirl Inc.                                   |    4.5 |            80\n",
      " f64f58d6-0ea6-487d-8c32-a327b53b8b8f | alloverprint.it                                 |    4.5 |            79\n",
      " d2adbe1d-cd4c-4026-ba97-7368355d9fdb | Thimatic                                        |    4.5 |            78\n",
      " d2adbe1d-cd4c-4026-ba97-7368355d9fdb | Thimatic                                        |    4.5 |            78\n",
      " d2adbe1d-cd4c-4026-ba97-7368355d9fdb | Thimatic                                        |    4.5 |            78\n",
      " 796435e7-cd11-4a6c-8da3-0f19c6aa99d4 | Dibble Development                              |    4.5 |            77\n",
      " 73273769-c4e7-422c-9d98-d4e666dda1e2 | 99 Ecommerce Experts                            |    4.5 |            71\n",
      " 73273769-c4e7-422c-9d98-d4e666dda1e2 | 99 Ecommerce Experts                            |    4.5 |            71\n",
      " e134f28a-19ba-4c94-8cfa-e0b4b9fd41cf | ShopStorm                                       |    4.5 |            70\n",
      " 38a5fb36-4c85-4e2c-ab6e-8a1c2952d46d | Unite Commerce                                  |    4.5 |            65\n",
      " f7404f90-939f-449c-8f9a-1410c4ff839c | Dualsided                                       |    4.5 |            65\n",
      " cb1bc392-1217-44f7-aacd-34749c81a640 | RoundUp for Charity                             |    4.5 |            64\n",
      " c449339a-7c16-4a63-b7b0-7a07a72b7d75 | Whiplash                                        |    4.5 |            64\n",
      " af30ee9a-131b-4ad4-ad6f-c2771617ed22 | Agile                                           |    4.5 |            63\n",
      " af30ee9a-131b-4ad4-ad6f-c2771617ed22 | Agile                                           |    4.5 |            63\n",
      " 2cdc3100-66ad-43d0-98fc-24ee4b9db6ae | microapps                                       |    4.5 |            63\n",
      " a065778d-41e6-472e-ae50-bd00443ff29a | W3trends Inc.                                   |    4.5 |            63\n",
      " 2cdc3100-66ad-43d0-98fc-24ee4b9db6ae | microapps                                       |    4.5 |            63\n",
      " af30ee9a-131b-4ad4-ad6f-c2771617ed22 | Agile                                           |    4.5 |            63\n",
      " e39434c8-992c-4ac4-a73e-c7f9c6ec07f9 | SolverCircle                                    |    4.5 |            57\n",
      " c2c14ce9-c1a9-4460-9f78-c24860868395 | Simple Apps LLC                                 |    4.5 |            52\n",
      " 615c4ee0-51b6-449b-9cb2-590236ac09f1 | ViralSweep                                      |    4.5 |            52\n",
      " 0c221d3a-81a2-4b90-9a90-c5a45a97a5bb | Shopify                                         |    4.4 |          1244\n",
      " 0c221d3a-81a2-4b90-9a90-c5a45a97a5bb | Shopify                                         |    4.4 |          1244\n",
      " 5cd0c09f-4566-4675-ac2f-16221b8e4ca7 | Klaviyo                                         |    4.4 |           754\n",
      " 5cd0c09f-4566-4675-ac2f-16221b8e4ca7 | Klaviyo                                         |    4.4 |           754\n",
      " 25f2786d-05a1-41fd-9406-0a004089df27 | Bespoke Technologies                            |    4.4 |           483\n",
      " d85812dd-ce1c-4150-ba56-317755a3b052 | POWr.io                                         |    4.4 |           317\n",
      " d85812dd-ce1c-4150-ba56-317755a3b052 | POWr.io                                         |    4.4 |           317\n",
      " 8440f045-a904-4e17-8523-6619073a3e4c | Softpulse Infotech                              |    4.4 |           294\n",
      " 8440f045-a904-4e17-8523-6619073a3e4c | Softpulse Infotech                              |    4.4 |           294\n",
      " 7d275135-ffde-4e0e-9b85-0dc800e5b147 | EPROLO                                          |    4.4 |           273\n",
      " 2c8831c1-dad4-4eba-8e77-44ce4c7deaca | Cleverific, Inc                                 |    4.4 |           234\n",
      " 4c06f3e6-d7a3-4b50-a956-1443d6b7d6f0 | BOLD                                            |    4.4 |           184\n",
      " cb8494f6-596b-4a9a-8ace-83d4c7f8dc6d | BOLD                                            |    4.4 |           164\n",
      " 70d64d24-1ddb-4e66-b5e0-be0bdcdb6f14 | Webyze                                          |    4.4 |           154\n",
      " 5dd81082-3771-4106-bc83-8db0cdcc614f | Supple Apps                                     |    4.4 |           145\n",
      " fd11071b-53a6-4c8f-b6fd-3d462f4e9b68 | Unite Commerce                                  |    4.4 |           145\n",
      " 972be2e8-60c1-4195-8e36-f4b2b6c901ba | Engage Apps                                     |    4.4 |           144\n",
      " bdf4091e-7b64-41a2-9904-c386827a5a8d | Beans                                           |    4.4 |           140\n",
      " 170b8c83-207e-47d5-94fe-5b7fc8f153fb | CedCommerce                                     |    4.4 |           132\n",
      " 170b8c83-207e-47d5-94fe-5b7fc8f153fb | CedCommerce                                     |    4.4 |           132\n",
      " 170b8c83-207e-47d5-94fe-5b7fc8f153fb | CedCommerce                                     |    4.4 |           132\n",
      " 2541f0f5-3372-4e72-81c2-fdd5e7426d88 | FireApps - Premium Apps For Ecommerce.          |    4.4 |           125\n",
      " 2541f0f5-3372-4e72-81c2-fdd5e7426d88 | FireApps - Premium Apps For Ecommerce.          |    4.4 |           125\n",
      " c3748cea-e970-41e9-8c12-281c5a5a384e | BOLD                                            |    4.4 |           124\n",
      " 8a0fd33d-c123-4d46-a5c1-0e898466c811 | minmaxify.com                                   |    4.4 |           117\n",
      " ca4d7b19-33b0-439f-a3f8-151193bc67fd | Booster Apps                                    |    4.4 |           110\n",
      " ca4d7b19-33b0-439f-a3f8-151193bc67fd | Booster Apps                                    |    4.4 |           110\n",
      " 96d1a964-8cb9-4505-ae95-d62048183a7c | Bablic LTD                                      |    4.4 |           108\n",
      " 3353788f-fd37-468d-866f-d408ba75d206 | ByteStand                                       |    4.4 |           107\n",
      " 4d7e4ebf-2755-4f37-8646-048b4a8a71e4 | Identix Web                                     |    4.4 |           104\n",
      " 4d7e4ebf-2755-4f37-8646-048b4a8a71e4 | Identix Web                                     |    4.4 |           104\n",
      " a2501eef-3328-41ec-8b9f-017f66350283 | POWr.io                                         |    4.4 |           101\n",
      " 9c05a5b1-2d1b-4282-9006-8c8f6c6b378b | Sellbrite                                       |    4.4 |            98\n",
      " 9c05a5b1-2d1b-4282-9006-8c8f6c6b378b | Sellbrite                                       |    4.4 |            98\n",
      " 9c05a5b1-2d1b-4282-9006-8c8f6c6b378b | Sellbrite                                       |    4.4 |            98\n",
      " 571348c4-a70c-467e-a177-679320ebe0e4 | Eastside Co                                     |    4.4 |            95\n",
      " 571348c4-a70c-467e-a177-679320ebe0e4 | Eastside Co                                     |    4.4 |            95\n",
      " 0a225424-4805-465b-b710-0040df25ad29 | Eggflow                                         |    4.4 |            92\n",
      " 2706067d-b0e8-427c-8d7d-c5aa0ce691f0 | The Doughty Organization                        |    4.4 |            91\n",
      " 285ba4ca-65b6-42c0-9605-484084ff39b3 | TaxJar                                          |    4.4 |            88\n",
      " 579f31cf-8f3f-4607-9bcd-c4cbe5a2609c | HulkApps.com                                    |    4.4 |            87\n",
      " 579f31cf-8f3f-4607-9bcd-c4cbe5a2609c | HulkApps.com                                    |    4.4 |            87\n",
      " 1802c9ff-3361-48ef-b215-8643ee106422 | Seller Panda                                    |    4.4 |            80\n",
      " f69d0370-12a0-4692-a10e-01655e3e6aa2 | OneSaas                                         |    4.4 |            79\n",
      " bc07e536-c2c7-48ff-855c-42cf9905bf8b | POWr.io                                         |    4.4 |            72\n",
      " 16fc6ead-9644-4776-913e-f72e596109f2 | Linkcious                                       |    4.4 |            66\n",
      " 70b700a8-9f02-4015-aabd-afe9d38e1e06 | Shippit                                         |    4.4 |            63\n",
      " 70b700a8-9f02-4015-aabd-afe9d38e1e06 | Shippit                                         |    4.4 |            63\n",
      " 3d3b89f7-bb9e-4cf4-b93f-b98177a056b4 | Teescape                                        |    4.4 |            61\n",
      " bbbdb010-2bd9-4532-8c0b-59d7d20b683b | Modules4U                                       |    4.4 |            58\n",
      " 16e1a38c-22a5-4e12-bd7b-1afac7517b2f | MageWorx                                        |    4.4 |            51\n",
      " e29ca127-1b96-48ec-8baf-7609b656c98b | Kit CRM                                         |    4.3 |          1306\n",
      " e29ca127-1b96-48ec-8baf-7609b656c98b | Kit CRM                                         |    4.3 |          1306\n",
      " b548c3fb-6bd7-46ca-9cc5-892ea1f774a0 | Clever Ecommerce                                |    4.3 |          1082\n",
      " 4058d68d-3f3a-470a-98cb-4bfda1a1c010 | Modalyst                                        |    4.3 |           613\n",
      " 0e00553a-0639-45e9-adfc-d35411c69e45 | BOLD                                            |    4.3 |           541\n",
      " 7677ad53-f172-4d61-8ae2-22856a4cd591 | HulkApps.com                                    |    4.3 |           475\n",
      " 7677ad53-f172-4d61-8ae2-22856a4cd591 | HulkApps.com                                    |    4.3 |           475\n",
      " 3915ce86-f882-43b3-8fd3-7bb019cca345 | Snaprinting                                     |    4.3 |           398\n",
      " 5693ecd3-f06b-4a70-a84b-fb9a3235a874 | Ad Intelligence INC                             |    4.3 |           300\n",
      " 6d3e97d1-7e97-49a0-88c6-0144493219f5 | Booster Apps                                    |    4.3 |           218\n",
      " 11e02a4e-fb03-457f-b22c-fa69ea3660ae | Sumo                                            |    4.3 |           211\n",
      " 11e02a4e-fb03-457f-b22c-fa69ea3660ae | Sumo                                            |    4.3 |           211\n",
      " 11e02a4e-fb03-457f-b22c-fa69ea3660ae | Sumo                                            |    4.3 |           211\n",
      " 817a9d0b-a75e-4c01-8635-a718ce1d2811 | Yousef Khalidi                                  |    4.3 |           198\n",
      " 817a9d0b-a75e-4c01-8635-a718ce1d2811 | Yousef Khalidi                                  |    4.3 |           198\n",
      " f190c04c-a02c-42c9-8efa-a734ad12f17a | SpurIT                                          |    4.3 |           184\n",
      " 8e76ca44-238a-43c7-894d-72f2acc0f86a | Globo                                           |    4.3 |           160\n",
      " 7e67bf1a-ca5c-4ccb-a08b-3811072af9e1 | TradeGecko                                      |    4.3 |           158\n",
      " 7e67bf1a-ca5c-4ccb-a08b-3811072af9e1 | TradeGecko                                      |    4.3 |           158\n",
      " 7188d6b9-6f1c-4737-935d-bf75d9746549 | Customer.guru                                   |    4.3 |           153\n",
      " 7188d6b9-6f1c-4737-935d-bf75d9746549 | Customer.guru                                   |    4.3 |           153\n",
      " 75a732c5-019a-4e45-9833-2b00cb4bf84a | CedCommerce                                     |    4.3 |           147\n",
      " 75a732c5-019a-4e45-9833-2b00cb4bf84a | CedCommerce                                     |    4.3 |           147\n",
      " 75a732c5-019a-4e45-9833-2b00cb4bf84a | CedCommerce                                     |    4.3 |           147\n",
      " fa08df76-d13e-4a37-9123-fd445189bca5 | Sticky Apps                                     |    4.3 |           135\n",
      " 16e2ca06-95b3-4220-ba0f-3d41c2b7bc22 | Storeya                                         |    4.3 |           131\n",
      " 7051762e-afb0-413a-b530-9e747dc7918b | REDretarget                                     |    4.3 |           128\n",
      " 7051762e-afb0-413a-b530-9e747dc7918b | REDretarget                                     |    4.3 |           128\n",
      " 15169cb9-2ea0-4a82-96d6-152a6cc1229b | venntov                                         |    4.3 |           114\n",
      " ef5d29a3-8fd7-46ad-97af-de13747089ec | Alveo.io                                        |    4.3 |           104\n",
      " ef5d29a3-8fd7-46ad-97af-de13747089ec | Alveo.io                                        |    4.3 |           104\n",
      " b5405e48-088b-4a12-8467-f39038b83db8 | Springbot                                       |    4.3 |            83\n",
      " 5a7021a8-6dfe-43e0-a5b1-7b1fdaf66b22 | SolverCircle                                    |    4.3 |            71\n",
      " e4c3167f-75c6-4bcd-9eab-a4ccf6321c75 | Eggflow                                         |    4.3 |            67\n",
      " e4c3167f-75c6-4bcd-9eab-a4ccf6321c75 | Eggflow                                         |    4.3 |            67\n",
      " d4569a63-5969-404d-a7b8-c6c69f1c5811 | ArtInCam LTD                                    |    4.3 |            63\n",
      " 119dabed-4114-45c0-bfff-1e62522317b9 | Shopping Cart Apps                              |    4.3 |            60\n",
      " 60da95c7-a4ee-4191-9409-9f84c46e86fe | Around.io                                       |    4.3 |            52\n",
      " 38ac7acd-b109-431c-908c-e0febd1b16f5 | Impress                                         |    4.3 |            51\n",
      " 38ac7acd-b109-431c-908c-e0febd1b16f5 | Impress                                         |    4.3 |            51\n",
      " de91cade-d5dd-455a-b044-fd88a74e758c | AAAeCommerce Inc                                |    4.3 |            50\n",
      " de91cade-d5dd-455a-b044-fd88a74e758c | AAAeCommerce Inc                                |    4.3 |            50\n",
      " c713ed62-e147-49cc-b183-6d97b3f7e30d | inkFrog, Inc                                    |    4.2 |           367\n",
      " c713ed62-e147-49cc-b183-6d97b3f7e30d | inkFrog, Inc                                    |    4.2 |           367\n",
      " c713ed62-e147-49cc-b183-6d97b3f7e30d | inkFrog, Inc                                    |    4.2 |           367\n",
      " 19b262d1-cd92-4368-a948-181e1d4ce22e | ShopSync                                        |    4.2 |           281\n",
      " 209cd158-e7bd-4a04-8739-2f6a94c79826 | Webkul Software Pvt Ltd                         |    4.2 |           239\n",
      " 127ac98f-ef6e-49f6-8cb4-de90ddd1f1dc | Space Squirrel Ltd.                             |    4.2 |           196\n",
      " aa018c5e-4ef3-4cc2-abdc-634ba6446a43 | Vertex LV                                       |    4.2 |           155\n",
      " aa018c5e-4ef3-4cc2-abdc-634ba6446a43 | Vertex LV                                       |    4.2 |           155\n",
      " e00b1f5b-048c-4604-9b8d-394ac11758f4 | Inventory Source                                |    4.2 |           154\n",
      " 8670e938-4337-4a6e-9cb4-7c68923326f8 | Tabarnapp                                       |    4.2 |           144\n",
      " 1c1bf52d-1433-4d55-8a0f-63705dfc80f7 | Globo                                           |    4.2 |           140\n",
      " 1c1bf52d-1433-4d55-8a0f-63705dfc80f7 | Globo                                           |    4.2 |           140\n",
      " 90a11e36-d958-4a50-90f9-cd0552dca506 | BOLD                                            |    4.2 |           121\n",
      " 90a11e36-d958-4a50-90f9-cd0552dca506 | BOLD                                            |    4.2 |           121\n",
      " 451ff580-d327-4b1b-95fc-c4ff21c30507 | AdScale                                         |    4.2 |            97\n",
      " 451ff580-d327-4b1b-95fc-c4ff21c30507 | AdScale                                         |    4.2 |            97\n",
      " e7230d24-7112-45c3-9a5e-5f370b09b46b | Zendesk                                         |    4.2 |            94\n",
      " cce5af4b-f8b4-4f61-9f0b-8877c0c888f4 | ZINation                                        |    4.2 |            87\n",
      " cce5af4b-f8b4-4f61-9f0b-8877c0c888f4 | ZINation                                        |    4.2 |            87\n",
      " 4ffe9a37-8748-412f-b6fb-5cc27fdce644 | Booster Apps                                    |    4.2 |            68\n",
      " 9519a42e-d65b-4294-b015-45cfda355ffa | Returnly Technologies, Inc                      |    4.2 |            65\n",
      " 9519a42e-d65b-4294-b015-45cfda355ffa | Returnly Technologies, Inc                      |    4.2 |            65\n",
      " 3867ff3c-cc17-48d5-a04c-f8cee19ae6fd | Lay-Buy Financial Solutions Pty Ltd             |    4.2 |            63\n",
      " 3490ce80-01bb-4804-a340-996485fea327 | Webkul Software Pvt Ltd                         |    4.2 |            62\n",
      " 917e0384-af89-4c31-a679-56ba8a01cb3f | Mascot Software Technologies Pvt. Ltd           |    4.2 |            59\n",
      " 917e0384-af89-4c31-a679-56ba8a01cb3f | Mascot Software Technologies Pvt. Ltd           |    4.2 |            59\n",
      " 908d5858-7eb8-4056-b9cb-64ec7da0a097 | DropCommerce                                    |    4.2 |            54\n",
      " 908d5858-7eb8-4056-b9cb-64ec7da0a097 | DropCommerce                                    |    4.2 |            54\n",
      " e5dbf778-98e5-4c71-ba80-e3298d090d28 | Cart2Cart                                       |    4.1 |           181\n",
      " 59f145fd-7303-465e-89c5-a15cea4f65c9 | PLI Negocios                                    |    4.1 |           152\n",
      " 29b48627-c4e9-49c9-8408-179712e0f84f | Company Tools                                   |    4.1 |           150\n",
      " 29b48627-c4e9-49c9-8408-179712e0f84f | Company Tools                                   |    4.1 |           150\n",
      " 29b48627-c4e9-49c9-8408-179712e0f84f | Company Tools                                   |    4.1 |           150\n",
      " fb7a0de6-c6e6-4739-8741-0a922e219ade | Now In Store Inc.                               |    4.1 |           122\n",
      " fb7a0de6-c6e6-4739-8741-0a922e219ade | Now In Store Inc.                               |    4.1 |           122\n",
      " 2fd49890-3ae6-4697-8095-459c374b18e2 | Atom Yard                                       |    4.1 |           114\n",
      " 8dfb7e1f-1c7e-4d44-a6d0-dadfde35fc44 | Login with Amazon                               |    4.1 |            80\n",
      " 477ad64a-a53c-48e7-9188-f1020b870165 | Tabarnapp                                       |    4.1 |            68\n",
      " b4a76da2-f312-491a-8e65-e3c69abd2544 | Orderimp                                        |    4.1 |            60\n",
      " b4a76da2-f312-491a-8e65-e3c69abd2544 | Orderimp                                        |    4.1 |            60\n",
      " b4a76da2-f312-491a-8e65-e3c69abd2544 | Orderimp                                        |    4.1 |            60\n",
      " 4335a43b-3fda-4e0a-9ebc-db33fdc71ab9 | Kudobuzz                                        |    4.1 |            54\n",
      " 61a19aaf-53fa-4ba2-ab60-f501052530a4 | Fuznet                                          |    4.1 |            50\n",
      " e8384bdd-cbcd-4d7a-86eb-781351be0664 | Flexify AG                                      |      4 |           180\n",
      " 77165f16-2d4a-4b04-8ca6-d84ce9951d97 | InstaBadges                                     |      4 |            80\n",
      " c8e8f27c-ffbe-42b4-9c89-69f2e7a32d5f | Brandsdistribution                              |      4 |            72\n",
      " c8e8f27c-ffbe-42b4-9c89-69f2e7a32d5f | Brandsdistribution                              |      4 |            72\n",
      " 941a908d-f142-4348-97c2-317d7c12f98c | Pixels.com                                      |      4 |            68\n",
      " b0f1e2ef-f84d-4986-9c3a-534de7d74b2e | Exportfeed.com                                  |      4 |            62\n",
      "(1132 rows)\n",
      "\n"
     ]
    }
   ],
   "source": [
    "!psql -c \"select a.id, a.developer, a.rating, a.reviews_count from shopify.apps a inner join shopify.apps_categories ac on a.id=ac.app_id inner join shopify.categories c on ac.category_id=c.id where a.rating >= 4.0 and a.reviews_count>=50 order by a.rating desc, a.reviews_count desc\""
   ]
  },
  {
   "cell_type": "markdown",
   "metadata": {},
   "source": [
    "#### Find the apps which are missing a pricing plan or the pricing plans which are missing an app. Return a count of such records. We think we did this query correctly, but one of our update queries made all of the pricing plans have a title and a minimum of 5 dollars."
   ]
  },
  {
   "cell_type": "code",
   "execution_count": 61,
   "metadata": {},
   "outputs": [
    {
     "name": "stdout",
     "output_type": "stream",
     "text": [
      " count \n",
      "-------\n",
      "     2\n",
      "(1 row)\n",
      "\n"
     ]
    }
   ],
   "source": [
    "!psql -c \"select count(*) from shopify.apps a full outer join shopify.pricing_plans pp on a.id=pp.app_id where pp.title is null or a.title is null\""
   ]
  },
  {
   "cell_type": "markdown",
   "metadata": {},
   "source": [
    "#### Find all apps whose key benefits include the word 'security' in either the title or the description of their key benefits. Return the app id, developer, title, and rating. Sort the results by rating in descending order."
   ]
  },
  {
   "cell_type": "code",
   "execution_count": 73,
   "metadata": {},
   "outputs": [
    {
     "name": "stdout",
     "output_type": "stream",
     "text": [
      "                  id                  |             developer             |             title              | rating |             title              \n",
      "--------------------------------------+-----------------------------------+--------------------------------+--------+--------------------------------\n",
      " 1c68fab5-7df6-4fb8-90ee-c8ad03d48747 | App Developer Group               | Ordering Rules ‑ Fraud Blocker |      5 | Create custom rules\n",
      " 607e2d30-1385-4826-a3a6-1fba0ffca7a8 | beeclever                         | Embargo Shield                 |      5 | Risk & Security\n",
      " 65b22742-6a8b-4c4f-b8f2-33025f1a1e6c | Coupo                             | Coupo Trust Badge              |      5 | Boost Conversion Rates\n",
      " 8785d00f-6652-495d-a5e8-18e488e42839 | LitExtension                      | LitExtension Store Migration   |      5 | Most advanced migration tool\n",
      " 3ea45eed-1606-4be5-a93c-21ecbc9f413f | Dimension Software                | Passwordless Social Login      |      5 | Speedy Logins\n",
      " 6d830a4d-bda6-4a91-b1a0-80a124cc7290 | CedCommerce                       | Omni Migrator                  |      5 | Attain Impeccable Security\n",
      " 6ca391f3-cd0f-4059-a436-50b4ab238212 | iSenseLabs                        | Free GDPR + Cookie Management  |      5 | GDPR Policy Page\n",
      " 95368b79-2ca2-4eeb-a02d-a2484275d46a | Varinode, Inc.                    | TRUST                          |    4.9 | Build customer trust/loyalty\n",
      " 30b2e816-061c-46f5-afa5-9f2c94c344e5 | Accentuate Digital                | Accentuate Custom Fields       |    4.9 | Native theme integration\n",
      " c578d9da-7776-4d7d-86b6-9efe431d9c9c | 256 Development                   | Metafields Guru                |    4.9 | Native design and security\n",
      " 30402fc6-2cce-4217-b594-8bb7a84e5208 | Booster Apps                      | Trust Hero ‑ FREE Trust Badges |    4.8 | Security with Trust Badges\n",
      " 7dec7abb-d616-4d11-889b-a286445ef257 | Wholesale Helper                  | Wholesale Lock Manager         |    4.8 | Security and Customize Access\n",
      " 70bff9e0-4316-4cc6-84ce-92fcd1bc6925 | Booster Apps                      | EU Cookie Bar ‑ Cookie GDPR    |    4.7 | One-Click Cookie & GPDR bar\n",
      " 50aaa827-1a4f-4ffd-8bd6-8e6aade34853 | TrustedSite                       | TrustedSite                    |    4.6 | Show you're trustworthy.\n",
      " 00312cea-3595-4d65-a60d-6e8e5b7d6897 | Human Presence Technology         | Shop Protector                 |    4.3 | Best-in-class website security\n",
      " 50c93b6e-3b16-4eeb-afd8-b3d883f49c79 | webserviceXXL                     | Terms Confirmation Checkbox    |    4.3 | More legal security\n",
      " 967aa13b-bd5a-4397-8bee-ceaf52772288 | Vilango GmbH + Trusted Shops GmbH | Trustbadge: Reviews Toolkit    |    4.1 | Conversion rate\n",
      " f6961d6d-ae13-45a9-bbf9-f2a670840ec2 | Shopify                           | Fraud Filter                   |    3.3 | Create custom filters\n",
      " 9906834d-1323-4033-a3e6-976448273c27 | Shoptigrator                      | Zero Spam Contact Form         |      3 | Advanced security from Google\n",
      " 3ebc2404-f110-4b83-b4cf-e22a8d7f4401 | Booster Apps                      | Store Scanner Hero             |    2.3 | Instantly See Key Issues\n",
      " 822217d1-a882-4293-b681-ce29b37c8e7f | Zestard Technologies Pvt Ltd      | Anywhere Custom Forms          |      0 | Engage Customers with Security\n",
      " e0399fb4-5678-48ef-b8b8-21ea2cad1317 | Coalition, Inc.                   | Cyber Insurance                |      0 | Keep your business safe\n",
      " e0399fb4-5678-48ef-b8b8-21ea2cad1317 | Coalition, Inc.                   | Cyber Insurance                |      0 | Assess your security\n",
      " c09427b5-eb85-4944-a8de-ab664ceb9d3c | Alchemative (SMC-PVT) LTD         | Call Courier                   |      0 | Customer Satisfaction\n",
      "(24 rows)\n",
      "\n"
     ]
    }
   ],
   "source": [
    "!psql -c \"select a.id, a.developer, a.title, a.rating, kb.title from shopify.apps a inner join shopify.key_benefits kb on a.id=kb.app_id where kb.title like '%security%' or kb.title like '%Security%' or kb.description like '%security%' or kb.description like '%Security%' order by a.rating desc\""
   ]
  }
 ],
 "metadata": {
  "environment": {
   "kernel": "python3",
   "name": "common-cpu.m110",
   "type": "gcloud",
   "uri": "gcr.io/deeplearning-platform-release/base-cpu:m110"
  },
  "kernelspec": {
   "display_name": "Python 3",
   "language": "python",
   "name": "python3"
  },
  "language_info": {
   "codemirror_mode": {
    "name": "ipython",
    "version": 3
   },
   "file_extension": ".py",
   "mimetype": "text/x-python",
   "name": "python",
   "nbconvert_exporter": "python",
   "pygments_lexer": "ipython3",
   "version": "3.10.12"
  }
 },
 "nbformat": 4,
 "nbformat_minor": 4
}
