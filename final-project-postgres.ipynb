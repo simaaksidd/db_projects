{
 "cells": [
  {
   "cell_type": "markdown",
   "id": "30729451-1504-478d-a1ae-96fe7360aeb9",
   "metadata": {},
   "source": [
    "#### Postgres Time"
   ]
  },
  {
   "cell_type": "code",
   "execution_count": 1,
   "id": "fd3731e6-319d-4575-9042-f58052ad1016",
   "metadata": {},
   "outputs": [],
   "source": [
    "HOST = \"10.87.32.8\"\n",
    "USER = \"postgres\"\n",
    "PW=\"Sim&Ed327E!\"\n",
    "DB=\"final_project\""
   ]
  },
  {
   "cell_type": "code",
   "execution_count": 2,
   "id": "4d6d9315-9bd8-41eb-bdc9-8d60eda40219",
   "metadata": {},
   "outputs": [],
   "source": [
    "import psycopg\n",
    "\n",
    "def connect():\n",
    "    \n",
    "    url = \"dbname='{}' user='{}' host={} port=5432 password={}\".format(DB, USER, HOST, PW)\n",
    "    connection = psycopg.connect(url)\n",
    "\n",
    "    return connection"
   ]
  },
  {
   "cell_type": "code",
   "execution_count": 3,
   "id": "7cb7488b-974c-41aa-8485-1d398b595d85",
   "metadata": {},
   "outputs": [
    {
     "name": "stdout",
     "output_type": "stream",
     "text": [
      "<psycopg.Connection [IDLE] (host=10.87.32.8 user=postgres database=final_project) at 0x7f3a99a12da0>\n"
     ]
    }
   ],
   "source": [
    "import psycopg\n",
    "\n",
    "connection = connect()\n",
    "\n",
    "print(connection)"
   ]
  },
  {
   "cell_type": "code",
   "execution_count": 12,
   "id": "ee323205-bf30-4ea2-afc2-0b98c84d9d46",
   "metadata": {},
   "outputs": [
    {
     "name": "stdout",
     "output_type": "stream",
     "text": [
      "<psycopg.Connection [IDLE] (host=10.87.32.8 user=postgres database=final_project) at 0x7f3a933475b0>\n",
      "DROP TABLE IF EXISTS final_project.reservations\n",
      "CREATE TABLE final_project.reservations(\n",
      "    res_id SERIAL PRIMARY KEY,\n",
      "    cust_id integer NOT NULL,\n",
      "    prp_nm VARCHAR(40) NOT NULL,\n",
      "    prp_ch VARCHAR(40) NOT NULL, \n",
      "    adr_line_1  VARCHAR(41) NOT NULL,\n",
      "    adr_line_2  VARCHAR(41),\n",
      "    city VARCHAR(29) NOT NULL,\n",
      "    state CHAR(2) NOT NULL, \n",
      "    postal_cd VARCHAR(20) NOT NULL,\n",
      "    lat FLOAT NOT NULL, \n",
      "    long FLOAT NOT NULL, \n",
      "    cnt_code VARCHAR(44) NOT NULL,\n",
      "    arr_date VARCHAR(44) NOT NULL,\n",
      "    dep_date VARCHAR(52) NOT NULL,\n",
      "    pmt_amt VARCHAR(52) NOT NULL\n",
      ") \n",
      "Created schema: final_project\n",
      "Dropped reservations table\n",
      "Created person table\n"
     ]
    }
   ],
   "source": [
    "import psycopg\n",
    "\n",
    "connection = connect()\n",
    "print(connection)\n",
    "\n",
    "schema_name = 'final_project'\n",
    "table_name = 'reservations'\n",
    "\n",
    "# SQL statements\n",
    "create_schema = 'CREATE SCHEMA IF NOT EXISTS final_project'\n",
    "\n",
    "drop = 'DROP TABLE IF EXISTS final_project.reservations'\n",
    "\n",
    "create = '''CREATE TABLE final_project.reservations(\n",
    "    res_id SERIAL PRIMARY KEY,\n",
    "    cust_id integer NOT NULL,\n",
    "    prp_nm VARCHAR(40) NOT NULL,\n",
    "    prp_ch VARCHAR(40) NOT NULL, \n",
    "    adr_line_1  VARCHAR(41) NOT NULL,\n",
    "    adr_line_2  VARCHAR(41),\n",
    "    city VARCHAR(29) NOT NULL,\n",
    "    state CHAR(2) NOT NULL, \n",
    "    postal_cd VARCHAR(20) NOT NULL,\n",
    "    lat FLOAT NOT NULL, \n",
    "    long FLOAT NOT NULL, \n",
    "    cnt_code VARCHAR(44) NOT NULL,\n",
    "    arr_date VARCHAR(44) NOT NULL,\n",
    "    dep_date VARCHAR(52) NOT NULL,\n",
    "    pmt_amt VARCHAR(52) NOT NULL\n",
    ") '''\n",
    "\n",
    "print(drop)\n",
    "print(create)\n",
    "\n",
    "try:\n",
    "    cursor = connection.cursor()\n",
    "    cursor.execute(create_schema)\n",
    "    print(f'Created schema: {schema_name}')\n",
    "    \n",
    "    cursor = connection.cursor()\n",
    "    cursor.execute(drop)\n",
    "    print('Dropped reservations table')\n",
    "    \n",
    "    cursor = connection.cursor()\n",
    "    cursor.execute(create)\n",
    "    print('Created person table')\n",
    "    \n",
    "    connection.commit() # commit the changes \n",
    "except Exception as e:\n",
    "    print(\"Error occurred while creating reservations table:\", e)"
   ]
  },
  {
   "cell_type": "code",
   "execution_count": 13,
   "id": "0955caea-7cbe-431c-b05c-de111573d001",
   "metadata": {},
   "outputs": [
    {
     "name": "stdout",
     "output_type": "stream",
     "text": [
      "<psycopg.Connection [IDLE] (host=10.87.32.8 user=postgres database=final_project) at 0x7f3a92f898d0>\n",
      "Wrote 100 records into reservations table\n"
     ]
    }
   ],
   "source": [
    "import psycopg\n",
    "from faker import Faker\n",
    "fake = Faker()\n",
    "Faker.seed(0)\n",
    "import random\n",
    "from datetime import datetime\n",
    "\n",
    "connection = connect()\n",
    "print(connection)\n",
    "\n",
    "sql = \"INSERT INTO final_project.reservations (cust_id, prp_nm, prp_ch, adr_line_1, adr_line_2, city, state, postal_cd, lat, long, cnt_code, arr_date, dep_date,\\\n",
    "       pmt_amt) VALUES (%s, %s, %s, %s, %s, %s, %s, %s, %s, %s, %s, %s, %s, %s)\"\n",
    "\n",
    "records=[]\n",
    "for i in range(100):\n",
    "    random_number = random.randint(1, 50)\n",
    "    property_chain= fake.company()+' '+fake.company_suffix()\n",
    "    arr_date=fake.date_between()\n",
    "    current_date_time = datetime.now()\n",
    "    current_date = current_date_time.date()\n",
    "    end_date=fake.date_between(arr_date,current_date)\n",
    "    dep_date=fake.date_between(arr_date,end_date)\n",
    "    Faker.seed(i+10)\n",
    "    address=fake.address()\n",
    "    holder=address.split(',')\n",
    "    while len(holder)<2:\n",
    "        Faker.seed(i+100)\n",
    "        address=fake.address()\n",
    "        holder=address.split(',')\n",
    "    holder2=holder[1].split(' ')\n",
    "    state=holder2[0]\n",
    "    zipcode=holder2[1]\n",
    "    \n",
    "    rec=(random_number,fake.company(),property_chain,fake.street_address(),None,fake.city(),fake.state_abbr(),fake.zipcode(),fake.latitude(),fake.longitude(),fake.country_code(),arr_date,dep_date,fake.pricetag())\n",
    "    records.append(rec)\n",
    "    \n",
    "try:\n",
    "    cursor = connection.cursor()\n",
    "    \n",
    "    for rec in records:\n",
    "        cursor.execute(sql, rec)\n",
    "    \n",
    "    connection.commit()\n",
    "    print(\"Wrote 100 records into reservations table\")\n",
    "        \n",
    "except Exception as e:\n",
    "    print(\"Failed to insert record into reservations table:\", e)"
   ]
  },
  {
   "cell_type": "code",
   "execution_count": 11,
   "id": "45e1175e-cc00-416d-9f18-e5ac70fab52f",
   "metadata": {
    "tags": []
   },
   "outputs": [
    {
     "name": "stdout",
     "output_type": "stream",
     "text": [
      "psql: error: connection to server on socket \"/var/run/postgresql/.s.PGSQL.5432\" failed: No such file or directory\n",
      "\tIs the server running locally and accepting connections on that socket?\n"
     ]
    }
   ],
   "source": [
    "!psql -c \"select * from final_project.reservations limit 15\""
   ]
  },
  {
   "cell_type": "code",
   "execution_count": null,
   "id": "5e5641fd-b6b9-47a3-9113-cc86abce5184",
   "metadata": {},
   "outputs": [],
   "source": []
  }
 ],
 "metadata": {
  "environment": {
   "kernel": "python3",
   "name": "common-cpu.m110",
   "type": "gcloud",
   "uri": "gcr.io/deeplearning-platform-release/base-cpu:m110"
  },
  "kernelspec": {
   "display_name": "Python 3",
   "language": "python",
   "name": "python3"
  },
  "language_info": {
   "codemirror_mode": {
    "name": "ipython",
    "version": 3
   },
   "file_extension": ".py",
   "mimetype": "text/x-python",
   "name": "python",
   "nbconvert_exporter": "python",
   "pygments_lexer": "ipython3",
   "version": "3.10.12"
  }
 },
 "nbformat": 4,
 "nbformat_minor": 5
}
