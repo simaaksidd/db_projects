{
 "cells": [
  {
   "cell_type": "markdown",
   "id": "0db52f9f-a320-4f8b-b5e9-ba7424935b7c",
   "metadata": {},
   "source": [
    "#### MySQL Time"
   ]
  },
  {
   "cell_type": "code",
   "execution_count": 2,
   "id": "00d8db28-8824-4d6b-a14a-a95c913c52c1",
   "metadata": {},
   "outputs": [],
   "source": [
    "HOST = \"10.87.32.3\"\n",
    "USER = \"root\"\n",
    "PW=\"Sim&Ed327E!\"\n",
    "DB=\"final_project\""
   ]
  },
  {
   "cell_type": "code",
   "execution_count": 3,
   "id": "44f1e9c2-de9d-4761-8bf4-b0a538d35160",
   "metadata": {},
   "outputs": [],
   "source": [
    "import mysql.connector\n",
    "\n",
    "def connect():\n",
    "    connection = mysql.connector.connect(\n",
    "    host=HOST,\n",
    "    user=USER,\n",
    "    password=PW,\n",
    "    database=DB,\n",
    "    autocommit=False)\n",
    "    \n",
    "    return connection"
   ]
  },
  {
   "cell_type": "code",
   "execution_count": 4,
   "id": "70648d6d-ce81-43f6-8827-24b218aa3f8a",
   "metadata": {},
   "outputs": [
    {
     "name": "stdout",
     "output_type": "stream",
     "text": [
      "<mysql.connector.connection_cext.CMySQLConnection object at 0x7f2a58494130>\n"
     ]
    }
   ],
   "source": [
    "import mysql.connector\n",
    "\n",
    "connection = connect()\n",
    "\n",
    "print(connection)"
   ]
  },
  {
   "cell_type": "code",
   "execution_count": 7,
   "id": "b2b98a0a-47dd-4eba-83f6-ada16722e4e8",
   "metadata": {},
   "outputs": [
    {
     "name": "stdout",
     "output_type": "stream",
     "text": [
      "<mysql.connector.connection_cext.CMySQLConnection object at 0x7f2a5238e920>\n",
      "DROP TABLE IF EXISTS person\n",
      "CREATE TABLE person(\n",
      "    cust_id MEDIUMINT NOT NULL AUTO_INCREMENT,\n",
      "    first_name VARCHAR(20) NOT NULL,\n",
      "    last_name VARCHAR(23) NOT NULL,\n",
      "    company VARCHAR(40) NOT NULL, \n",
      "    street_1 VARCHAR(40) NOT NULL,\n",
      "    street_2 VARCHAR(40),\n",
      "    city VARCHAR(29) NOT NULL,\n",
      "    county VARCHAR(30), \n",
      "    state CHAR(2)NOT NULL, \n",
      "    zip CHAR(5) NOT NULL,\n",
      "    phone_1 CHAR(20) NOT NULL,\n",
      "    phone_2 CHAR(20),\n",
      "    email VARCHAR(44) NOT NULL,\n",
      "    PRIMARY KEY  (cust_id)\n",
      ")\n",
      "Dropped person table\n",
      "Created person table\n"
     ]
    }
   ],
   "source": [
    "import mysql.connector\n",
    "\n",
    "connection = connect()\n",
    "print(connection)\n",
    "\n",
    "drop = 'DROP TABLE IF EXISTS person'\n",
    "\n",
    "create = '''CREATE TABLE person(\n",
    "    cust_id MEDIUMINT NOT NULL AUTO_INCREMENT,\n",
    "    first_name VARCHAR(20) NOT NULL,\n",
    "    last_name VARCHAR(23) NOT NULL,\n",
    "    company VARCHAR(40) NOT NULL, \n",
    "    street_1 VARCHAR(40) NOT NULL,\n",
    "    street_2 VARCHAR(40),\n",
    "    city VARCHAR(29) NOT NULL,\n",
    "    county VARCHAR(30), \n",
    "    state CHAR(2)NOT NULL, \n",
    "    zip CHAR(5) NOT NULL,\n",
    "    phone_1 CHAR(20) NOT NULL,\n",
    "    phone_2 CHAR(20),\n",
    "    email VARCHAR(44) NOT NULL,\n",
    "    PRIMARY KEY  (cust_id)\n",
    ")'''\n",
    "\n",
    "print(drop)\n",
    "print(create)\n",
    "\n",
    "try:\n",
    "    cursor = connection.cursor()\n",
    "    cursor.execute(drop)\n",
    "    print('Dropped person table')\n",
    "    \n",
    "    cursor = connection.cursor()\n",
    "    cursor.execute(create)\n",
    "    print('Created person table')\n",
    "except Exception as e:\n",
    "    print(\"Error occurred while creating person table:\", e)"
   ]
  },
  {
   "cell_type": "code",
   "execution_count": 8,
   "id": "eb7b87ce-a085-4ee6-bebf-2cf392269af7",
   "metadata": {},
   "outputs": [
    {
     "name": "stdout",
     "output_type": "stream",
     "text": [
      "<mysql.connector.connection_cext.CMySQLConnection object at 0x7f2a520a00a0>\n",
      "Wrote 50 records into person table\n"
     ]
    }
   ],
   "source": [
    "import mysql.connector\n",
    "from faker import Faker\n",
    "fake = Faker()\n",
    "Faker.seed(0)\n",
    "\n",
    "connection = connect()\n",
    "print(connection)\n",
    "\n",
    "\n",
    "\n",
    "records=[]\n",
    "sql = \"INSERT INTO person (first_name, last_name, company, street_1, city, state, zip, phone_1, email)\\\n",
    " \t  VALUES (%s, %s, %s, %s, %s, %s, %s, %s, %s)\"\n",
    "\n",
    "for i in range(50):\n",
    "    Faker.seed(i+50)\n",
    "    address=fake.address()\n",
    "    holder=address.split(',')\n",
    "    while len(holder)<2:\n",
    "        Faker.seed(i+100)\n",
    "        address=fake.address()\n",
    "        holder=address.split(',')\n",
    "    holder2=holder[1].split(' ')\n",
    "    state=holder2[0]\n",
    "    zipcode=holder2[1]\n",
    "    holder3=fake.phone_number().split('x')\n",
    "    phone_number=holder3[0]\n",
    "    rec=(fake.first_name(),fake.last_name(),fake.company(),fake.street_address(),fake.city(),fake.state_abbr(),fake.zipcode(),phone_number,fake.ascii_safe_email())\n",
    "    records.append(rec)\n",
    "    \n",
    "\n",
    "\n",
    "try:\n",
    "    cursor = connection.cursor()\n",
    "    cursor.executemany(sql, records)\n",
    "    connection.commit()\n",
    "    print('Wrote 50 records into person table')\n",
    "    cursor.close()\n",
    "except Exception as e:\n",
    "    print(\"Error occurred while writing records:\", e)"
   ]
  },
  {
   "cell_type": "code",
   "execution_count": 13,
   "id": "97517547-d375-4d5d-952f-bd724585e02e",
   "metadata": {
    "tags": []
   },
   "outputs": [
    {
     "name": "stdout",
     "output_type": "stream",
     "text": [
      "+----+------------+------------+------------------------------+------------------------------+----------+------------------+--------+-------+-----+------------------+---------+---------------------------+\n",
      "| id | first_name | last_name  | company                      | street_1                     | street_2 | city             | county | state | zip | phone_1          | phone_2 | email                     |\n",
      "+----+------------+------------+------------------------------+------------------------------+----------+------------------+--------+-------+-----+------------------+---------+---------------------------+\n",
      "|  1 | James      | Ramos      | Perkins, Martinez and Dean   | 9187 Clay Via                | NULL     | South Ashley     | NULL   |       | CA  | +1-896-311-9560  | NULL    | christopher58@example.org |\n",
      "|  2 | Kathryn    | Johnson    | Harrison Inc                 | 912 Frederick Springs        | NULL     | Frederickborough | NULL   |       | MS  | (901)508-4072    | NULL    | daniel82@example.net      |\n",
      "|  3 | Cheryl     | Poole      | Watts-Hicks                  | 2253 Brianna Roads Suite 628 | NULL     | Oconnellview     | NULL   |       | UT  | +1-397-583-8827  | NULL    | danielle78@example.com    |\n",
      "|  4 | Tina       | Brown      | Hernandez-Floyd              | 7320 Lucas Neck Apt. 593     | NULL     | North Antonio    | NULL   |       | WA  | 702-805-3733     | NULL    | hooverbrett@example.com   |\n",
      "|  5 | Zachary    | Galvan     | Stephens-Davis               | 7906 Michael Alley Apt. 022  | NULL     | Sancheztown      | NULL   |       | Box | 001-363-730-7879 | NULL    | seanriley@example.com     |\n",
      "|  6 | Wayne      | Burgess    | Perez and Sons               | 45016 Nguyen River Apt. 372  | NULL     | East Kyle        | NULL   |       | NY  | 568-304-0380     | NULL    | scottturner@example.org   |\n",
      "|  7 | Benjamin   | Mclaughlin | Swanson Ltd                  | 8494 West Garden Apt. 273    | NULL     | East Jaime       | NULL   |       | VT  | +1-822-345-7514  | NULL    | traceystewart@example.org |\n",
      "|  8 | William    | Thompson   | Diaz-Holmes                  | 46367 Danielle Mission       | NULL     | South Brentmouth | NULL   |       | MN  | (419)878-4929    | NULL    | cblack@example.net        |\n",
      "|  9 | Craig      | Contreras  | Turner and Sons              | 2993 Eric Mission Apt. 223   | NULL     | West Mariaville  | NULL   |       | LA  | 707-237-1786     | NULL    | qmason@example.net        |\n",
      "| 10 | Misty      | Berry      | Sullivan, Osborne and Chavez | 8649 Nicole Centers          | NULL     | Jacobshaven      | NULL   |       | CT  | +1-305-341-0319  | NULL    | erin45@example.org        |\n",
      "+----+------------+------------+------------------------------+------------------------------+----------+------------------+--------+-------+-----+------------------+---------+---------------------------+\n"
     ]
    }
   ],
   "source": [
    "!mysql final_project -e \"select * from person limit 10\" "
   ]
  },
  {
   "cell_type": "code",
   "execution_count": null,
   "id": "8606fb50-911d-4a38-b30a-cc21824aefb6",
   "metadata": {},
   "outputs": [],
   "source": []
  }
 ],
 "metadata": {
  "environment": {
   "kernel": "python3",
   "name": "common-cpu.m110",
   "type": "gcloud",
   "uri": "gcr.io/deeplearning-platform-release/base-cpu:m110"
  },
  "kernelspec": {
   "display_name": "Python 3",
   "language": "python",
   "name": "python3"
  },
  "language_info": {
   "codemirror_mode": {
    "name": "ipython",
    "version": 3
   },
   "file_extension": ".py",
   "mimetype": "text/x-python",
   "name": "python",
   "nbconvert_exporter": "python",
   "pygments_lexer": "ipython3",
   "version": "3.10.12"
  }
 },
 "nbformat": 4,
 "nbformat_minor": 5
}
